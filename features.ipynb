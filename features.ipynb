{
 "cells": [
  {
   "cell_type": "code",
   "execution_count": 1,
   "metadata": {},
   "outputs": [
    {
     "name": "stderr",
     "output_type": "stream",
     "text": [
      "/home/diego/.local/lib/python3.8/site-packages/scipy/__init__.py:146: UserWarning: A NumPy version >=1.16.5 and <1.23.0 is required for this version of SciPy (detected version 1.24.4\n",
      "  warnings.warn(f\"A NumPy version >={np_minversion} and <{np_maxversion}\"\n",
      "Extracting features:   0%|          | 0/432 [00:00<?, ?it/s]"
     ]
    },
    {
     "name": "stdout",
     "output_type": "stream",
     "text": [
      "[002_S_0295] ➔ columnas vacías detectadas y eliminadas: [34, 35, 80, 81]\n",
      "[002_S_0295] señal tras limpieza: T=140, N=166\n",
      " corr: (166, 166)\n",
      "    → T = 140 muestras; B = 11 bins para MI\n",
      " nmi: (166, 166)\n"
     ]
    },
    {
     "name": "stderr",
     "output_type": "stream",
     "text": [
      "Extracting features:   0%|          | 1/432 [00:08<1:00:16,  8.39s/it]"
     ]
    },
    {
     "name": "stdout",
     "output_type": "stream",
     "text": [
      " gc: (166, 166)\n",
      " dcv: (166, 166)\n",
      "[002_S_0295] guardado en /home/diego/Escritorio/ALL_170/TensorData/CN_tensor_002_S_0295.pt\n",
      "[002_S_0413] ➔ columnas vacías detectadas y eliminadas: [34, 35, 80, 81]\n",
      "[002_S_0413] señal tras limpieza: T=140, N=166\n",
      " corr: (166, 166)\n",
      "    → T = 140 muestras; B = 11 bins para MI\n",
      " nmi: (166, 166)\n"
     ]
    },
    {
     "name": "stderr",
     "output_type": "stream",
     "text": [
      "Extracting features:   0%|          | 2/432 [00:16<59:59,  8.37s/it]  "
     ]
    },
    {
     "name": "stdout",
     "output_type": "stream",
     "text": [
      " gc: (166, 166)\n",
      " dcv: (166, 166)\n",
      "[002_S_0413] guardado en /home/diego/Escritorio/ALL_170/TensorData/CN_tensor_002_S_0413.pt\n",
      "[002_S_0685] ➔ columnas vacías detectadas y eliminadas: [34, 35, 80, 81]\n",
      "[002_S_0685] señal tras limpieza: T=140, N=166\n",
      " corr: (166, 166)\n",
      "    → T = 140 muestras; B = 11 bins para MI\n",
      " nmi: (166, 166)\n"
     ]
    },
    {
     "name": "stderr",
     "output_type": "stream",
     "text": [
      "Extracting features:   1%|          | 3/432 [00:25<59:54,  8.38s/it]"
     ]
    },
    {
     "name": "stdout",
     "output_type": "stream",
     "text": [
      " gc: (166, 166)\n",
      " dcv: (166, 166)\n",
      "[002_S_0685] guardado en /home/diego/Escritorio/ALL_170/TensorData/CN_tensor_002_S_0685.pt\n",
      "[002_S_0729] ➔ columnas vacías detectadas y eliminadas: [34, 35, 80, 81]\n",
      "[002_S_0729] señal tras limpieza: T=140, N=166\n",
      " corr: (166, 166)\n",
      "    → T = 140 muestras; B = 11 bins para MI\n",
      " nmi: (166, 166)\n"
     ]
    },
    {
     "name": "stderr",
     "output_type": "stream",
     "text": [
      "Extracting features:   1%|          | 4/432 [00:33<59:28,  8.34s/it]"
     ]
    },
    {
     "name": "stdout",
     "output_type": "stream",
     "text": [
      " gc: (166, 166)\n",
      " dcv: (166, 166)\n",
      "[002_S_0729] guardado en /home/diego/Escritorio/ALL_170/TensorData/Other_tensor_002_S_0729.pt\n",
      "[002_S_1155] ➔ columnas vacías detectadas y eliminadas: [34, 35, 80, 81]\n",
      "[002_S_1155] señal tras limpieza: T=197, N=166\n",
      " corr: (166, 166)\n",
      "    → T = 197 muestras; B = 14 bins para MI\n",
      " nmi: (166, 166)\n"
     ]
    },
    {
     "name": "stderr",
     "output_type": "stream",
     "text": [
      "Extracting features:   1%|          | 5/432 [00:42<1:01:37,  8.66s/it]"
     ]
    },
    {
     "name": "stdout",
     "output_type": "stream",
     "text": [
      " gc: (166, 166)\n",
      " dcv: (166, 166)\n",
      "[002_S_1155] guardado en /home/diego/Escritorio/ALL_170/TensorData/Other_tensor_002_S_1155.pt\n",
      "[002_S_2010] ➔ columnas vacías detectadas y eliminadas: [34, 35, 80, 81]\n",
      "[002_S_2010] señal tras limpieza: T=140, N=166\n",
      " corr: (166, 166)\n",
      "    → T = 140 muestras; B = 11 bins para MI\n",
      " nmi: (166, 166)\n"
     ]
    },
    {
     "name": "stderr",
     "output_type": "stream",
     "text": [
      "Extracting features:   1%|▏         | 6/432 [00:50<1:00:11,  8.48s/it]"
     ]
    },
    {
     "name": "stdout",
     "output_type": "stream",
     "text": [
      " gc: (166, 166)\n",
      " dcv: (166, 166)\n",
      "[002_S_2010] guardado en /home/diego/Escritorio/ALL_170/TensorData/Other_tensor_002_S_2010.pt\n",
      "[002_S_2043] ➔ columnas vacías detectadas y eliminadas: [34, 35, 80, 81]\n",
      "[002_S_2043] señal tras limpieza: T=140, N=166\n",
      " corr: (166, 166)\n",
      "    → T = 140 muestras; B = 11 bins para MI\n",
      " nmi: (166, 166)\n"
     ]
    },
    {
     "name": "stderr",
     "output_type": "stream",
     "text": [
      "Extracting features:   2%|▏         | 7/432 [00:59<59:50,  8.45s/it]  "
     ]
    },
    {
     "name": "stdout",
     "output_type": "stream",
     "text": [
      " gc: (166, 166)\n",
      " dcv: (166, 166)\n",
      "[002_S_2043] guardado en /home/diego/Escritorio/ALL_170/TensorData/Other_tensor_002_S_2043.pt\n",
      "[002_S_2073] ➔ columnas vacías detectadas y eliminadas: [34, 35, 80, 81]\n",
      "[002_S_2073] señal tras limpieza: T=140, N=166\n",
      " corr: (166, 166)\n",
      "    → T = 140 muestras; B = 11 bins para MI\n",
      " nmi: (166, 166)\n"
     ]
    },
    {
     "name": "stderr",
     "output_type": "stream",
     "text": [
      "Extracting features:   2%|▏         | 8/432 [01:07<59:22,  8.40s/it]"
     ]
    },
    {
     "name": "stdout",
     "output_type": "stream",
     "text": [
      " gc: (166, 166)\n",
      " dcv: (166, 166)\n",
      "[002_S_2073] guardado en /home/diego/Escritorio/ALL_170/TensorData/Other_tensor_002_S_2073.pt\n",
      "[002_S_4171] ➔ columnas vacías detectadas y eliminadas: [34, 35, 80, 81]\n",
      "[002_S_4171] señal tras limpieza: T=140, N=166\n",
      " corr: (166, 166)\n",
      "    → T = 140 muestras; B = 11 bins para MI\n",
      " nmi: (166, 166)\n"
     ]
    },
    {
     "name": "stderr",
     "output_type": "stream",
     "text": [
      "Extracting features:   2%|▏         | 9/432 [01:15<58:54,  8.36s/it]"
     ]
    },
    {
     "name": "stdout",
     "output_type": "stream",
     "text": [
      " gc: (166, 166)\n",
      " dcv: (166, 166)\n",
      "[002_S_4171] guardado en /home/diego/Escritorio/ALL_170/TensorData/Other_tensor_002_S_4171.pt\n",
      "[002_S_4213] ➔ columnas vacías detectadas y eliminadas: [34, 35, 80, 81]\n",
      "[002_S_4213] señal tras limpieza: T=140, N=166\n",
      " corr: (166, 166)\n",
      "    → T = 140 muestras; B = 11 bins para MI\n",
      " nmi: (166, 166)\n"
     ]
    },
    {
     "name": "stderr",
     "output_type": "stream",
     "text": [
      "Extracting features:   2%|▏         | 10/432 [01:23<58:16,  8.29s/it]"
     ]
    },
    {
     "name": "stdout",
     "output_type": "stream",
     "text": [
      " gc: (166, 166)\n",
      " dcv: (166, 166)\n",
      "[002_S_4213] guardado en /home/diego/Escritorio/ALL_170/TensorData/CN_tensor_002_S_4213.pt\n",
      "[002_S_4219] ➔ columnas vacías detectadas y eliminadas: [34, 35, 80, 81]\n",
      "[002_S_4219] señal tras limpieza: T=140, N=166\n",
      " corr: (166, 166)\n",
      "    → T = 140 muestras; B = 11 bins para MI\n",
      " nmi: (166, 166)\n"
     ]
    },
    {
     "name": "stderr",
     "output_type": "stream",
     "text": [
      "Extracting features:   3%|▎         | 11/432 [01:32<58:38,  8.36s/it]"
     ]
    },
    {
     "name": "stdout",
     "output_type": "stream",
     "text": [
      " gc: (166, 166)\n",
      " dcv: (166, 166)\n",
      "[002_S_4219] guardado en /home/diego/Escritorio/ALL_170/TensorData/Other_tensor_002_S_4219.pt\n",
      "[002_S_4229] ➔ columnas vacías detectadas y eliminadas: [34, 35, 80, 81]\n",
      "[002_S_4229] señal tras limpieza: T=140, N=166\n",
      " corr: (166, 166)\n",
      "    → T = 140 muestras; B = 11 bins para MI\n",
      " nmi: (166, 166)\n"
     ]
    },
    {
     "name": "stderr",
     "output_type": "stream",
     "text": [
      "Extracting features:   3%|▎         | 12/432 [01:40<58:36,  8.37s/it]"
     ]
    },
    {
     "name": "stdout",
     "output_type": "stream",
     "text": [
      " gc: (166, 166)\n",
      " dcv: (166, 166)\n",
      "[002_S_4229] guardado en /home/diego/Escritorio/ALL_170/TensorData/Other_tensor_002_S_4229.pt\n",
      "[002_S_4237] ➔ columnas vacías detectadas y eliminadas: [34, 35, 80, 81]\n",
      "[002_S_4237] señal tras limpieza: T=140, N=166\n",
      " corr: (166, 166)\n",
      "    → T = 140 muestras; B = 11 bins para MI\n",
      " nmi: (166, 166)\n"
     ]
    },
    {
     "name": "stderr",
     "output_type": "stream",
     "text": [
      "Extracting features:   3%|▎         | 13/432 [01:49<58:32,  8.38s/it]"
     ]
    },
    {
     "name": "stdout",
     "output_type": "stream",
     "text": [
      " gc: (166, 166)\n",
      " dcv: (166, 166)\n",
      "[002_S_4237] guardado en /home/diego/Escritorio/ALL_170/TensorData/Other_tensor_002_S_4237.pt\n",
      "[002_S_4251] ➔ columnas vacías detectadas y eliminadas: [34, 35, 80, 81]\n",
      "[002_S_4251] señal tras limpieza: T=140, N=166\n",
      " corr: (166, 166)\n",
      "    → T = 140 muestras; B = 11 bins para MI\n",
      " nmi: (166, 166)\n"
     ]
    },
    {
     "name": "stderr",
     "output_type": "stream",
     "text": [
      "Extracting features:   3%|▎         | 14/432 [01:57<58:20,  8.37s/it]"
     ]
    },
    {
     "name": "stdout",
     "output_type": "stream",
     "text": [
      " gc: (166, 166)\n",
      " dcv: (166, 166)\n",
      "[002_S_4251] guardado en /home/diego/Escritorio/ALL_170/TensorData/Other_tensor_002_S_4251.pt\n",
      "[002_S_4262] ➔ columnas vacías detectadas y eliminadas: [34, 35, 80, 81]\n",
      "[002_S_4262] señal tras limpieza: T=140, N=166\n",
      " corr: (166, 166)\n",
      "    → T = 140 muestras; B = 11 bins para MI\n",
      " nmi: (166, 166)\n"
     ]
    },
    {
     "name": "stderr",
     "output_type": "stream",
     "text": [
      "Extracting features:   3%|▎         | 15/432 [02:05<58:07,  8.36s/it]"
     ]
    },
    {
     "name": "stdout",
     "output_type": "stream",
     "text": [
      " gc: (166, 166)\n",
      " dcv: (166, 166)\n",
      "[002_S_4262] guardado en /home/diego/Escritorio/ALL_170/TensorData/CN_tensor_002_S_4262.pt\n",
      "[002_S_4264] ➔ columnas vacías detectadas y eliminadas: [34, 35, 80, 81]\n",
      "[002_S_4264] señal tras limpieza: T=140, N=166\n",
      " corr: (166, 166)\n",
      "    → T = 140 muestras; B = 11 bins para MI\n",
      " nmi: (166, 166)\n"
     ]
    },
    {
     "name": "stderr",
     "output_type": "stream",
     "text": [
      "Extracting features:   4%|▎         | 16/432 [02:14<57:59,  8.36s/it]"
     ]
    },
    {
     "name": "stdout",
     "output_type": "stream",
     "text": [
      " gc: (166, 166)\n",
      " dcv: (166, 166)\n",
      "[002_S_4264] guardado en /home/diego/Escritorio/ALL_170/TensorData/CN_tensor_002_S_4264.pt\n",
      "[002_S_4270] ➔ columnas vacías detectadas y eliminadas: [34, 35, 80, 81]\n",
      "[002_S_4270] señal tras limpieza: T=140, N=166\n",
      " corr: (166, 166)\n",
      "    → T = 140 muestras; B = 11 bins para MI\n",
      " nmi: (166, 166)\n"
     ]
    },
    {
     "name": "stderr",
     "output_type": "stream",
     "text": [
      "Extracting features:   4%|▍         | 17/432 [02:22<58:29,  8.46s/it]"
     ]
    },
    {
     "name": "stdout",
     "output_type": "stream",
     "text": [
      " gc: (166, 166)\n",
      " dcv: (166, 166)\n",
      "[002_S_4270] guardado en /home/diego/Escritorio/ALL_170/TensorData/CN_tensor_002_S_4270.pt\n",
      "[002_S_4473] ➔ columnas vacías detectadas y eliminadas: [34, 35, 80, 81]\n",
      "[002_S_4473] señal tras limpieza: T=197, N=166\n",
      " corr: (166, 166)\n",
      "    → T = 197 muestras; B = 14 bins para MI\n",
      " nmi: (166, 166)\n"
     ]
    },
    {
     "name": "stderr",
     "output_type": "stream",
     "text": [
      "Extracting features:   4%|▍         | 18/432 [02:32<59:44,  8.66s/it]"
     ]
    },
    {
     "name": "stdout",
     "output_type": "stream",
     "text": [
      " gc: (166, 166)\n",
      " dcv: (166, 166)\n",
      "[002_S_4473] guardado en /home/diego/Escritorio/ALL_170/TensorData/Other_tensor_002_S_4473.pt\n",
      "[002_S_4654] ➔ columnas vacías detectadas y eliminadas: [34, 35, 80, 81]\n",
      "[002_S_4654] señal tras limpieza: T=197, N=166\n",
      " corr: (166, 166)\n",
      "    → T = 197 muestras; B = 14 bins para MI\n",
      " nmi: (166, 166)\n"
     ]
    },
    {
     "name": "stderr",
     "output_type": "stream",
     "text": [
      "Extracting features:   4%|▍         | 19/432 [02:41<1:00:28,  8.79s/it]"
     ]
    },
    {
     "name": "stdout",
     "output_type": "stream",
     "text": [
      " gc: (166, 166)\n",
      " dcv: (166, 166)\n",
      "[002_S_4654] guardado en /home/diego/Escritorio/ALL_170/TensorData/Other_tensor_002_S_4654.pt\n",
      "[002_S_4799] ➔ columnas vacías detectadas y eliminadas: [34, 35, 80, 81]\n",
      "[002_S_4799] señal tras limpieza: T=197, N=166\n",
      " corr: (166, 166)\n",
      "    → T = 197 muestras; B = 14 bins para MI\n",
      " nmi: (166, 166)\n"
     ]
    },
    {
     "name": "stderr",
     "output_type": "stream",
     "text": [
      "Extracting features:   5%|▍         | 20/432 [02:50<1:01:08,  8.91s/it]"
     ]
    },
    {
     "name": "stdout",
     "output_type": "stream",
     "text": [
      " gc: (166, 166)\n",
      " dcv: (166, 166)\n",
      "[002_S_4799] guardado en /home/diego/Escritorio/ALL_170/TensorData/Other_tensor_002_S_4799.pt\n",
      "[003_S_0908] ➔ columnas vacías detectadas y eliminadas: [34, 35, 80, 81]\n",
      "[003_S_0908] señal tras limpieza: T=197, N=166\n",
      " corr: (166, 166)\n",
      "    → T = 197 muestras; B = 14 bins para MI\n",
      " nmi: (166, 166)\n"
     ]
    },
    {
     "name": "stderr",
     "output_type": "stream",
     "text": [
      "Extracting features:   5%|▍         | 21/432 [02:59<1:01:10,  8.93s/it]"
     ]
    },
    {
     "name": "stdout",
     "output_type": "stream",
     "text": [
      " gc: (166, 166)\n",
      " dcv: (166, 166)\n",
      "[003_S_0908] guardado en /home/diego/Escritorio/ALL_170/TensorData/Other_tensor_003_S_0908.pt\n",
      "[003_S_1074] ➔ columnas vacías detectadas y eliminadas: [34, 35, 80, 81]\n",
      "[003_S_1074] señal tras limpieza: T=197, N=166\n",
      " corr: (166, 166)\n",
      "    → T = 197 muestras; B = 14 bins para MI\n",
      " nmi: (166, 166)\n"
     ]
    },
    {
     "name": "stderr",
     "output_type": "stream",
     "text": [
      "Extracting features:   5%|▌         | 22/432 [03:08<1:02:05,  9.09s/it]"
     ]
    },
    {
     "name": "stdout",
     "output_type": "stream",
     "text": [
      " gc: (166, 166)\n",
      " dcv: (166, 166)\n",
      "[003_S_1074] guardado en /home/diego/Escritorio/ALL_170/TensorData/Other_tensor_003_S_1074.pt\n",
      "[003_S_1122] ➔ columnas vacías detectadas y eliminadas: [34, 35, 80, 81]\n",
      "[003_S_1122] señal tras limpieza: T=197, N=166\n",
      " corr: (166, 166)\n",
      "    → T = 197 muestras; B = 14 bins para MI\n",
      " nmi: (166, 166)\n"
     ]
    },
    {
     "name": "stderr",
     "output_type": "stream",
     "text": [
      "Extracting features:   5%|▌         | 23/432 [03:17<1:02:00,  9.10s/it]"
     ]
    },
    {
     "name": "stdout",
     "output_type": "stream",
     "text": [
      " gc: (166, 166)\n",
      " dcv: (166, 166)\n",
      "[003_S_1122] guardado en /home/diego/Escritorio/ALL_170/TensorData/Other_tensor_003_S_1122.pt\n",
      "[003_S_4354] ➔ columnas vacías detectadas y eliminadas: [34, 35, 80, 81]\n",
      "[003_S_4354] señal tras limpieza: T=197, N=166\n",
      " corr: (166, 166)\n",
      "    → T = 197 muestras; B = 14 bins para MI\n",
      " nmi: (166, 166)\n"
     ]
    },
    {
     "name": "stderr",
     "output_type": "stream",
     "text": [
      "Extracting features:   6%|▌         | 24/432 [03:27<1:01:57,  9.11s/it]"
     ]
    },
    {
     "name": "stdout",
     "output_type": "stream",
     "text": [
      " gc: (166, 166)\n",
      " dcv: (166, 166)\n",
      "[003_S_4354] guardado en /home/diego/Escritorio/ALL_170/TensorData/Other_tensor_003_S_4354.pt\n",
      "[003_S_6258] ➔ columnas vacías detectadas y eliminadas: [34, 35, 80, 81]\n",
      "[003_S_6258] señal tras limpieza: T=197, N=166\n",
      " corr: (166, 166)\n",
      "    → T = 197 muestras; B = 14 bins para MI\n",
      " nmi: (166, 166)\n",
      " gc: (166, 166)\n",
      " dcv: (166, 166)\n"
     ]
    },
    {
     "name": "stderr",
     "output_type": "stream",
     "text": [
      "Extracting features:   6%|▌         | 25/432 [03:36<1:01:48,  9.11s/it]"
     ]
    },
    {
     "name": "stdout",
     "output_type": "stream",
     "text": [
      "[003_S_6258] guardado en /home/diego/Escritorio/ALL_170/TensorData/Other_tensor_003_S_6258.pt\n",
      "[003_S_6264] ➔ columnas vacías detectadas y eliminadas: [34, 35, 80, 81]\n",
      "[003_S_6264] señal tras limpieza: T=197, N=166\n",
      " corr: (166, 166)\n",
      "    → T = 197 muestras; B = 14 bins para MI\n",
      " nmi: (166, 166)\n"
     ]
    },
    {
     "name": "stderr",
     "output_type": "stream",
     "text": [
      "Extracting features:   6%|▌         | 26/432 [03:45<1:01:50,  9.14s/it]"
     ]
    },
    {
     "name": "stdout",
     "output_type": "stream",
     "text": [
      " gc: (166, 166)\n",
      " dcv: (166, 166)\n",
      "[003_S_6264] guardado en /home/diego/Escritorio/ALL_170/TensorData/AD_tensor_003_S_6264.pt\n",
      "[003_S_6268] ➔ columnas vacías detectadas y eliminadas: [34, 35, 80, 81]\n",
      "[003_S_6268] señal tras limpieza: T=197, N=166\n",
      " corr: (166, 166)\n",
      "    → T = 197 muestras; B = 14 bins para MI\n",
      " nmi: (166, 166)\n",
      " gc: (166, 166)\n",
      " dcv: (166, 166)\n",
      "[003_S_6268] guardado en /home/diego/Escritorio/ALL_170/TensorData/Other_tensor_003_S_6268.pt\n"
     ]
    },
    {
     "name": "stderr",
     "output_type": "stream",
     "text": [
      "Extracting features:   6%|▋         | 27/432 [03:54<1:01:49,  9.16s/it]"
     ]
    },
    {
     "name": "stdout",
     "output_type": "stream",
     "text": [
      "[003_S_6432] ➔ columnas vacías detectadas y eliminadas: [34, 35, 80, 81]\n",
      "[003_S_6432] señal tras limpieza: T=197, N=166\n",
      " corr: (166, 166)\n",
      "    → T = 197 muestras; B = 14 bins para MI\n",
      " nmi: (166, 166)\n"
     ]
    },
    {
     "name": "stderr",
     "output_type": "stream",
     "text": [
      "Extracting features:   6%|▋         | 28/432 [04:03<1:01:47,  9.18s/it]"
     ]
    },
    {
     "name": "stdout",
     "output_type": "stream",
     "text": [
      " gc: (166, 166)\n",
      " dcv: (166, 166)\n",
      "[003_S_6432] guardado en /home/diego/Escritorio/ALL_170/TensorData/Other_tensor_003_S_6432.pt\n",
      "[003_S_6606] ➔ columnas vacías detectadas y eliminadas: [34, 35, 80, 81]\n",
      "[003_S_6606] señal tras limpieza: T=197, N=166\n",
      " corr: (166, 166)\n",
      "    → T = 197 muestras; B = 14 bins para MI\n",
      " nmi: (166, 166)\n",
      " gc: (166, 166)\n"
     ]
    },
    {
     "name": "stderr",
     "output_type": "stream",
     "text": [
      "Extracting features:   7%|▋         | 29/432 [04:12<1:01:37,  9.17s/it]"
     ]
    },
    {
     "name": "stdout",
     "output_type": "stream",
     "text": [
      " dcv: (166, 166)\n",
      "[003_S_6606] guardado en /home/diego/Escritorio/ALL_170/TensorData/Other_tensor_003_S_6606.pt\n",
      "[003_S_6678] ➔ columnas vacías detectadas y eliminadas: [34, 35, 80, 81]\n",
      "[003_S_6678] señal tras limpieza: T=197, N=166\n",
      " corr: (166, 166)\n",
      "    → T = 197 muestras; B = 14 bins para MI\n",
      " nmi: (166, 166)\n"
     ]
    },
    {
     "name": "stderr",
     "output_type": "stream",
     "text": [
      "Extracting features:   7%|▋         | 30/432 [04:22<1:02:03,  9.26s/it]"
     ]
    },
    {
     "name": "stdout",
     "output_type": "stream",
     "text": [
      " gc: (166, 166)\n",
      " dcv: (166, 166)\n",
      "[003_S_6678] guardado en /home/diego/Escritorio/ALL_170/TensorData/Other_tensor_003_S_6678.pt\n",
      "[003_S_6833] ➔ columnas vacías detectadas y eliminadas: [34, 35, 80, 81]\n",
      "[003_S_6833] señal tras limpieza: T=197, N=166\n",
      " corr: (166, 166)\n",
      "    → T = 197 muestras; B = 14 bins para MI\n",
      " nmi: (166, 166)\n"
     ]
    },
    {
     "name": "stderr",
     "output_type": "stream",
     "text": [
      "Extracting features:   7%|▋         | 31/432 [04:32<1:04:13,  9.61s/it]"
     ]
    },
    {
     "name": "stdout",
     "output_type": "stream",
     "text": [
      " gc: (166, 166)\n",
      " dcv: (166, 166)\n",
      "[003_S_6833] guardado en /home/diego/Escritorio/ALL_170/TensorData/AD_tensor_003_S_6833.pt\n",
      "[003_S_6954] ➔ columnas vacías detectadas y eliminadas: [34, 35, 80, 81]\n",
      "[003_S_6954] señal tras limpieza: T=197, N=166\n",
      " corr: (166, 166)\n",
      "    → T = 197 muestras; B = 14 bins para MI\n",
      " nmi: (166, 166)\n",
      " gc: (166, 166)\n",
      " dcv: (166, 166)\n"
     ]
    },
    {
     "name": "stderr",
     "output_type": "stream",
     "text": [
      "Extracting features:   7%|▋         | 32/432 [04:42<1:03:33,  9.53s/it]"
     ]
    },
    {
     "name": "stdout",
     "output_type": "stream",
     "text": [
      "[003_S_6954] guardado en /home/diego/Escritorio/ALL_170/TensorData/Other_tensor_003_S_6954.pt\n",
      "[005_S_4185] ➔ columnas vacías detectadas y eliminadas: [34, 35, 80, 81]\n",
      "[005_S_4185] señal tras limpieza: T=200, N=166\n",
      " corr: (166, 166)\n",
      "    → T = 200 muestras; B = 14 bins para MI\n",
      " nmi: (166, 166)\n"
     ]
    },
    {
     "name": "stderr",
     "output_type": "stream",
     "text": [
      "Extracting features:   8%|▊         | 33/432 [04:51<1:03:46,  9.59s/it]"
     ]
    },
    {
     "name": "stdout",
     "output_type": "stream",
     "text": [
      " gc: (166, 166)\n",
      " dcv: (166, 166)\n",
      "[005_S_4185] guardado en /home/diego/Escritorio/ALL_170/TensorData/Other_tensor_005_S_4185.pt\n",
      "[006_S_0498] ➔ columnas vacías detectadas y eliminadas: [34, 35, 80, 81]\n",
      "[006_S_0498] señal tras limpieza: T=197, N=166\n",
      " corr: (166, 166)\n",
      "    → T = 197 muestras; B = 14 bins para MI\n",
      " nmi: (166, 166)\n"
     ]
    },
    {
     "name": "stderr",
     "output_type": "stream",
     "text": [
      "Extracting features:   8%|▊         | 34/432 [05:01<1:04:27,  9.72s/it]"
     ]
    },
    {
     "name": "stdout",
     "output_type": "stream",
     "text": [
      " gc: (166, 166)\n",
      " dcv: (166, 166)\n",
      "[006_S_0498] guardado en /home/diego/Escritorio/ALL_170/TensorData/CN_tensor_006_S_0498.pt\n",
      "[006_S_0731] ➔ columnas vacías detectadas y eliminadas: [34, 35, 80, 81]\n",
      "[006_S_0731] señal tras limpieza: T=197, N=166\n",
      " corr: (166, 166)\n",
      "    → T = 197 muestras; B = 14 bins para MI\n",
      " nmi: (166, 166)\n"
     ]
    },
    {
     "name": "stderr",
     "output_type": "stream",
     "text": [
      "Extracting features:   8%|▊         | 35/432 [05:11<1:04:28,  9.74s/it]"
     ]
    },
    {
     "name": "stdout",
     "output_type": "stream",
     "text": [
      " gc: (166, 166)\n",
      " dcv: (166, 166)\n",
      "[006_S_0731] guardado en /home/diego/Escritorio/ALL_170/TensorData/CN_tensor_006_S_0731.pt\n",
      "[006_S_4150] ➔ columnas vacías detectadas y eliminadas: [34, 35, 80, 81]\n",
      "[006_S_4150] señal tras limpieza: T=140, N=166\n",
      " corr: (166, 166)\n",
      "    → T = 140 muestras; B = 11 bins para MI\n",
      " nmi: (166, 166)\n"
     ]
    },
    {
     "name": "stderr",
     "output_type": "stream",
     "text": [
      "Extracting features:   8%|▊         | 36/432 [05:20<1:01:35,  9.33s/it]"
     ]
    },
    {
     "name": "stdout",
     "output_type": "stream",
     "text": [
      " gc: (166, 166)\n",
      " dcv: (166, 166)\n",
      "[006_S_4150] guardado en /home/diego/Escritorio/ALL_170/TensorData/CN_tensor_006_S_4150.pt\n",
      "[006_S_4153] ➔ columnas vacías detectadas y eliminadas: [34, 35, 80, 81]\n",
      "[006_S_4153] señal tras limpieza: T=140, N=166\n",
      " corr: (166, 166)\n",
      "    → T = 140 muestras; B = 11 bins para MI\n",
      " nmi: (166, 166)\n"
     ]
    },
    {
     "name": "stderr",
     "output_type": "stream",
     "text": [
      "Extracting features:   9%|▊         | 37/432 [05:28<59:40,  9.06s/it]  "
     ]
    },
    {
     "name": "stdout",
     "output_type": "stream",
     "text": [
      " gc: (166, 166)\n",
      " dcv: (166, 166)\n",
      "[006_S_4153] guardado en /home/diego/Escritorio/ALL_170/TensorData/AD_tensor_006_S_4153.pt\n",
      "[006_S_4192] ➔ columnas vacías detectadas y eliminadas: [34, 35, 80, 81]\n",
      "[006_S_4192] señal tras limpieza: T=140, N=166\n",
      " corr: (166, 166)\n",
      "    → T = 140 muestras; B = 11 bins para MI\n",
      " nmi: (166, 166)\n"
     ]
    },
    {
     "name": "stderr",
     "output_type": "stream",
     "text": [
      "Extracting features:   9%|▉         | 38/432 [05:36<57:43,  8.79s/it]"
     ]
    },
    {
     "name": "stdout",
     "output_type": "stream",
     "text": [
      " gc: (166, 166)\n",
      " dcv: (166, 166)\n",
      "[006_S_4192] guardado en /home/diego/Escritorio/ALL_170/TensorData/AD_tensor_006_S_4192.pt\n",
      "[006_S_4346] ➔ columnas vacías detectadas y eliminadas: [34, 35, 80, 81]\n",
      "[006_S_4346] señal tras limpieza: T=140, N=166\n",
      " corr: (166, 166)\n",
      "    → T = 140 muestras; B = 11 bins para MI\n",
      " nmi: (166, 166)\n"
     ]
    },
    {
     "name": "stderr",
     "output_type": "stream",
     "text": [
      "Extracting features:   9%|▉         | 39/432 [05:44<56:25,  8.61s/it]"
     ]
    },
    {
     "name": "stdout",
     "output_type": "stream",
     "text": [
      " gc: (166, 166)\n",
      " dcv: (166, 166)\n",
      "[006_S_4346] guardado en /home/diego/Escritorio/ALL_170/TensorData/Other_tensor_006_S_4346.pt\n",
      "[006_S_4357] ➔ columnas vacías detectadas y eliminadas: [34, 35, 80, 81]\n",
      "[006_S_4357] señal tras limpieza: T=140, N=166\n",
      " corr: (166, 166)\n",
      "    → T = 140 muestras; B = 11 bins para MI\n",
      " nmi: (166, 166)\n"
     ]
    },
    {
     "name": "stderr",
     "output_type": "stream",
     "text": [
      "Extracting features:   9%|▉         | 40/432 [05:52<54:48,  8.39s/it]"
     ]
    },
    {
     "name": "stdout",
     "output_type": "stream",
     "text": [
      " gc: (166, 166)\n",
      " dcv: (166, 166)\n",
      "[006_S_4357] guardado en /home/diego/Escritorio/ALL_170/TensorData/CN_tensor_006_S_4357.pt\n",
      "[006_S_4363] ➔ columnas vacías detectadas y eliminadas: [34, 35, 80, 81]\n",
      "[006_S_4363] señal tras limpieza: T=140, N=166\n",
      " corr: (166, 166)\n",
      "    → T = 140 muestras; B = 11 bins para MI\n",
      " nmi: (166, 166)\n"
     ]
    },
    {
     "name": "stderr",
     "output_type": "stream",
     "text": [
      "Extracting features:   9%|▉         | 41/432 [06:00<53:38,  8.23s/it]"
     ]
    },
    {
     "name": "stdout",
     "output_type": "stream",
     "text": [
      " gc: (166, 166)\n",
      " dcv: (166, 166)\n",
      "[006_S_4363] guardado en /home/diego/Escritorio/ALL_170/TensorData/Other_tensor_006_S_4363.pt\n",
      "[006_S_4449] ➔ columnas vacías detectadas y eliminadas: [34, 35, 80, 81]\n",
      "[006_S_4449] señal tras limpieza: T=140, N=166\n",
      " corr: (166, 166)\n",
      "    → T = 140 muestras; B = 11 bins para MI\n",
      " nmi: (166, 166)\n"
     ]
    },
    {
     "name": "stderr",
     "output_type": "stream",
     "text": [
      "Extracting features:  10%|▉         | 42/432 [06:08<52:42,  8.11s/it]"
     ]
    },
    {
     "name": "stdout",
     "output_type": "stream",
     "text": [
      " gc: (166, 166)\n",
      " dcv: (166, 166)\n",
      "[006_S_4449] guardado en /home/diego/Escritorio/ALL_170/TensorData/CN_tensor_006_S_4449.pt\n",
      "[006_S_4485] ➔ columnas vacías detectadas y eliminadas: [34, 35, 80, 81]\n",
      "[006_S_4485] señal tras limpieza: T=140, N=166\n",
      " corr: (166, 166)\n",
      "    → T = 140 muestras; B = 11 bins para MI\n",
      " nmi: (166, 166)\n"
     ]
    },
    {
     "name": "stderr",
     "output_type": "stream",
     "text": [
      "Extracting features:  10%|▉         | 43/432 [06:16<51:55,  8.01s/it]"
     ]
    },
    {
     "name": "stdout",
     "output_type": "stream",
     "text": [
      " gc: (166, 166)\n",
      " dcv: (166, 166)\n",
      "[006_S_4485] guardado en /home/diego/Escritorio/ALL_170/TensorData/CN_tensor_006_S_4485.pt\n",
      "[006_S_4546] ➔ columnas vacías detectadas y eliminadas: [34, 35, 80, 81]\n",
      "[006_S_4546] señal tras limpieza: T=140, N=166\n",
      " corr: (166, 166)\n",
      "    → T = 140 muestras; B = 11 bins para MI\n",
      " nmi: (166, 166)\n"
     ]
    },
    {
     "name": "stderr",
     "output_type": "stream",
     "text": [
      "Extracting features:  10%|█         | 44/432 [06:23<51:19,  7.94s/it]"
     ]
    },
    {
     "name": "stdout",
     "output_type": "stream",
     "text": [
      " gc: (166, 166)\n",
      " dcv: (166, 166)\n",
      "[006_S_4546] guardado en /home/diego/Escritorio/ALL_170/TensorData/AD_tensor_006_S_4546.pt\n",
      "[006_S_4679] ➔ columnas vacías detectadas y eliminadas: [34, 35, 80, 81]\n",
      "[006_S_4679] señal tras limpieza: T=140, N=166\n",
      " corr: (166, 166)\n",
      "    → T = 140 muestras; B = 11 bins para MI\n",
      " nmi: (166, 166)\n"
     ]
    },
    {
     "name": "stderr",
     "output_type": "stream",
     "text": [
      "Extracting features:  10%|█         | 45/432 [06:31<50:58,  7.90s/it]"
     ]
    },
    {
     "name": "stdout",
     "output_type": "stream",
     "text": [
      " gc: (166, 166)\n",
      " dcv: (166, 166)\n",
      "[006_S_4679] guardado en /home/diego/Escritorio/ALL_170/TensorData/Other_tensor_006_S_4679.pt\n",
      "[006_S_4713] ➔ columnas vacías detectadas y eliminadas: [34, 35, 80, 81]\n",
      "[006_S_4713] señal tras limpieza: T=140, N=166\n",
      " corr: (166, 166)\n",
      "    → T = 140 muestras; B = 11 bins para MI\n",
      " nmi: (166, 166)\n"
     ]
    },
    {
     "name": "stderr",
     "output_type": "stream",
     "text": [
      "Extracting features:  11%|█         | 46/432 [06:39<50:58,  7.92s/it]"
     ]
    },
    {
     "name": "stdout",
     "output_type": "stream",
     "text": [
      " gc: (166, 166)\n",
      " dcv: (166, 166)\n",
      "[006_S_4713] guardado en /home/diego/Escritorio/ALL_170/TensorData/Other_tensor_006_S_4713.pt\n",
      "[006_S_4867] ➔ columnas vacías detectadas y eliminadas: [34, 35, 80, 81]\n",
      "[006_S_4867] señal tras limpieza: T=140, N=166\n",
      " corr: (166, 166)\n",
      "    → T = 140 muestras; B = 11 bins para MI\n",
      " nmi: (166, 166)\n"
     ]
    },
    {
     "name": "stderr",
     "output_type": "stream",
     "text": [
      "Extracting features:  11%|█         | 47/432 [06:48<52:28,  8.18s/it]"
     ]
    },
    {
     "name": "stdout",
     "output_type": "stream",
     "text": [
      " gc: (166, 166)\n",
      " dcv: (166, 166)\n",
      "[006_S_4867] guardado en /home/diego/Escritorio/ALL_170/TensorData/AD_tensor_006_S_4867.pt\n",
      "[006_S_4960] ➔ columnas vacías detectadas y eliminadas: [34, 35, 80, 81]\n",
      "[006_S_4960] señal tras limpieza: T=140, N=166\n",
      " corr: (166, 166)\n",
      "    → T = 140 muestras; B = 11 bins para MI\n",
      " nmi: (166, 166)\n"
     ]
    },
    {
     "name": "stderr",
     "output_type": "stream",
     "text": [
      "Extracting features:  11%|█         | 48/432 [06:56<52:03,  8.14s/it]"
     ]
    },
    {
     "name": "stdout",
     "output_type": "stream",
     "text": [
      " gc: (166, 166)\n",
      " dcv: (166, 166)\n",
      "[006_S_4960] guardado en /home/diego/Escritorio/ALL_170/TensorData/Other_tensor_006_S_4960.pt\n",
      "[006_S_6209] ➔ columnas vacías detectadas y eliminadas: [34, 35, 80, 81]\n",
      "[006_S_6209] señal tras limpieza: T=197, N=166\n",
      " corr: (166, 166)\n",
      "    → T = 197 muestras; B = 14 bins para MI\n",
      " nmi: (166, 166)\n"
     ]
    },
    {
     "name": "stderr",
     "output_type": "stream",
     "text": [
      "Extracting features:  11%|█▏        | 49/432 [07:05<52:42,  8.26s/it]"
     ]
    },
    {
     "name": "stdout",
     "output_type": "stream",
     "text": [
      " gc: (166, 166)\n",
      " dcv: (166, 166)\n",
      "[006_S_6209] guardado en /home/diego/Escritorio/ALL_170/TensorData/CN_tensor_006_S_6209.pt\n",
      "[006_S_6234] ➔ columnas vacías detectadas y eliminadas: [34, 35, 80, 81]\n",
      "[006_S_6234] señal tras limpieza: T=197, N=166\n",
      " corr: (166, 166)\n",
      "    → T = 197 muestras; B = 14 bins para MI\n",
      " nmi: (166, 166)\n"
     ]
    },
    {
     "name": "stderr",
     "output_type": "stream",
     "text": [
      "Extracting features:  12%|█▏        | 50/432 [07:13<52:57,  8.32s/it]"
     ]
    },
    {
     "name": "stdout",
     "output_type": "stream",
     "text": [
      " gc: (166, 166)\n",
      " dcv: (166, 166)\n",
      "[006_S_6234] guardado en /home/diego/Escritorio/ALL_170/TensorData/CN_tensor_006_S_6234.pt\n",
      "[006_S_6243] ➔ columnas vacías detectadas y eliminadas: [34, 35, 80, 81]\n",
      "[006_S_6243] señal tras limpieza: T=197, N=166\n",
      " corr: (166, 166)\n",
      "    → T = 197 muestras; B = 14 bins para MI\n",
      " nmi: (166, 166)\n"
     ]
    },
    {
     "name": "stderr",
     "output_type": "stream",
     "text": [
      "Extracting features:  12%|█▏        | 51/432 [07:22<53:09,  8.37s/it]"
     ]
    },
    {
     "name": "stdout",
     "output_type": "stream",
     "text": [
      " gc: (166, 166)\n",
      " dcv: (166, 166)\n",
      "[006_S_6243] guardado en /home/diego/Escritorio/ALL_170/TensorData/Other_tensor_006_S_6243.pt\n",
      "[006_S_6252] ➔ columnas vacías detectadas y eliminadas: [34, 35, 80, 81]\n",
      "[006_S_6252] señal tras limpieza: T=197, N=166\n",
      " corr: (166, 166)\n",
      "    → T = 197 muestras; B = 14 bins para MI\n",
      " nmi: (166, 166)\n"
     ]
    },
    {
     "name": "stderr",
     "output_type": "stream",
     "text": [
      "Extracting features:  12%|█▏        | 52/432 [07:30<53:00,  8.37s/it]"
     ]
    },
    {
     "name": "stdout",
     "output_type": "stream",
     "text": [
      " gc: (166, 166)\n",
      " dcv: (166, 166)\n",
      "[006_S_6252] guardado en /home/diego/Escritorio/ALL_170/TensorData/Other_tensor_006_S_6252.pt\n",
      "[006_S_6291] ➔ columnas vacías detectadas y eliminadas: [34, 35, 80, 81]\n",
      "[006_S_6291] señal tras limpieza: T=197, N=166\n",
      " corr: (166, 166)\n",
      "    → T = 197 muestras; B = 14 bins para MI\n",
      " nmi: (166, 166)\n"
     ]
    },
    {
     "name": "stderr",
     "output_type": "stream",
     "text": [
      "Extracting features:  12%|█▏        | 53/432 [07:38<53:02,  8.40s/it]"
     ]
    },
    {
     "name": "stdout",
     "output_type": "stream",
     "text": [
      " gc: (166, 166)\n",
      " dcv: (166, 166)\n",
      "[006_S_6291] guardado en /home/diego/Escritorio/ALL_170/TensorData/Other_tensor_006_S_6291.pt\n",
      "[006_S_6375] ➔ columnas vacías detectadas y eliminadas: [34, 35, 80, 81]\n",
      "[006_S_6375] señal tras limpieza: T=197, N=166\n",
      " corr: (166, 166)\n",
      "    → T = 197 muestras; B = 14 bins para MI\n",
      " nmi: (166, 166)\n"
     ]
    },
    {
     "name": "stderr",
     "output_type": "stream",
     "text": [
      "Extracting features:  12%|█▎        | 54/432 [07:47<52:59,  8.41s/it]"
     ]
    },
    {
     "name": "stdout",
     "output_type": "stream",
     "text": [
      " gc: (166, 166)\n",
      " dcv: (166, 166)\n",
      "[006_S_6375] guardado en /home/diego/Escritorio/ALL_170/TensorData/CN_tensor_006_S_6375.pt\n",
      "[006_S_6441] ➔ columnas vacías detectadas y eliminadas: [34, 35, 80, 81]\n",
      "[006_S_6441] señal tras limpieza: T=197, N=166\n",
      " corr: (166, 166)\n",
      "    → T = 197 muestras; B = 14 bins para MI\n",
      " nmi: (166, 166)\n"
     ]
    },
    {
     "name": "stderr",
     "output_type": "stream",
     "text": [
      "Extracting features:  13%|█▎        | 55/432 [07:55<52:50,  8.41s/it]"
     ]
    },
    {
     "name": "stdout",
     "output_type": "stream",
     "text": [
      " gc: (166, 166)\n",
      " dcv: (166, 166)\n",
      "[006_S_6441] guardado en /home/diego/Escritorio/ALL_170/TensorData/Other_tensor_006_S_6441.pt\n",
      "[006_S_6610] ➔ columnas vacías detectadas y eliminadas: [34, 35, 80, 81]\n",
      "[006_S_6610] señal tras limpieza: T=197, N=166\n",
      " corr: (166, 166)\n",
      "    → T = 197 muestras; B = 14 bins para MI\n",
      " nmi: (166, 166)\n"
     ]
    },
    {
     "name": "stderr",
     "output_type": "stream",
     "text": [
      "Extracting features:  13%|█▎        | 56/432 [08:04<53:06,  8.47s/it]"
     ]
    },
    {
     "name": "stdout",
     "output_type": "stream",
     "text": [
      " gc: (166, 166)\n",
      " dcv: (166, 166)\n",
      "[006_S_6610] guardado en /home/diego/Escritorio/ALL_170/TensorData/Other_tensor_006_S_6610.pt\n",
      "[006_S_6651] ➔ columnas vacías detectadas y eliminadas: [34, 35, 80, 81]\n",
      "[006_S_6651] señal tras limpieza: T=197, N=166\n",
      " corr: (166, 166)\n",
      "    → T = 197 muestras; B = 14 bins para MI\n",
      " nmi: (166, 166)\n"
     ]
    },
    {
     "name": "stderr",
     "output_type": "stream",
     "text": [
      "Extracting features:  13%|█▎        | 57/432 [08:12<52:49,  8.45s/it]"
     ]
    },
    {
     "name": "stdout",
     "output_type": "stream",
     "text": [
      " gc: (166, 166)\n",
      " dcv: (166, 166)\n",
      "[006_S_6651] guardado en /home/diego/Escritorio/ALL_170/TensorData/Other_tensor_006_S_6651.pt\n",
      "[006_S_6657] ➔ columnas vacías detectadas y eliminadas: [34, 35, 80, 81]\n",
      "[006_S_6657] señal tras limpieza: T=197, N=166\n",
      " corr: (166, 166)\n",
      "    → T = 197 muestras; B = 14 bins para MI\n",
      " nmi: (166, 166)\n"
     ]
    },
    {
     "name": "stderr",
     "output_type": "stream",
     "text": [
      "Extracting features:  13%|█▎        | 58/432 [08:21<52:35,  8.44s/it]"
     ]
    },
    {
     "name": "stdout",
     "output_type": "stream",
     "text": [
      " gc: (166, 166)\n",
      " dcv: (166, 166)\n",
      "[006_S_6657] guardado en /home/diego/Escritorio/ALL_170/TensorData/Other_tensor_006_S_6657.pt\n",
      "[006_S_6672] ➔ columnas vacías detectadas y eliminadas: [34, 35, 80, 81]\n",
      "[006_S_6672] señal tras limpieza: T=197, N=166\n",
      " corr: (166, 166)\n",
      "    → T = 197 muestras; B = 14 bins para MI\n",
      " nmi: (166, 166)\n"
     ]
    },
    {
     "name": "stderr",
     "output_type": "stream",
     "text": [
      "Extracting features:  14%|█▎        | 59/432 [08:29<53:01,  8.53s/it]"
     ]
    },
    {
     "name": "stdout",
     "output_type": "stream",
     "text": [
      " gc: (166, 166)\n",
      " dcv: (166, 166)\n",
      "[006_S_6672] guardado en /home/diego/Escritorio/ALL_170/TensorData/Other_tensor_006_S_6672.pt\n",
      "[006_S_6674] ➔ columnas vacías detectadas y eliminadas: [34, 35, 80, 81]\n",
      "[006_S_6674] señal tras limpieza: T=197, N=166\n",
      " corr: (166, 166)\n",
      "    → T = 197 muestras; B = 14 bins para MI\n",
      " nmi: (166, 166)\n"
     ]
    },
    {
     "name": "stderr",
     "output_type": "stream",
     "text": [
      "Extracting features:  14%|█▍        | 60/432 [08:38<53:35,  8.64s/it]"
     ]
    },
    {
     "name": "stdout",
     "output_type": "stream",
     "text": [
      " gc: (166, 166)\n",
      " dcv: (166, 166)\n",
      "[006_S_6674] guardado en /home/diego/Escritorio/ALL_170/TensorData/Other_tensor_006_S_6674.pt\n",
      "[006_S_6677] ➔ columnas vacías detectadas y eliminadas: [34, 35, 80, 81]\n",
      "[006_S_6677] señal tras limpieza: T=197, N=166\n",
      " corr: (166, 166)\n",
      "    → T = 197 muestras; B = 14 bins para MI\n",
      " nmi: (166, 166)\n"
     ]
    },
    {
     "name": "stderr",
     "output_type": "stream",
     "text": [
      "Extracting features:  14%|█▍        | 61/432 [08:47<54:08,  8.76s/it]"
     ]
    },
    {
     "name": "stdout",
     "output_type": "stream",
     "text": [
      " gc: (166, 166)\n",
      " dcv: (166, 166)\n",
      "[006_S_6677] guardado en /home/diego/Escritorio/ALL_170/TensorData/Other_tensor_006_S_6677.pt\n",
      "[006_S_6682] ➔ columnas vacías detectadas y eliminadas: [34, 35, 80, 81]\n",
      "[006_S_6682] señal tras limpieza: T=197, N=166\n",
      " corr: (166, 166)\n",
      "    → T = 197 muestras; B = 14 bins para MI\n",
      " nmi: (166, 166)\n"
     ]
    },
    {
     "name": "stderr",
     "output_type": "stream",
     "text": [
      "Extracting features:  14%|█▍        | 62/432 [08:56<54:37,  8.86s/it]"
     ]
    },
    {
     "name": "stdout",
     "output_type": "stream",
     "text": [
      " gc: (166, 166)\n",
      " dcv: (166, 166)\n",
      "[006_S_6682] guardado en /home/diego/Escritorio/ALL_170/TensorData/Other_tensor_006_S_6682.pt\n",
      "[006_S_6689] ➔ columnas vacías detectadas y eliminadas: [34, 35, 80, 81]\n",
      "[006_S_6689] señal tras limpieza: T=197, N=166\n",
      " corr: (166, 166)\n",
      "    → T = 197 muestras; B = 14 bins para MI\n",
      " nmi: (166, 166)\n"
     ]
    },
    {
     "name": "stderr",
     "output_type": "stream",
     "text": [
      "Extracting features:  15%|█▍        | 63/432 [09:06<55:19,  9.00s/it]"
     ]
    },
    {
     "name": "stdout",
     "output_type": "stream",
     "text": [
      " gc: (166, 166)\n",
      " dcv: (166, 166)\n",
      "[006_S_6689] guardado en /home/diego/Escritorio/ALL_170/TensorData/AD_tensor_006_S_6689.pt\n",
      "[006_S_6696] ➔ columnas vacías detectadas y eliminadas: [34, 35, 80, 81]\n",
      "[006_S_6696] señal tras limpieza: T=197, N=166\n",
      " corr: (166, 166)\n",
      "    → T = 197 muestras; B = 14 bins para MI\n",
      " nmi: (166, 166)\n"
     ]
    },
    {
     "name": "stderr",
     "output_type": "stream",
     "text": [
      "Extracting features:  15%|█▍        | 64/432 [09:15<55:51,  9.11s/it]"
     ]
    },
    {
     "name": "stdout",
     "output_type": "stream",
     "text": [
      " gc: (166, 166)\n",
      " dcv: (166, 166)\n",
      "[006_S_6696] guardado en /home/diego/Escritorio/ALL_170/TensorData/Other_tensor_006_S_6696.pt\n",
      "[006_S_6770] ➔ columnas vacías detectadas y eliminadas: [34, 35, 80, 81]\n",
      "[006_S_6770] señal tras limpieza: T=197, N=166\n",
      " corr: (166, 166)\n",
      "    → T = 197 muestras; B = 14 bins para MI\n",
      " nmi: (166, 166)\n"
     ]
    },
    {
     "name": "stderr",
     "output_type": "stream",
     "text": [
      "Extracting features:  15%|█▌        | 65/432 [09:25<57:30,  9.40s/it]"
     ]
    },
    {
     "name": "stdout",
     "output_type": "stream",
     "text": [
      " gc: (166, 166)\n",
      " dcv: (166, 166)\n",
      "[006_S_6770] guardado en /home/diego/Escritorio/ALL_170/TensorData/Other_tensor_006_S_6770.pt\n",
      "[010_S_4135] ➔ columnas vacías detectadas y eliminadas: [34, 35, 80, 81]\n",
      "[010_S_4135] señal tras limpieza: T=140, N=166\n",
      " corr: (166, 166)\n",
      "    → T = 140 muestras; B = 11 bins para MI\n",
      " nmi: (166, 166)\n"
     ]
    },
    {
     "name": "stderr",
     "output_type": "stream",
     "text": [
      "Extracting features:  15%|█▌        | 66/432 [09:33<55:17,  9.06s/it]"
     ]
    },
    {
     "name": "stdout",
     "output_type": "stream",
     "text": [
      " gc: (166, 166)\n",
      " dcv: (166, 166)\n",
      "[010_S_4135] guardado en /home/diego/Escritorio/ALL_170/TensorData/Other_tensor_010_S_4135.pt\n",
      "[010_S_4442] ➔ columnas vacías detectadas y eliminadas: [34, 35, 80, 81]\n",
      "[010_S_4442] señal tras limpieza: T=140, N=166\n",
      " corr: (166, 166)\n",
      "    → T = 140 muestras; B = 11 bins para MI\n",
      " nmi: (166, 166)\n"
     ]
    },
    {
     "name": "stderr",
     "output_type": "stream",
     "text": [
      "Extracting features:  16%|█▌        | 67/432 [09:42<53:54,  8.86s/it]"
     ]
    },
    {
     "name": "stdout",
     "output_type": "stream",
     "text": [
      " gc: (166, 166)\n",
      " dcv: (166, 166)\n",
      "[010_S_4442] guardado en /home/diego/Escritorio/ALL_170/TensorData/CN_tensor_010_S_4442.pt\n",
      "[010_S_5163] ➔ columnas vacías detectadas y eliminadas: [34, 35, 80, 81]\n",
      "[010_S_5163] señal tras limpieza: T=140, N=166\n",
      " corr: (166, 166)\n",
      "    → T = 140 muestras; B = 11 bins para MI\n",
      " nmi: (166, 166)\n"
     ]
    },
    {
     "name": "stderr",
     "output_type": "stream",
     "text": [
      "Extracting features:  16%|█▌        | 68/432 [09:50<52:44,  8.69s/it]"
     ]
    },
    {
     "name": "stdout",
     "output_type": "stream",
     "text": [
      " gc: (166, 166)\n",
      " dcv: (166, 166)\n",
      "[010_S_5163] guardado en /home/diego/Escritorio/ALL_170/TensorData/AD_tensor_010_S_5163.pt\n",
      "[011_S_4547] ➔ columnas vacías detectadas y eliminadas: [34, 35, 80, 81]\n",
      "[011_S_4547] señal tras limpieza: T=197, N=166\n",
      " corr: (166, 166)\n",
      "    → T = 197 muestras; B = 14 bins para MI\n",
      " nmi: (166, 166)\n"
     ]
    },
    {
     "name": "stderr",
     "output_type": "stream",
     "text": [
      "Extracting features:  16%|█▌        | 69/432 [09:59<53:18,  8.81s/it]"
     ]
    },
    {
     "name": "stdout",
     "output_type": "stream",
     "text": [
      " gc: (166, 166)\n",
      " dcv: (166, 166)\n",
      "[011_S_4547] guardado en /home/diego/Escritorio/ALL_170/TensorData/Other_tensor_011_S_4547.pt\n",
      "[011_S_4827] ➔ columnas vacías detectadas y eliminadas: [34, 35, 80, 81]\n",
      "[011_S_4827] señal tras limpieza: T=197, N=166\n",
      " corr: (166, 166)\n",
      "    → T = 197 muestras; B = 14 bins para MI\n",
      " nmi: (166, 166)\n"
     ]
    },
    {
     "name": "stderr",
     "output_type": "stream",
     "text": [
      "Extracting features:  16%|█▌        | 70/432 [10:08<53:56,  8.94s/it]"
     ]
    },
    {
     "name": "stdout",
     "output_type": "stream",
     "text": [
      " gc: (166, 166)\n",
      " dcv: (166, 166)\n",
      "[011_S_4827] guardado en /home/diego/Escritorio/ALL_170/TensorData/AD_tensor_011_S_4827.pt\n",
      "[011_S_4893] ➔ columnas vacías detectadas y eliminadas: [34, 35, 80, 81]\n",
      "[011_S_4893] señal tras limpieza: T=197, N=166\n",
      " corr: (166, 166)\n",
      "    → T = 197 muestras; B = 14 bins para MI\n",
      " nmi: (166, 166)\n"
     ]
    },
    {
     "name": "stderr",
     "output_type": "stream",
     "text": [
      "Extracting features:  16%|█▋        | 71/432 [10:18<54:32,  9.06s/it]"
     ]
    },
    {
     "name": "stdout",
     "output_type": "stream",
     "text": [
      " gc: (166, 166)\n",
      " dcv: (166, 166)\n",
      "[011_S_4893] guardado en /home/diego/Escritorio/ALL_170/TensorData/Other_tensor_011_S_4893.pt\n",
      "[011_S_6303] ➔ columnas vacías detectadas y eliminadas: [34, 35, 80, 81]\n",
      "[011_S_6303] señal tras limpieza: T=197, N=166\n",
      " corr: (166, 166)\n",
      "    → T = 197 muestras; B = 14 bins para MI\n",
      " nmi: (166, 166)\n"
     ]
    },
    {
     "name": "stderr",
     "output_type": "stream",
     "text": [
      "Extracting features:  17%|█▋        | 72/432 [10:27<53:43,  8.96s/it]"
     ]
    },
    {
     "name": "stdout",
     "output_type": "stream",
     "text": [
      " gc: (166, 166)\n",
      " dcv: (166, 166)\n",
      "[011_S_6303] guardado en /home/diego/Escritorio/ALL_170/TensorData/AD_tensor_011_S_6303.pt\n",
      "[011_S_6618] ➔ columnas vacías detectadas y eliminadas: [34, 35, 80, 81]\n",
      "[011_S_6618] señal tras limpieza: T=197, N=166\n",
      " corr: (166, 166)\n",
      "    → T = 197 muestras; B = 14 bins para MI\n",
      " nmi: (166, 166)\n"
     ]
    },
    {
     "name": "stderr",
     "output_type": "stream",
     "text": [
      "Extracting features:  17%|█▋        | 73/432 [10:35<52:34,  8.79s/it]"
     ]
    },
    {
     "name": "stdout",
     "output_type": "stream",
     "text": [
      " gc: (166, 166)\n",
      " dcv: (166, 166)\n",
      "[011_S_6618] guardado en /home/diego/Escritorio/ALL_170/TensorData/Other_tensor_011_S_6618.pt\n",
      "[012_S_4026] ➔ columnas vacías detectadas y eliminadas: [34, 35, 80, 81]\n",
      "[012_S_4026] señal tras limpieza: T=140, N=166\n",
      " corr: (166, 166)\n",
      "    → T = 140 muestras; B = 11 bins para MI\n",
      " nmi: (166, 166)\n"
     ]
    },
    {
     "name": "stderr",
     "output_type": "stream",
     "text": [
      "Extracting features:  17%|█▋        | 74/432 [10:43<50:52,  8.53s/it]"
     ]
    },
    {
     "name": "stdout",
     "output_type": "stream",
     "text": [
      " gc: (166, 166)\n",
      " dcv: (166, 166)\n",
      "[012_S_4026] guardado en /home/diego/Escritorio/ALL_170/TensorData/CN_tensor_012_S_4026.pt\n",
      "[012_S_4094] ➔ columnas vacías detectadas y eliminadas: [34, 35, 80, 81]\n",
      "[012_S_4094] señal tras limpieza: T=140, N=166\n",
      " corr: (166, 166)\n",
      "    → T = 140 muestras; B = 11 bins para MI\n",
      " nmi: (166, 166)\n"
     ]
    },
    {
     "name": "stderr",
     "output_type": "stream",
     "text": [
      "Extracting features:  17%|█▋        | 75/432 [10:51<49:21,  8.30s/it]"
     ]
    },
    {
     "name": "stdout",
     "output_type": "stream",
     "text": [
      " gc: (166, 166)\n",
      " dcv: (166, 166)\n",
      "[012_S_4094] guardado en /home/diego/Escritorio/ALL_170/TensorData/Other_tensor_012_S_4094.pt\n",
      "[012_S_4128] ➔ columnas vacías detectadas y eliminadas: [34, 35, 80, 81]\n",
      "[012_S_4128] señal tras limpieza: T=140, N=166\n",
      " corr: (166, 166)\n",
      "    → T = 140 muestras; B = 11 bins para MI\n",
      " nmi: (166, 166)\n"
     ]
    },
    {
     "name": "stderr",
     "output_type": "stream",
     "text": [
      "Extracting features:  18%|█▊        | 76/432 [10:58<48:23,  8.16s/it]"
     ]
    },
    {
     "name": "stdout",
     "output_type": "stream",
     "text": [
      " gc: (166, 166)\n",
      " dcv: (166, 166)\n",
      "[012_S_4128] guardado en /home/diego/Escritorio/ALL_170/TensorData/Other_tensor_012_S_4128.pt\n",
      "[012_S_4188] ➔ columnas vacías detectadas y eliminadas: [34, 35, 80, 81]\n",
      "[012_S_4188] señal tras limpieza: T=140, N=166\n",
      " corr: (166, 166)\n",
      "    → T = 140 muestras; B = 11 bins para MI\n",
      " nmi: (166, 166)\n"
     ]
    },
    {
     "name": "stderr",
     "output_type": "stream",
     "text": [
      "Extracting features:  18%|█▊        | 77/432 [11:06<47:37,  8.05s/it]"
     ]
    },
    {
     "name": "stdout",
     "output_type": "stream",
     "text": [
      " gc: (166, 166)\n",
      " dcv: (166, 166)\n",
      "[012_S_4188] guardado en /home/diego/Escritorio/ALL_170/TensorData/Other_tensor_012_S_4188.pt\n",
      "[012_S_4643] ➔ columnas vacías detectadas y eliminadas: [34, 35, 80, 81]\n",
      "[012_S_4643] señal tras limpieza: T=140, N=166\n",
      " corr: (166, 166)\n",
      "    → T = 140 muestras; B = 11 bins para MI\n",
      " nmi: (166, 166)\n"
     ]
    },
    {
     "name": "stderr",
     "output_type": "stream",
     "text": [
      "Extracting features:  18%|█▊        | 78/432 [11:14<46:56,  7.96s/it]"
     ]
    },
    {
     "name": "stdout",
     "output_type": "stream",
     "text": [
      " gc: (166, 166)\n",
      " dcv: (166, 166)\n",
      "[012_S_4643] guardado en /home/diego/Escritorio/ALL_170/TensorData/CN_tensor_012_S_4643.pt\n",
      "[012_S_4849] ➔ columnas vacías detectadas y eliminadas: [34, 35, 80, 81]\n",
      "[012_S_4849] señal tras limpieza: T=140, N=166\n",
      " corr: (166, 166)\n",
      "    → T = 140 muestras; B = 11 bins para MI\n",
      " nmi: (166, 166)\n"
     ]
    },
    {
     "name": "stderr",
     "output_type": "stream",
     "text": [
      "Extracting features:  18%|█▊        | 79/432 [11:22<46:23,  7.89s/it]"
     ]
    },
    {
     "name": "stdout",
     "output_type": "stream",
     "text": [
      " gc: (166, 166)\n",
      " dcv: (166, 166)\n",
      "[012_S_4849] guardado en /home/diego/Escritorio/ALL_170/TensorData/Other_tensor_012_S_4849.pt\n",
      "[012_S_4987] ➔ columnas vacías detectadas y eliminadas: [34, 35, 80, 81]\n",
      "[012_S_4987] señal tras limpieza: T=140, N=166\n",
      " corr: (166, 166)\n",
      "    → T = 140 muestras; B = 11 bins para MI\n",
      " nmi: (166, 166)\n"
     ]
    },
    {
     "name": "stderr",
     "output_type": "stream",
     "text": [
      "Extracting features:  19%|█▊        | 80/432 [11:30<46:39,  7.95s/it]"
     ]
    },
    {
     "name": "stdout",
     "output_type": "stream",
     "text": [
      " gc: (166, 166)\n",
      " dcv: (166, 166)\n",
      "[012_S_4987] guardado en /home/diego/Escritorio/ALL_170/TensorData/Other_tensor_012_S_4987.pt\n",
      "[012_S_6073] ➔ columnas vacías detectadas y eliminadas: [34, 35, 80, 81]\n",
      "[012_S_6073] señal tras limpieza: T=197, N=166\n",
      " corr: (166, 166)\n",
      "    → T = 197 muestras; B = 14 bins para MI\n",
      " nmi: (166, 166)\n"
     ]
    },
    {
     "name": "stderr",
     "output_type": "stream",
     "text": [
      "Extracting features:  19%|█▉        | 81/432 [11:39<48:11,  8.24s/it]"
     ]
    },
    {
     "name": "stdout",
     "output_type": "stream",
     "text": [
      " gc: (166, 166)\n",
      " dcv: (166, 166)\n",
      "[012_S_6073] guardado en /home/diego/Escritorio/ALL_170/TensorData/Other_tensor_012_S_6073.pt\n",
      "[012_S_6503] ➔ columnas vacías detectadas y eliminadas: [34, 35, 80, 81]\n",
      "[012_S_6503] señal tras limpieza: T=197, N=166\n",
      " corr: (166, 166)\n",
      "    → T = 197 muestras; B = 14 bins para MI\n",
      " nmi: (166, 166)\n"
     ]
    },
    {
     "name": "stderr",
     "output_type": "stream",
     "text": [
      "Extracting features:  19%|█▉        | 82/432 [11:47<48:54,  8.38s/it]"
     ]
    },
    {
     "name": "stdout",
     "output_type": "stream",
     "text": [
      " gc: (166, 166)\n",
      " dcv: (166, 166)\n",
      "[012_S_6503] guardado en /home/diego/Escritorio/ALL_170/TensorData/Other_tensor_012_S_6503.pt\n",
      "[012_S_6760] ➔ columnas vacías detectadas y eliminadas: [34, 35, 80, 81]\n",
      "[012_S_6760] señal tras limpieza: T=197, N=166\n",
      " corr: (166, 166)\n",
      "    → T = 197 muestras; B = 14 bins para MI\n",
      " nmi: (166, 166)\n"
     ]
    },
    {
     "name": "stderr",
     "output_type": "stream",
     "text": [
      "Extracting features:  19%|█▉        | 83/432 [11:56<48:57,  8.42s/it]"
     ]
    },
    {
     "name": "stdout",
     "output_type": "stream",
     "text": [
      " gc: (166, 166)\n",
      " dcv: (166, 166)\n",
      "[012_S_6760] guardado en /home/diego/Escritorio/ALL_170/TensorData/Other_tensor_012_S_6760.pt\n",
      "[013_S_1186] ➔ columnas vacías detectadas y eliminadas: [34, 35, 80, 81]\n",
      "[013_S_1186] señal tras limpieza: T=140, N=166\n",
      " corr: (166, 166)\n",
      "    → T = 140 muestras; B = 11 bins para MI\n",
      " nmi: (166, 166)\n"
     ]
    },
    {
     "name": "stderr",
     "output_type": "stream",
     "text": [
      "Extracting features:  19%|█▉        | 84/432 [12:04<47:53,  8.26s/it]"
     ]
    },
    {
     "name": "stdout",
     "output_type": "stream",
     "text": [
      " gc: (166, 166)\n",
      " dcv: (166, 166)\n",
      "[013_S_1186] guardado en /home/diego/Escritorio/ALL_170/TensorData/Other_tensor_013_S_1186.pt\n",
      "[013_S_2324] ➔ columnas vacías detectadas y eliminadas: [34, 35, 80, 81]\n",
      "[013_S_2324] señal tras limpieza: T=140, N=166\n",
      " corr: (166, 166)\n",
      "    → T = 140 muestras; B = 11 bins para MI\n",
      " nmi: (166, 166)\n"
     ]
    },
    {
     "name": "stderr",
     "output_type": "stream",
     "text": [
      "Extracting features:  20%|█▉        | 85/432 [12:12<46:54,  8.11s/it]"
     ]
    },
    {
     "name": "stdout",
     "output_type": "stream",
     "text": [
      " gc: (166, 166)\n",
      " dcv: (166, 166)\n",
      "[013_S_2324] guardado en /home/diego/Escritorio/ALL_170/TensorData/Other_tensor_013_S_2324.pt\n",
      "[013_S_2389] ➔ columnas vacías detectadas y eliminadas: [34, 35, 80, 81]\n",
      "[013_S_2389] señal tras limpieza: T=140, N=166\n",
      " corr: (166, 166)\n",
      "    → T = 140 muestras; B = 11 bins para MI\n",
      " nmi: (166, 166)\n"
     ]
    },
    {
     "name": "stderr",
     "output_type": "stream",
     "text": [
      "Extracting features:  20%|█▉        | 86/432 [12:19<46:05,  7.99s/it]"
     ]
    },
    {
     "name": "stdout",
     "output_type": "stream",
     "text": [
      " gc: (166, 166)\n",
      " dcv: (166, 166)\n",
      "[013_S_2389] guardado en /home/diego/Escritorio/ALL_170/TensorData/Other_tensor_013_S_2389.pt\n",
      "[013_S_4236] ➔ columnas vacías detectadas y eliminadas: [34, 35, 80, 81]\n",
      "[013_S_4236] señal tras limpieza: T=140, N=166\n",
      " corr: (166, 166)\n",
      "    → T = 140 muestras; B = 11 bins para MI\n",
      " nmi: (166, 166)\n"
     ]
    },
    {
     "name": "stderr",
     "output_type": "stream",
     "text": [
      "Extracting features:  20%|██        | 87/432 [12:27<46:06,  8.02s/it]"
     ]
    },
    {
     "name": "stdout",
     "output_type": "stream",
     "text": [
      " gc: (166, 166)\n",
      " dcv: (166, 166)\n",
      "[013_S_4236] guardado en /home/diego/Escritorio/ALL_170/TensorData/Other_tensor_013_S_4236.pt\n",
      "[013_S_4268] ➔ columnas vacías detectadas y eliminadas: [34, 35, 80, 81]\n",
      "[013_S_4268] señal tras limpieza: T=140, N=166\n",
      " corr: (166, 166)\n",
      "    → T = 140 muestras; B = 11 bins para MI\n",
      " nmi: (166, 166)\n"
     ]
    },
    {
     "name": "stderr",
     "output_type": "stream",
     "text": [
      "Extracting features:  20%|██        | 88/432 [12:35<45:32,  7.94s/it]"
     ]
    },
    {
     "name": "stdout",
     "output_type": "stream",
     "text": [
      " gc: (166, 166)\n",
      " dcv: (166, 166)\n",
      "[013_S_4268] guardado en /home/diego/Escritorio/ALL_170/TensorData/Other_tensor_013_S_4268.pt\n",
      "[013_S_4395] ➔ columnas vacías detectadas y eliminadas: [34, 35, 80, 81]\n",
      "[013_S_4395] señal tras limpieza: T=140, N=166\n",
      " corr: (166, 166)\n",
      "    → T = 140 muestras; B = 11 bins para MI\n",
      " nmi: (166, 166)\n"
     ]
    },
    {
     "name": "stderr",
     "output_type": "stream",
     "text": [
      "Extracting features:  21%|██        | 89/432 [12:43<45:05,  7.89s/it]"
     ]
    },
    {
     "name": "stdout",
     "output_type": "stream",
     "text": [
      " gc: (166, 166)\n",
      " dcv: (166, 166)\n",
      "[013_S_4395] guardado en /home/diego/Escritorio/ALL_170/TensorData/Other_tensor_013_S_4395.pt\n",
      "[013_S_4580] ➔ columnas vacías detectadas y eliminadas: [34, 35, 80, 81]\n",
      "[013_S_4580] señal tras limpieza: T=140, N=166\n",
      " corr: (166, 166)\n",
      "    → T = 140 muestras; B = 11 bins para MI\n",
      " nmi: (166, 166)\n"
     ]
    },
    {
     "name": "stderr",
     "output_type": "stream",
     "text": [
      "Extracting features:  21%|██        | 90/432 [12:51<44:32,  7.81s/it]"
     ]
    },
    {
     "name": "stdout",
     "output_type": "stream",
     "text": [
      " gc: (166, 166)\n",
      " dcv: (166, 166)\n",
      "[013_S_4580] guardado en /home/diego/Escritorio/ALL_170/TensorData/CN_tensor_013_S_4580.pt\n",
      "[013_S_4595] ➔ columnas vacías detectadas y eliminadas: [34, 35, 80, 81]\n",
      "[013_S_4595] señal tras limpieza: T=140, N=166\n",
      " corr: (166, 166)\n",
      "    → T = 140 muestras; B = 11 bins para MI\n",
      " nmi: (166, 166)\n"
     ]
    },
    {
     "name": "stderr",
     "output_type": "stream",
     "text": [
      "Extracting features:  21%|██        | 91/432 [12:59<44:58,  7.91s/it]"
     ]
    },
    {
     "name": "stdout",
     "output_type": "stream",
     "text": [
      " gc: (166, 166)\n",
      " dcv: (166, 166)\n",
      "[013_S_4595] guardado en /home/diego/Escritorio/ALL_170/TensorData/Other_tensor_013_S_4595.pt\n",
      "[013_S_4616] ➔ columnas vacías detectadas y eliminadas: [34, 35, 80, 81]\n",
      "[013_S_4616] señal tras limpieza: T=140, N=166\n",
      " corr: (166, 166)\n",
      "    → T = 140 muestras; B = 11 bins para MI\n",
      " nmi: (166, 166)\n"
     ]
    },
    {
     "name": "stderr",
     "output_type": "stream",
     "text": [
      "Extracting features:  21%|██▏       | 92/432 [13:06<44:28,  7.85s/it]"
     ]
    },
    {
     "name": "stdout",
     "output_type": "stream",
     "text": [
      " gc: (166, 166)\n",
      " dcv: (166, 166)\n",
      "[013_S_4616] guardado en /home/diego/Escritorio/ALL_170/TensorData/CN_tensor_013_S_4616.pt\n",
      "[013_S_4731] ➔ columnas vacías detectadas y eliminadas: [34, 35, 80, 81]\n",
      "[013_S_4731] señal tras limpieza: T=140, N=166\n",
      " corr: (166, 166)\n",
      "    → T = 140 muestras; B = 11 bins para MI\n",
      " nmi: (166, 166)\n"
     ]
    },
    {
     "name": "stderr",
     "output_type": "stream",
     "text": [
      "Extracting features:  22%|██▏       | 93/432 [13:14<44:09,  7.82s/it]"
     ]
    },
    {
     "name": "stdout",
     "output_type": "stream",
     "text": [
      " gc: (166, 166)\n",
      " dcv: (166, 166)\n",
      "[013_S_4731] guardado en /home/diego/Escritorio/ALL_170/TensorData/CN_tensor_013_S_4731.pt\n",
      "[013_S_4768] ➔ columnas vacías detectadas y eliminadas: [34, 35, 80, 81]\n",
      "[013_S_4768] señal tras limpieza: T=140, N=166\n",
      " corr: (166, 166)\n",
      "    → T = 140 muestras; B = 11 bins para MI\n",
      " nmi: (166, 166)\n"
     ]
    },
    {
     "name": "stderr",
     "output_type": "stream",
     "text": [
      "Extracting features:  22%|██▏       | 94/432 [13:22<43:51,  7.79s/it]"
     ]
    },
    {
     "name": "stdout",
     "output_type": "stream",
     "text": [
      " gc: (166, 166)\n",
      " dcv: (166, 166)\n",
      "[013_S_4768] guardado en /home/diego/Escritorio/ALL_170/TensorData/Other_tensor_013_S_4768.pt\n",
      "[013_S_4791] ➔ columnas vacías detectadas y eliminadas: [34, 35, 80, 81]\n",
      "[013_S_4791] señal tras limpieza: T=140, N=166\n",
      " corr: (166, 166)\n",
      "    → T = 140 muestras; B = 11 bins para MI\n",
      " nmi: (166, 166)\n"
     ]
    },
    {
     "name": "stderr",
     "output_type": "stream",
     "text": [
      "Extracting features:  22%|██▏       | 95/432 [13:30<44:26,  7.91s/it]"
     ]
    },
    {
     "name": "stdout",
     "output_type": "stream",
     "text": [
      " gc: (166, 166)\n",
      " dcv: (166, 166)\n",
      "[013_S_4791] guardado en /home/diego/Escritorio/ALL_170/TensorData/Other_tensor_013_S_4791.pt\n",
      "[013_S_4917] ➔ columnas vacías detectadas y eliminadas: [34, 35, 80, 81]\n",
      "[013_S_4917] señal tras limpieza: T=140, N=166\n",
      " corr: (166, 166)\n",
      "    → T = 140 muestras; B = 11 bins para MI\n",
      " nmi: (166, 166)\n"
     ]
    },
    {
     "name": "stderr",
     "output_type": "stream",
     "text": [
      "Extracting features:  22%|██▏       | 96/432 [13:38<44:01,  7.86s/it]"
     ]
    },
    {
     "name": "stdout",
     "output_type": "stream",
     "text": [
      " gc: (166, 166)\n",
      " dcv: (166, 166)\n",
      "[013_S_4917] guardado en /home/diego/Escritorio/ALL_170/TensorData/Other_tensor_013_S_4917.pt\n",
      "[013_S_4985] ➔ columnas vacías detectadas y eliminadas: [34, 35, 80, 81]\n",
      "[013_S_4985] señal tras limpieza: T=140, N=166\n",
      " corr: (166, 166)\n",
      "    → T = 140 muestras; B = 11 bins para MI\n",
      " nmi: (166, 166)\n"
     ]
    },
    {
     "name": "stderr",
     "output_type": "stream",
     "text": [
      "Extracting features:  22%|██▏       | 97/432 [13:46<43:43,  7.83s/it]"
     ]
    },
    {
     "name": "stdout",
     "output_type": "stream",
     "text": [
      " gc: (166, 166)\n",
      " dcv: (166, 166)\n",
      "[013_S_4985] guardado en /home/diego/Escritorio/ALL_170/TensorData/Other_tensor_013_S_4985.pt\n",
      "[013_S_5071] ➔ columnas vacías detectadas y eliminadas: [34, 35, 80, 81]\n",
      "[013_S_5071] señal tras limpieza: T=140, N=166\n",
      " corr: (166, 166)\n",
      "    → T = 140 muestras; B = 11 bins para MI\n",
      " nmi: (166, 166)\n"
     ]
    },
    {
     "name": "stderr",
     "output_type": "stream",
     "text": [
      "Extracting features:  23%|██▎       | 98/432 [13:53<43:26,  7.80s/it]"
     ]
    },
    {
     "name": "stdout",
     "output_type": "stream",
     "text": [
      " gc: (166, 166)\n",
      " dcv: (166, 166)\n",
      "[013_S_5071] guardado en /home/diego/Escritorio/ALL_170/TensorData/AD_tensor_013_S_5071.pt\n",
      "[013_S_6206] ➔ columnas vacías detectadas y eliminadas: [34, 35, 80, 81]\n",
      "[013_S_6206] señal tras limpieza: T=197, N=166\n",
      " corr: (166, 166)\n",
      "    → T = 197 muestras; B = 14 bins para MI\n",
      " nmi: (166, 166)\n"
     ]
    },
    {
     "name": "stderr",
     "output_type": "stream",
     "text": [
      "Extracting features:  23%|██▎       | 99/432 [14:02<45:02,  8.11s/it]"
     ]
    },
    {
     "name": "stdout",
     "output_type": "stream",
     "text": [
      " gc: (166, 166)\n",
      " dcv: (166, 166)\n",
      "[013_S_6206] guardado en /home/diego/Escritorio/ALL_170/TensorData/Other_tensor_013_S_6206.pt\n",
      "[013_S_6725] ➔ columnas vacías detectadas y eliminadas: [34, 35, 80, 81]\n",
      "[013_S_6725] señal tras limpieza: T=197, N=166\n",
      " corr: (166, 166)\n",
      "    → T = 197 muestras; B = 14 bins para MI\n",
      " nmi: (166, 166)\n"
     ]
    },
    {
     "name": "stderr",
     "output_type": "stream",
     "text": [
      "Extracting features:  23%|██▎       | 100/432 [14:11<45:19,  8.19s/it]"
     ]
    },
    {
     "name": "stdout",
     "output_type": "stream",
     "text": [
      " gc: (166, 166)\n",
      " dcv: (166, 166)\n",
      "[013_S_6725] guardado en /home/diego/Escritorio/ALL_170/TensorData/Other_tensor_013_S_6725.pt\n",
      "[013_S_6768] ➔ columnas vacías detectadas y eliminadas: [34, 35, 80, 81]\n",
      "[013_S_6768] señal tras limpieza: T=197, N=166\n",
      " corr: (166, 166)\n",
      "    → T = 197 muestras; B = 14 bins para MI\n",
      " nmi: (166, 166)\n"
     ]
    },
    {
     "name": "stderr",
     "output_type": "stream",
     "text": [
      "Extracting features:  23%|██▎       | 101/432 [14:19<45:39,  8.28s/it]"
     ]
    },
    {
     "name": "stdout",
     "output_type": "stream",
     "text": [
      " gc: (166, 166)\n",
      " dcv: (166, 166)\n",
      "[013_S_6768] guardado en /home/diego/Escritorio/ALL_170/TensorData/AD_tensor_013_S_6768.pt\n",
      "[013_S_6970] ➔ columnas vacías detectadas y eliminadas: [34, 35, 80, 81]\n",
      "[013_S_6970] señal tras limpieza: T=197, N=166\n",
      " corr: (166, 166)\n",
      "    → T = 197 muestras; B = 14 bins para MI\n",
      " nmi: (166, 166)\n",
      " gc: (166, 166)\n",
      " dcv: (166, 166)\n"
     ]
    },
    {
     "name": "stderr",
     "output_type": "stream",
     "text": [
      "Extracting features:  24%|██▎       | 102/432 [14:28<47:12,  8.58s/it]"
     ]
    },
    {
     "name": "stdout",
     "output_type": "stream",
     "text": [
      "[013_S_6970] guardado en /home/diego/Escritorio/ALL_170/TensorData/Other_tensor_013_S_6970.pt\n",
      "[013_S_6975] ➔ columnas vacías detectadas y eliminadas: [34, 35, 80, 81]\n",
      "[013_S_6975] señal tras limpieza: T=197, N=166\n",
      " corr: (166, 166)\n",
      "    → T = 197 muestras; B = 14 bins para MI\n",
      " nmi: (166, 166)\n"
     ]
    },
    {
     "name": "stderr",
     "output_type": "stream",
     "text": [
      "Extracting features:  24%|██▍       | 103/432 [14:38<48:17,  8.81s/it]"
     ]
    },
    {
     "name": "stdout",
     "output_type": "stream",
     "text": [
      " gc: (166, 166)\n",
      " dcv: (166, 166)\n",
      "[013_S_6975] guardado en /home/diego/Escritorio/ALL_170/TensorData/AD_tensor_013_S_6975.pt\n",
      "[013_S_7097] ➔ columnas vacías detectadas y eliminadas: [34, 35, 80, 81]\n",
      "[013_S_7097] señal tras limpieza: T=197, N=166\n",
      " corr: (166, 166)\n",
      "    → T = 197 muestras; B = 14 bins para MI\n",
      " nmi: (166, 166)\n"
     ]
    },
    {
     "name": "stderr",
     "output_type": "stream",
     "text": [
      "Extracting features:  24%|██▍       | 104/432 [14:47<48:35,  8.89s/it]"
     ]
    },
    {
     "name": "stdout",
     "output_type": "stream",
     "text": [
      " gc: (166, 166)\n",
      " dcv: (166, 166)\n",
      "[013_S_7097] guardado en /home/diego/Escritorio/ALL_170/TensorData/Other_tensor_013_S_7097.pt\n",
      "[014_S_2308] ➔ columnas vacías detectadas y eliminadas: [34, 35, 80, 81]\n",
      "[014_S_2308] señal tras limpieza: T=197, N=166\n",
      " corr: (166, 166)\n",
      "    → T = 197 muestras; B = 14 bins para MI\n",
      " nmi: (166, 166)\n"
     ]
    },
    {
     "name": "stderr",
     "output_type": "stream",
     "text": [
      "Extracting features:  24%|██▍       | 105/432 [14:56<49:28,  9.08s/it]"
     ]
    },
    {
     "name": "stdout",
     "output_type": "stream",
     "text": [
      " gc: (166, 166)\n",
      " dcv: (166, 166)\n",
      "[014_S_2308] guardado en /home/diego/Escritorio/ALL_170/TensorData/Other_tensor_014_S_2308.pt\n",
      "[014_S_6087] ➔ columnas vacías detectadas y eliminadas: [34, 35, 80, 81]\n",
      "[014_S_6087] señal tras limpieza: T=197, N=166\n",
      " corr: (166, 166)\n",
      "    → T = 197 muestras; B = 14 bins para MI\n",
      " nmi: (166, 166)\n"
     ]
    },
    {
     "name": "stderr",
     "output_type": "stream",
     "text": [
      "Extracting features:  25%|██▍       | 106/432 [15:06<50:41,  9.33s/it]"
     ]
    },
    {
     "name": "stdout",
     "output_type": "stream",
     "text": [
      " gc: (166, 166)\n",
      " dcv: (166, 166)\n",
      "[014_S_6087] guardado en /home/diego/Escritorio/ALL_170/TensorData/Other_tensor_014_S_6087.pt\n",
      "[014_S_6765] ➔ columnas vacías detectadas y eliminadas: [34, 35, 80, 81]\n",
      "[014_S_6765] señal tras limpieza: T=197, N=166\n",
      " corr: (166, 166)\n",
      "    → T = 197 muestras; B = 14 bins para MI\n",
      " nmi: (166, 166)\n"
     ]
    },
    {
     "name": "stderr",
     "output_type": "stream",
     "text": [
      "Extracting features:  25%|██▍       | 107/432 [15:15<50:16,  9.28s/it]"
     ]
    },
    {
     "name": "stdout",
     "output_type": "stream",
     "text": [
      " gc: (166, 166)\n",
      " dcv: (166, 166)\n",
      "[014_S_6765] guardado en /home/diego/Escritorio/ALL_170/TensorData/Other_tensor_014_S_6765.pt\n",
      "[014_S_6944] ➔ columnas vacías detectadas y eliminadas: [34, 35, 80, 81]\n",
      "[014_S_6944] señal tras limpieza: T=197, N=166\n",
      " corr: (166, 166)\n",
      "    → T = 197 muestras; B = 14 bins para MI\n",
      " nmi: (166, 166)\n"
     ]
    },
    {
     "name": "stderr",
     "output_type": "stream",
     "text": [
      "Extracting features:  25%|██▌       | 108/432 [15:24<49:43,  9.21s/it]"
     ]
    },
    {
     "name": "stdout",
     "output_type": "stream",
     "text": [
      " gc: (166, 166)\n",
      " dcv: (166, 166)\n",
      "[014_S_6944] guardado en /home/diego/Escritorio/ALL_170/TensorData/Other_tensor_014_S_6944.pt\n",
      "[018_S_2133] ➔ columnas vacías detectadas y eliminadas: [34, 35, 80, 81]\n",
      "[018_S_2133] señal tras limpieza: T=140, N=166\n",
      " corr: (166, 166)\n",
      "    → T = 140 muestras; B = 11 bins para MI\n",
      " nmi: (166, 166)\n"
     ]
    },
    {
     "name": "stderr",
     "output_type": "stream",
     "text": [
      "Extracting features:  25%|██▌       | 109/432 [15:33<48:13,  8.96s/it]"
     ]
    },
    {
     "name": "stdout",
     "output_type": "stream",
     "text": [
      " gc: (166, 166)\n",
      " dcv: (166, 166)\n",
      "[018_S_2133] guardado en /home/diego/Escritorio/ALL_170/TensorData/Other_tensor_018_S_2133.pt\n",
      "[018_S_2155] ➔ columnas vacías detectadas y eliminadas: [34, 35, 80, 81]\n",
      "[018_S_2155] señal tras limpieza: T=140, N=166\n",
      " corr: (166, 166)\n",
      "    → T = 140 muestras; B = 11 bins para MI\n",
      " nmi: (166, 166)\n"
     ]
    },
    {
     "name": "stderr",
     "output_type": "stream",
     "text": [
      "Extracting features:  25%|██▌       | 110/432 [15:41<47:18,  8.82s/it]"
     ]
    },
    {
     "name": "stdout",
     "output_type": "stream",
     "text": [
      " gc: (166, 166)\n",
      " dcv: (166, 166)\n",
      "[018_S_2155] guardado en /home/diego/Escritorio/ALL_170/TensorData/Other_tensor_018_S_2155.pt\n",
      "[018_S_2180] ➔ columnas vacías detectadas y eliminadas: [34, 35, 80, 81]\n",
      "[018_S_2180] señal tras limpieza: T=140, N=166\n",
      " corr: (166, 166)\n",
      "    → T = 140 muestras; B = 11 bins para MI\n",
      " nmi: (166, 166)\n"
     ]
    },
    {
     "name": "stderr",
     "output_type": "stream",
     "text": [
      "Extracting features:  26%|██▌       | 111/432 [15:50<46:37,  8.72s/it]"
     ]
    },
    {
     "name": "stdout",
     "output_type": "stream",
     "text": [
      " gc: (166, 166)\n",
      " dcv: (166, 166)\n",
      "[018_S_2180] guardado en /home/diego/Escritorio/ALL_170/TensorData/Other_tensor_018_S_2180.pt\n",
      "[018_S_4257] ➔ columnas vacías detectadas y eliminadas: [34, 35, 80, 81]\n",
      "[018_S_4257] señal tras limpieza: T=140, N=166\n",
      " corr: (166, 166)\n",
      "    → T = 140 muestras; B = 11 bins para MI\n",
      " nmi: (166, 166)\n"
     ]
    },
    {
     "name": "stderr",
     "output_type": "stream",
     "text": [
      "Extracting features:  26%|██▌       | 112/432 [15:58<45:46,  8.58s/it]"
     ]
    },
    {
     "name": "stdout",
     "output_type": "stream",
     "text": [
      " gc: (166, 166)\n",
      " dcv: (166, 166)\n",
      "[018_S_4257] guardado en /home/diego/Escritorio/ALL_170/TensorData/CN_tensor_018_S_4257.pt\n",
      "[018_S_4313] ➔ columnas vacías detectadas y eliminadas: [34, 35, 80, 81]\n",
      "[018_S_4313] señal tras limpieza: T=140, N=166\n",
      " corr: (166, 166)\n",
      "    → T = 140 muestras; B = 11 bins para MI\n",
      " nmi: (166, 166)\n"
     ]
    },
    {
     "name": "stderr",
     "output_type": "stream",
     "text": [
      "Extracting features:  26%|██▌       | 113/432 [16:06<45:27,  8.55s/it]"
     ]
    },
    {
     "name": "stdout",
     "output_type": "stream",
     "text": [
      " gc: (166, 166)\n",
      " dcv: (166, 166)\n",
      "[018_S_4313] guardado en /home/diego/Escritorio/ALL_170/TensorData/CN_tensor_018_S_4313.pt\n",
      "[018_S_4349] ➔ columnas vacías detectadas y eliminadas: [34, 35, 80, 81]\n",
      "[018_S_4349] señal tras limpieza: T=140, N=166\n",
      " corr: (166, 166)\n",
      "    → T = 140 muestras; B = 11 bins para MI\n",
      " nmi: (166, 166)\n"
     ]
    },
    {
     "name": "stderr",
     "output_type": "stream",
     "text": [
      "Extracting features:  26%|██▋       | 114/432 [16:15<46:07,  8.70s/it]"
     ]
    },
    {
     "name": "stdout",
     "output_type": "stream",
     "text": [
      " gc: (166, 166)\n",
      " dcv: (166, 166)\n",
      "[018_S_4349] guardado en /home/diego/Escritorio/ALL_170/TensorData/CN_tensor_018_S_4349.pt\n",
      "[018_S_4400] ➔ columnas vacías detectadas y eliminadas: [34, 35, 80, 81]\n",
      "[018_S_4400] señal tras limpieza: T=140, N=166\n",
      " corr: (166, 166)\n",
      "    → T = 140 muestras; B = 11 bins para MI\n",
      " nmi: (166, 166)\n"
     ]
    },
    {
     "name": "stderr",
     "output_type": "stream",
     "text": [
      "Extracting features:  27%|██▋       | 115/432 [16:23<44:51,  8.49s/it]"
     ]
    },
    {
     "name": "stdout",
     "output_type": "stream",
     "text": [
      " gc: (166, 166)\n",
      " dcv: (166, 166)\n",
      "[018_S_4400] guardado en /home/diego/Escritorio/ALL_170/TensorData/CN_tensor_018_S_4400.pt\n",
      "[018_S_4597] ➔ columnas vacías detectadas y eliminadas: [34, 35, 80, 81]\n",
      "[018_S_4597] señal tras limpieza: T=140, N=166\n",
      " corr: (166, 166)\n",
      "    → T = 140 muestras; B = 11 bins para MI\n",
      " nmi: (166, 166)\n"
     ]
    },
    {
     "name": "stderr",
     "output_type": "stream",
     "text": [
      "Extracting features:  27%|██▋       | 116/432 [16:31<43:44,  8.30s/it]"
     ]
    },
    {
     "name": "stdout",
     "output_type": "stream",
     "text": [
      " gc: (166, 166)\n",
      " dcv: (166, 166)\n",
      "[018_S_4597] guardado en /home/diego/Escritorio/ALL_170/TensorData/Other_tensor_018_S_4597.pt\n",
      "[018_S_4696] ➔ columnas vacías detectadas y eliminadas: [34, 35, 80, 81]\n",
      "[018_S_4696] señal tras limpieza: T=140, N=166\n",
      " corr: (166, 166)\n",
      "    → T = 140 muestras; B = 11 bins para MI\n",
      " nmi: (166, 166)\n"
     ]
    },
    {
     "name": "stderr",
     "output_type": "stream",
     "text": [
      "Extracting features:  27%|██▋       | 117/432 [16:39<42:45,  8.15s/it]"
     ]
    },
    {
     "name": "stdout",
     "output_type": "stream",
     "text": [
      " gc: (166, 166)\n",
      " dcv: (166, 166)\n",
      "[018_S_4696] guardado en /home/diego/Escritorio/ALL_170/TensorData/AD_tensor_018_S_4696.pt\n",
      "[018_S_4733] ➔ columnas vacías detectadas y eliminadas: [34, 35, 80, 81]\n",
      "[018_S_4733] señal tras limpieza: T=140, N=166\n",
      " corr: (166, 166)\n",
      "    → T = 140 muestras; B = 11 bins para MI\n",
      " nmi: (166, 166)\n"
     ]
    },
    {
     "name": "stderr",
     "output_type": "stream",
     "text": [
      "Extracting features:  27%|██▋       | 118/432 [16:47<41:56,  8.01s/it]"
     ]
    },
    {
     "name": "stdout",
     "output_type": "stream",
     "text": [
      " gc: (166, 166)\n",
      " dcv: (166, 166)\n",
      "[018_S_4733] guardado en /home/diego/Escritorio/ALL_170/TensorData/AD_tensor_018_S_4733.pt\n",
      "[018_S_4809] ➔ columnas vacías detectadas y eliminadas: [34, 35, 80, 81]\n",
      "[018_S_4809] señal tras limpieza: T=140, N=166\n",
      " corr: (166, 166)\n",
      "    → T = 140 muestras; B = 11 bins para MI\n",
      " nmi: (166, 166)\n"
     ]
    },
    {
     "name": "stderr",
     "output_type": "stream",
     "text": [
      "Extracting features:  28%|██▊       | 119/432 [16:55<41:25,  7.94s/it]"
     ]
    },
    {
     "name": "stdout",
     "output_type": "stream",
     "text": [
      " gc: (166, 166)\n",
      " dcv: (166, 166)\n",
      "[018_S_4809] guardado en /home/diego/Escritorio/ALL_170/TensorData/Other_tensor_018_S_4809.pt\n",
      "[018_S_4868] ➔ columnas vacías detectadas y eliminadas: [34, 35, 80, 81]\n",
      "[018_S_4868] señal tras limpieza: T=140, N=166\n",
      " corr: (166, 166)\n",
      "    → T = 140 muestras; B = 11 bins para MI\n",
      " nmi: (166, 166)\n"
     ]
    },
    {
     "name": "stderr",
     "output_type": "stream",
     "text": [
      "Extracting features:  28%|██▊       | 120/432 [17:02<40:53,  7.86s/it]"
     ]
    },
    {
     "name": "stdout",
     "output_type": "stream",
     "text": [
      " gc: (166, 166)\n",
      " dcv: (166, 166)\n",
      "[018_S_4868] guardado en /home/diego/Escritorio/ALL_170/TensorData/Other_tensor_018_S_4868.pt\n",
      "[018_S_4889] ➔ columnas vacías detectadas y eliminadas: [34, 35, 80, 81]\n",
      "[018_S_4889] señal tras limpieza: T=140, N=166\n",
      " corr: (166, 166)\n",
      "    → T = 140 muestras; B = 11 bins para MI\n",
      " nmi: (166, 166)\n"
     ]
    },
    {
     "name": "stderr",
     "output_type": "stream",
     "text": [
      "Extracting features:  28%|██▊       | 121/432 [17:10<40:31,  7.82s/it]"
     ]
    },
    {
     "name": "stdout",
     "output_type": "stream",
     "text": [
      " gc: (166, 166)\n",
      " dcv: (166, 166)\n",
      "[018_S_4889] guardado en /home/diego/Escritorio/ALL_170/TensorData/Other_tensor_018_S_4889.pt\n",
      "[018_S_5074] ➔ columnas vacías detectadas y eliminadas: [34, 35, 80, 81]\n",
      "[018_S_5074] señal tras limpieza: T=140, N=166\n",
      " corr: (166, 166)\n",
      "    → T = 140 muestras; B = 11 bins para MI\n",
      " nmi: (166, 166)\n"
     ]
    },
    {
     "name": "stderr",
     "output_type": "stream",
     "text": [
      "Extracting features:  28%|██▊       | 122/432 [17:18<40:03,  7.75s/it]"
     ]
    },
    {
     "name": "stdout",
     "output_type": "stream",
     "text": [
      " gc: (166, 166)\n",
      " dcv: (166, 166)\n",
      "[018_S_5074] guardado en /home/diego/Escritorio/ALL_170/TensorData/AD_tensor_018_S_5074.pt\n",
      "[018_S_5240] ➔ columnas vacías detectadas y eliminadas: [34, 35, 80, 81]\n",
      "[018_S_5240] señal tras limpieza: T=140, N=166\n",
      " corr: (166, 166)\n",
      "    → T = 140 muestras; B = 11 bins para MI\n",
      " nmi: (166, 166)\n"
     ]
    },
    {
     "name": "stderr",
     "output_type": "stream",
     "text": [
      "Extracting features:  28%|██▊       | 123/432 [17:26<40:48,  7.92s/it]"
     ]
    },
    {
     "name": "stdout",
     "output_type": "stream",
     "text": [
      " gc: (166, 166)\n",
      " dcv: (166, 166)\n",
      "[018_S_5240] guardado en /home/diego/Escritorio/ALL_170/TensorData/AD_tensor_018_S_5240.pt\n",
      "[018_S_6207] ➔ columnas vacías detectadas y eliminadas: [34, 35, 80, 81]\n",
      "[018_S_6207] señal tras limpieza: T=197, N=166\n",
      " corr: (166, 166)\n",
      "    → T = 197 muestras; B = 14 bins para MI\n",
      " nmi: (166, 166)\n"
     ]
    },
    {
     "name": "stderr",
     "output_type": "stream",
     "text": [
      "Extracting features:  29%|██▊       | 124/432 [17:34<41:27,  8.08s/it]"
     ]
    },
    {
     "name": "stdout",
     "output_type": "stream",
     "text": [
      " gc: (166, 166)\n",
      " dcv: (166, 166)\n",
      "[018_S_6207] guardado en /home/diego/Escritorio/ALL_170/TensorData/CN_tensor_018_S_6207.pt\n",
      "[018_S_6351] ➔ columnas vacías detectadas y eliminadas: [34, 35, 80, 81]\n",
      "[018_S_6351] señal tras limpieza: T=197, N=166\n",
      " corr: (166, 166)\n",
      "    → T = 197 muestras; B = 14 bins para MI\n",
      " nmi: (166, 166)\n"
     ]
    },
    {
     "name": "stderr",
     "output_type": "stream",
     "text": [
      "Extracting features:  29%|██▉       | 125/432 [17:43<42:23,  8.29s/it]"
     ]
    },
    {
     "name": "stdout",
     "output_type": "stream",
     "text": [
      " gc: (166, 166)\n",
      " dcv: (166, 166)\n",
      "[018_S_6351] guardado en /home/diego/Escritorio/ALL_170/TensorData/CN_tensor_018_S_6351.pt\n",
      "[018_S_6414] ➔ columnas vacías detectadas y eliminadas: [34, 35, 80, 81]\n",
      "[018_S_6414] señal tras limpieza: T=197, N=166\n",
      " corr: (166, 166)\n",
      "    → T = 197 muestras; B = 14 bins para MI\n",
      " nmi: (166, 166)\n"
     ]
    },
    {
     "name": "stderr",
     "output_type": "stream",
     "text": [
      "Extracting features:  29%|██▉       | 126/432 [17:52<42:39,  8.36s/it]"
     ]
    },
    {
     "name": "stdout",
     "output_type": "stream",
     "text": [
      " gc: (166, 166)\n",
      " dcv: (166, 166)\n",
      "[018_S_6414] guardado en /home/diego/Escritorio/ALL_170/TensorData/Other_tensor_018_S_6414.pt\n",
      "[019_S_4252] ➔ columnas vacías detectadas y eliminadas: [34, 35, 80, 81]\n",
      "[019_S_4252] señal tras limpieza: T=140, N=166\n",
      " corr: (166, 166)\n",
      "    → T = 140 muestras; B = 11 bins para MI\n",
      " nmi: (166, 166)\n"
     ]
    },
    {
     "name": "stderr",
     "output_type": "stream",
     "text": [
      "Extracting features:  29%|██▉       | 127/432 [17:59<41:38,  8.19s/it]"
     ]
    },
    {
     "name": "stdout",
     "output_type": "stream",
     "text": [
      " gc: (166, 166)\n",
      " dcv: (166, 166)\n",
      "[019_S_4252] guardado en /home/diego/Escritorio/ALL_170/TensorData/AD_tensor_019_S_4252.pt\n",
      "[019_S_4285] ➔ columnas vacías detectadas y eliminadas: [34, 35, 80, 81]\n",
      "[019_S_4285] señal tras limpieza: T=140, N=166\n",
      " corr: (166, 166)\n",
      "    → T = 140 muestras; B = 11 bins para MI\n",
      " nmi: (166, 166)\n"
     ]
    },
    {
     "name": "stderr",
     "output_type": "stream",
     "text": [
      "Extracting features:  30%|██▉       | 128/432 [18:07<40:57,  8.08s/it]"
     ]
    },
    {
     "name": "stdout",
     "output_type": "stream",
     "text": [
      " gc: (166, 166)\n",
      " dcv: (166, 166)\n",
      "[019_S_4285] guardado en /home/diego/Escritorio/ALL_170/TensorData/Other_tensor_019_S_4285.pt\n",
      "[019_S_4293] ➔ columnas vacías detectadas y eliminadas: [34, 35, 80, 81]\n",
      "[019_S_4293] señal tras limpieza: T=140, N=166\n",
      " corr: (166, 166)\n",
      "    → T = 140 muestras; B = 11 bins para MI\n",
      " nmi: (166, 166)\n"
     ]
    },
    {
     "name": "stderr",
     "output_type": "stream",
     "text": [
      "Extracting features:  30%|██▉       | 129/432 [18:15<40:35,  8.04s/it]"
     ]
    },
    {
     "name": "stdout",
     "output_type": "stream",
     "text": [
      " gc: (166, 166)\n",
      " dcv: (166, 166)\n",
      "[019_S_4293] guardado en /home/diego/Escritorio/ALL_170/TensorData/Other_tensor_019_S_4293.pt\n",
      "[019_S_4367] ➔ columnas vacías detectadas y eliminadas: [34, 35, 80, 81]\n",
      "[019_S_4367] señal tras limpieza: T=140, N=166\n",
      " corr: (166, 166)\n",
      "    → T = 140 muestras; B = 11 bins para MI\n",
      " nmi: (166, 166)\n"
     ]
    },
    {
     "name": "stderr",
     "output_type": "stream",
     "text": [
      "Extracting features:  30%|███       | 130/432 [18:24<41:01,  8.15s/it]"
     ]
    },
    {
     "name": "stdout",
     "output_type": "stream",
     "text": [
      " gc: (166, 166)\n",
      " dcv: (166, 166)\n",
      "[019_S_4367] guardado en /home/diego/Escritorio/ALL_170/TensorData/CN_tensor_019_S_4367.pt\n",
      "[019_S_4477] ➔ columnas vacías detectadas y eliminadas: [34, 35, 80, 81]\n",
      "[019_S_4477] señal tras limpieza: T=140, N=166\n",
      " corr: (166, 166)\n",
      "    → T = 140 muestras; B = 11 bins para MI\n",
      " nmi: (166, 166)\n"
     ]
    },
    {
     "name": "stderr",
     "output_type": "stream",
     "text": [
      "Extracting features:  30%|███       | 131/432 [18:32<40:54,  8.15s/it]"
     ]
    },
    {
     "name": "stdout",
     "output_type": "stream",
     "text": [
      " gc: (166, 166)\n",
      " dcv: (166, 166)\n",
      "[019_S_4477] guardado en /home/diego/Escritorio/ALL_170/TensorData/AD_tensor_019_S_4477.pt\n",
      "[019_S_4548] ➔ columnas vacías detectadas y eliminadas: [34, 35, 80, 81]\n",
      "[019_S_4548] señal tras limpieza: T=140, N=166\n",
      " corr: (166, 166)\n",
      "    → T = 140 muestras; B = 11 bins para MI\n",
      " nmi: (166, 166)\n"
     ]
    },
    {
     "name": "stderr",
     "output_type": "stream",
     "text": [
      "Extracting features:  31%|███       | 132/432 [18:40<40:21,  8.07s/it]"
     ]
    },
    {
     "name": "stdout",
     "output_type": "stream",
     "text": [
      " gc: (166, 166)\n",
      " dcv: (166, 166)\n",
      "[019_S_4548] guardado en /home/diego/Escritorio/ALL_170/TensorData/Other_tensor_019_S_4548.pt\n",
      "[019_S_4549] ➔ columnas vacías detectadas y eliminadas: [34, 35, 80, 81]\n",
      "[019_S_4549] señal tras limpieza: T=140, N=166\n",
      " corr: (166, 166)\n",
      "    → T = 140 muestras; B = 11 bins para MI\n",
      " nmi: (166, 166)\n"
     ]
    },
    {
     "name": "stderr",
     "output_type": "stream",
     "text": [
      "Extracting features:  31%|███       | 133/432 [18:48<40:08,  8.06s/it]"
     ]
    },
    {
     "name": "stdout",
     "output_type": "stream",
     "text": [
      " gc: (166, 166)\n",
      " dcv: (166, 166)\n",
      "[019_S_4549] guardado en /home/diego/Escritorio/ALL_170/TensorData/AD_tensor_019_S_4549.pt\n",
      "[019_S_4680] ➔ columnas vacías detectadas y eliminadas: [34, 35, 80, 81]\n",
      "[019_S_4680] señal tras limpieza: T=140, N=166\n",
      " corr: (166, 166)\n",
      "    → T = 140 muestras; B = 11 bins para MI\n",
      " nmi: (166, 166)\n"
     ]
    },
    {
     "name": "stderr",
     "output_type": "stream",
     "text": [
      "Extracting features:  31%|███       | 134/432 [18:56<40:13,  8.10s/it]"
     ]
    },
    {
     "name": "stdout",
     "output_type": "stream",
     "text": [
      " gc: (166, 166)\n",
      " dcv: (166, 166)\n",
      "[019_S_4680] guardado en /home/diego/Escritorio/ALL_170/TensorData/Other_tensor_019_S_4680.pt\n",
      "[019_S_4835] ➔ columnas vacías detectadas y eliminadas: [34, 35, 80, 81]\n",
      "[019_S_4835] señal tras limpieza: T=140, N=166\n",
      " corr: (166, 166)\n",
      "    → T = 140 muestras; B = 11 bins para MI\n",
      " nmi: (166, 166)\n",
      " gc: (166, 166)\n"
     ]
    },
    {
     "name": "stderr",
     "output_type": "stream",
     "text": [
      "Extracting features:  31%|███▏      | 135/432 [19:05<40:58,  8.28s/it]"
     ]
    },
    {
     "name": "stdout",
     "output_type": "stream",
     "text": [
      " dcv: (166, 166)\n",
      "[019_S_4835] guardado en /home/diego/Escritorio/ALL_170/TensorData/CN_tensor_019_S_4835.pt\n",
      "[019_S_5012] ➔ columnas vacías detectadas y eliminadas: [34, 35, 80, 81]\n",
      "[019_S_5012] señal tras limpieza: T=140, N=166\n",
      " corr: (166, 166)\n",
      "    → T = 140 muestras; B = 11 bins para MI\n",
      " nmi: (166, 166)\n"
     ]
    },
    {
     "name": "stderr",
     "output_type": "stream",
     "text": [
      "Extracting features:  31%|███▏      | 136/432 [19:13<41:09,  8.34s/it]"
     ]
    },
    {
     "name": "stdout",
     "output_type": "stream",
     "text": [
      " gc: (166, 166)\n",
      " dcv: (166, 166)\n",
      "[019_S_5012] guardado en /home/diego/Escritorio/ALL_170/TensorData/AD_tensor_019_S_5012.pt\n",
      "[019_S_5019] ➔ columnas vacías detectadas y eliminadas: [34, 35, 80, 81]\n",
      "[019_S_5019] señal tras limpieza: T=140, N=166\n",
      " corr: (166, 166)\n",
      "    → T = 140 muestras; B = 11 bins para MI\n",
      " nmi: (166, 166)\n"
     ]
    },
    {
     "name": "stderr",
     "output_type": "stream",
     "text": [
      "Extracting features:  32%|███▏      | 137/432 [19:22<41:15,  8.39s/it]"
     ]
    },
    {
     "name": "stdout",
     "output_type": "stream",
     "text": [
      " gc: (166, 166)\n",
      " dcv: (166, 166)\n",
      "[019_S_5019] guardado en /home/diego/Escritorio/ALL_170/TensorData/AD_tensor_019_S_5019.pt\n",
      "[019_S_6186] ➔ columnas vacías detectadas y eliminadas: [34, 35, 80, 81]\n",
      "[019_S_6186] señal tras limpieza: T=197, N=166\n",
      " corr: (166, 166)\n",
      "    → T = 197 muestras; B = 14 bins para MI\n",
      " nmi: (166, 166)\n"
     ]
    },
    {
     "name": "stderr",
     "output_type": "stream",
     "text": [
      "Extracting features:  32%|███▏      | 138/432 [19:31<41:55,  8.56s/it]"
     ]
    },
    {
     "name": "stdout",
     "output_type": "stream",
     "text": [
      " gc: (166, 166)\n",
      " dcv: (166, 166)\n",
      "[019_S_6186] guardado en /home/diego/Escritorio/ALL_170/TensorData/CN_tensor_019_S_6186.pt\n",
      "[019_S_6315] ➔ columnas vacías detectadas y eliminadas: [34, 35, 80, 81]\n",
      "[019_S_6315] señal tras limpieza: T=197, N=166\n",
      " corr: (166, 166)\n",
      "    → T = 197 muestras; B = 14 bins para MI\n",
      " nmi: (166, 166)\n",
      " gc: (166, 166)\n"
     ]
    },
    {
     "name": "stderr",
     "output_type": "stream",
     "text": [
      "Extracting features:  32%|███▏      | 139/432 [19:40<42:58,  8.80s/it]"
     ]
    },
    {
     "name": "stdout",
     "output_type": "stream",
     "text": [
      " dcv: (166, 166)\n",
      "[019_S_6315] guardado en /home/diego/Escritorio/ALL_170/TensorData/Other_tensor_019_S_6315.pt\n",
      "[019_S_6483] ➔ columnas vacías detectadas y eliminadas: [34, 35, 80, 81]\n",
      "[019_S_6483] señal tras limpieza: T=197, N=166\n",
      " corr: (166, 166)\n",
      "    → T = 197 muestras; B = 14 bins para MI\n",
      " nmi: (166, 166)\n"
     ]
    },
    {
     "name": "stderr",
     "output_type": "stream",
     "text": [
      "Extracting features:  32%|███▏      | 140/432 [19:49<42:42,  8.78s/it]"
     ]
    },
    {
     "name": "stdout",
     "output_type": "stream",
     "text": [
      " gc: (166, 166)\n",
      " dcv: (166, 166)\n",
      "[019_S_6483] guardado en /home/diego/Escritorio/ALL_170/TensorData/Other_tensor_019_S_6483.pt\n",
      "[019_S_6573] ➔ columnas vacías detectadas y eliminadas: [34, 35, 80, 81]\n",
      "[019_S_6573] señal tras limpieza: T=197, N=166\n",
      " corr: (166, 166)\n",
      "    → T = 197 muestras; B = 14 bins para MI\n",
      " nmi: (166, 166)\n"
     ]
    },
    {
     "name": "stderr",
     "output_type": "stream",
     "text": [
      "Extracting features:  33%|███▎      | 141/432 [19:57<42:29,  8.76s/it]"
     ]
    },
    {
     "name": "stdout",
     "output_type": "stream",
     "text": [
      " gc: (166, 166)\n",
      " dcv: (166, 166)\n",
      "[019_S_6573] guardado en /home/diego/Escritorio/ALL_170/TensorData/AD_tensor_019_S_6573.pt\n",
      "[019_S_6585] ➔ columnas vacías detectadas y eliminadas: [34, 35, 80, 81]\n",
      "[019_S_6585] señal tras limpieza: T=197, N=166\n",
      " corr: (166, 166)\n",
      "    → T = 197 muestras; B = 14 bins para MI\n",
      " nmi: (166, 166)\n"
     ]
    },
    {
     "name": "stderr",
     "output_type": "stream",
     "text": [
      "Extracting features:  33%|███▎      | 142/432 [20:06<42:20,  8.76s/it]"
     ]
    },
    {
     "name": "stdout",
     "output_type": "stream",
     "text": [
      " gc: (166, 166)\n",
      " dcv: (166, 166)\n",
      "[019_S_6585] guardado en /home/diego/Escritorio/ALL_170/TensorData/AD_tensor_019_S_6585.pt\n",
      "[019_S_6630] ➔ columnas vacías detectadas y eliminadas: [34, 35, 80, 81]\n",
      "[019_S_6630] señal tras limpieza: T=197, N=166\n",
      " corr: (166, 166)\n",
      "    → T = 197 muestras; B = 14 bins para MI\n",
      " nmi: (166, 166)\n"
     ]
    },
    {
     "name": "stderr",
     "output_type": "stream",
     "text": [
      "Extracting features:  33%|███▎      | 143/432 [20:15<42:56,  8.91s/it]"
     ]
    },
    {
     "name": "stdout",
     "output_type": "stream",
     "text": [
      " gc: (166, 166)\n",
      " dcv: (166, 166)\n",
      "[019_S_6630] guardado en /home/diego/Escritorio/ALL_170/TensorData/Other_tensor_019_S_6630.pt\n",
      "[019_S_6635] ➔ columnas vacías detectadas y eliminadas: [34, 35, 80, 81]\n",
      "[019_S_6635] señal tras limpieza: T=197, N=166\n",
      " corr: (166, 166)\n",
      "    → T = 197 muestras; B = 14 bins para MI\n",
      " nmi: (166, 166)\n"
     ]
    },
    {
     "name": "stderr",
     "output_type": "stream",
     "text": [
      "Extracting features:  33%|███▎      | 144/432 [20:25<43:18,  9.02s/it]"
     ]
    },
    {
     "name": "stdout",
     "output_type": "stream",
     "text": [
      " gc: (166, 166)\n",
      " dcv: (166, 166)\n",
      "[019_S_6635] guardado en /home/diego/Escritorio/ALL_170/TensorData/Other_tensor_019_S_6635.pt\n",
      "[019_S_6668] ➔ columnas vacías detectadas y eliminadas: [34, 35, 80, 81]\n",
      "[019_S_6668] señal tras limpieza: T=197, N=166\n",
      " corr: (166, 166)\n",
      "    → T = 197 muestras; B = 14 bins para MI\n",
      " nmi: (166, 166)\n"
     ]
    },
    {
     "name": "stderr",
     "output_type": "stream",
     "text": [
      "Extracting features:  34%|███▎      | 145/432 [20:34<43:26,  9.08s/it]"
     ]
    },
    {
     "name": "stdout",
     "output_type": "stream",
     "text": [
      " gc: (166, 166)\n",
      " dcv: (166, 166)\n",
      "[019_S_6668] guardado en /home/diego/Escritorio/ALL_170/TensorData/Other_tensor_019_S_6668.pt\n",
      "[019_S_6712] ➔ columnas vacías detectadas y eliminadas: [34, 35, 80, 81]\n",
      "[019_S_6712] señal tras limpieza: T=197, N=166\n",
      " corr: (166, 166)\n",
      "    → T = 197 muestras; B = 14 bins para MI\n",
      " nmi: (166, 166)\n"
     ]
    },
    {
     "name": "stderr",
     "output_type": "stream",
     "text": [
      "Extracting features:  34%|███▍      | 146/432 [20:46<47:24,  9.95s/it]"
     ]
    },
    {
     "name": "stdout",
     "output_type": "stream",
     "text": [
      " gc: (166, 166)\n",
      " dcv: (166, 166)\n",
      "[019_S_6712] guardado en /home/diego/Escritorio/ALL_170/TensorData/AD_tensor_019_S_6712.pt\n",
      "[019_S_6757] ➔ columnas vacías detectadas y eliminadas: [34, 35, 80, 81]\n",
      "[019_S_6757] señal tras limpieza: T=197, N=166\n",
      " corr: (166, 166)\n",
      "    → T = 197 muestras; B = 14 bins para MI\n",
      " nmi: (166, 166)\n"
     ]
    },
    {
     "name": "stderr",
     "output_type": "stream",
     "text": [
      "Extracting features:  34%|███▍      | 147/432 [20:58<50:17, 10.59s/it]"
     ]
    },
    {
     "name": "stdout",
     "output_type": "stream",
     "text": [
      " gc: (166, 166)\n",
      " dcv: (166, 166)\n",
      "[019_S_6757] guardado en /home/diego/Escritorio/ALL_170/TensorData/Other_tensor_019_S_6757.pt\n",
      "[019_S_7016] ➔ columnas vacías detectadas y eliminadas: [34, 35, 80, 81]\n",
      "[019_S_7016] señal tras limpieza: T=197, N=166\n",
      " corr: (166, 166)\n",
      "    → T = 197 muestras; B = 14 bins para MI\n",
      " nmi: (166, 166)\n"
     ]
    },
    {
     "name": "stderr",
     "output_type": "stream",
     "text": [
      "Extracting features:  34%|███▍      | 148/432 [21:10<51:57, 10.98s/it]"
     ]
    },
    {
     "name": "stdout",
     "output_type": "stream",
     "text": [
      " gc: (166, 166)\n",
      " dcv: (166, 166)\n",
      "[019_S_7016] guardado en /home/diego/Escritorio/ALL_170/TensorData/CN_tensor_019_S_7016.pt\n",
      "[021_S_4659] ➔ columnas vacías detectadas y eliminadas: [34, 35, 80, 81]\n",
      "[021_S_4659] señal tras limpieza: T=200, N=166\n",
      " corr: (166, 166)\n",
      "    → T = 200 muestras; B = 14 bins para MI\n",
      " nmi: (166, 166)\n"
     ]
    },
    {
     "name": "stderr",
     "output_type": "stream",
     "text": [
      "Extracting features:  34%|███▍      | 149/432 [21:19<49:05, 10.41s/it]"
     ]
    },
    {
     "name": "stdout",
     "output_type": "stream",
     "text": [
      " gc: (166, 166)\n",
      " dcv: (166, 166)\n",
      "[021_S_4659] guardado en /home/diego/Escritorio/ALL_170/TensorData/Other_tensor_021_S_4659.pt\n",
      "[021_S_4744] ➔ columnas vacías detectadas y eliminadas: [34, 35, 80, 81]\n",
      "[021_S_4744] señal tras limpieza: T=200, N=166\n",
      " corr: (166, 166)\n",
      "    → T = 200 muestras; B = 14 bins para MI\n",
      " nmi: (166, 166)\n"
     ]
    },
    {
     "name": "stderr",
     "output_type": "stream",
     "text": [
      "Extracting features:  35%|███▍      | 150/432 [21:28<46:56,  9.99s/it]"
     ]
    },
    {
     "name": "stdout",
     "output_type": "stream",
     "text": [
      " gc: (166, 166)\n",
      " dcv: (166, 166)\n",
      "[021_S_4744] guardado en /home/diego/Escritorio/ALL_170/TensorData/Other_tensor_021_S_4744.pt\n",
      "[022_S_2263] ➔ columnas vacías detectadas y eliminadas: [34, 35, 80, 81]\n",
      "[022_S_2263] señal tras limpieza: T=197, N=166\n",
      " corr: (166, 166)\n",
      "    → T = 197 muestras; B = 14 bins para MI\n",
      " nmi: (166, 166)\n"
     ]
    },
    {
     "name": "stderr",
     "output_type": "stream",
     "text": [
      "Extracting features:  35%|███▍      | 151/432 [21:37<45:43,  9.76s/it]"
     ]
    },
    {
     "name": "stdout",
     "output_type": "stream",
     "text": [
      " gc: (166, 166)\n",
      " dcv: (166, 166)\n",
      "[022_S_2263] guardado en /home/diego/Escritorio/ALL_170/TensorData/Other_tensor_022_S_2263.pt\n",
      "[022_S_2379] ➔ columnas vacías detectadas y eliminadas: [34, 35, 80, 81]\n",
      "[022_S_2379] señal tras limpieza: T=197, N=166\n",
      " corr: (166, 166)\n",
      "    → T = 197 muestras; B = 14 bins para MI\n",
      " nmi: (166, 166)\n"
     ]
    },
    {
     "name": "stderr",
     "output_type": "stream",
     "text": [
      "Extracting features:  35%|███▌      | 152/432 [21:46<44:21,  9.51s/it]"
     ]
    },
    {
     "name": "stdout",
     "output_type": "stream",
     "text": [
      " gc: (166, 166)\n",
      " dcv: (166, 166)\n",
      "[022_S_2379] guardado en /home/diego/Escritorio/ALL_170/TensorData/Other_tensor_022_S_2379.pt\n",
      "[022_S_6013] ➔ columnas vacías detectadas y eliminadas: [34, 35, 80, 81]\n",
      "[022_S_6013] señal tras limpieza: T=197, N=166\n",
      " corr: (166, 166)\n",
      "    → T = 197 muestras; B = 14 bins para MI\n",
      " nmi: (166, 166)\n"
     ]
    },
    {
     "name": "stderr",
     "output_type": "stream",
     "text": [
      "Extracting features:  35%|███▌      | 153/432 [21:55<43:14,  9.30s/it]"
     ]
    },
    {
     "name": "stdout",
     "output_type": "stream",
     "text": [
      " gc: (166, 166)\n",
      " dcv: (166, 166)\n",
      "[022_S_6013] guardado en /home/diego/Escritorio/ALL_170/TensorData/AD_tensor_022_S_6013.pt\n",
      "[022_S_6280] ➔ columnas vacías detectadas y eliminadas: [34, 35, 80, 81]\n",
      "[022_S_6280] señal tras limpieza: T=197, N=166\n",
      " corr: (166, 166)\n",
      "    → T = 197 muestras; B = 14 bins para MI\n",
      " nmi: (166, 166)\n"
     ]
    },
    {
     "name": "stderr",
     "output_type": "stream",
     "text": [
      "Extracting features:  36%|███▌      | 154/432 [22:04<42:49,  9.24s/it]"
     ]
    },
    {
     "name": "stdout",
     "output_type": "stream",
     "text": [
      " gc: (166, 166)\n",
      " dcv: (166, 166)\n",
      "[022_S_6280] guardado en /home/diego/Escritorio/ALL_170/TensorData/Other_tensor_022_S_6280.pt\n",
      "[022_S_6716] ➔ columnas vacías detectadas y eliminadas: [34, 35, 80, 81]\n",
      "[022_S_6716] señal tras limpieza: T=197, N=166\n",
      " corr: (166, 166)\n",
      "    → T = 197 muestras; B = 14 bins para MI\n",
      " nmi: (166, 166)\n"
     ]
    },
    {
     "name": "stderr",
     "output_type": "stream",
     "text": [
      "Extracting features:  36%|███▌      | 155/432 [22:13<42:43,  9.25s/it]"
     ]
    },
    {
     "name": "stdout",
     "output_type": "stream",
     "text": [
      " gc: (166, 166)\n",
      " dcv: (166, 166)\n",
      "[022_S_6716] guardado en /home/diego/Escritorio/ALL_170/TensorData/Other_tensor_022_S_6716.pt\n",
      "[024_S_4674] ➔ columnas vacías detectadas y eliminadas: [34, 35, 80, 81]\n",
      "[024_S_4674] señal tras limpieza: T=197, N=166\n",
      " corr: (166, 166)\n",
      "    → T = 197 muestras; B = 14 bins para MI\n",
      " nmi: (166, 166)\n"
     ]
    },
    {
     "name": "stderr",
     "output_type": "stream",
     "text": [
      "Extracting features:  36%|███▌      | 156/432 [22:22<41:28,  9.02s/it]"
     ]
    },
    {
     "name": "stdout",
     "output_type": "stream",
     "text": [
      " gc: (166, 166)\n",
      " dcv: (166, 166)\n",
      "[024_S_4674] guardado en /home/diego/Escritorio/ALL_170/TensorData/Other_tensor_024_S_4674.pt\n",
      "[024_S_6033] ➔ columnas vacías detectadas y eliminadas: [34, 35, 80, 81]\n",
      "[024_S_6033] señal tras limpieza: T=197, N=166\n",
      " corr: (166, 166)\n",
      "    → T = 197 muestras; B = 14 bins para MI\n",
      " nmi: (166, 166)\n"
     ]
    },
    {
     "name": "stderr",
     "output_type": "stream",
     "text": [
      "Extracting features:  36%|███▋      | 157/432 [22:30<40:36,  8.86s/it]"
     ]
    },
    {
     "name": "stdout",
     "output_type": "stream",
     "text": [
      " gc: (166, 166)\n",
      " dcv: (166, 166)\n",
      "[024_S_6033] guardado en /home/diego/Escritorio/ALL_170/TensorData/Other_tensor_024_S_6033.pt\n",
      "[027_S_2219] ➔ columnas vacías detectadas y eliminadas: [34, 35, 80, 81]\n",
      "[027_S_2219] señal tras limpieza: T=200, N=166\n",
      " corr: (166, 166)\n",
      "    → T = 200 muestras; B = 14 bins para MI\n",
      " nmi: (166, 166)\n"
     ]
    },
    {
     "name": "stderr",
     "output_type": "stream",
     "text": [
      "Extracting features:  37%|███▋      | 158/432 [22:39<40:32,  8.88s/it]"
     ]
    },
    {
     "name": "stdout",
     "output_type": "stream",
     "text": [
      " gc: (166, 166)\n",
      " dcv: (166, 166)\n",
      "[027_S_2219] guardado en /home/diego/Escritorio/ALL_170/TensorData/Other_tensor_027_S_2219.pt\n",
      "[027_S_2245] ➔ columnas vacías detectadas y eliminadas: [34, 35, 80, 81]\n",
      "[027_S_2245] señal tras limpieza: T=200, N=166\n",
      " corr: (166, 166)\n",
      "    → T = 200 muestras; B = 14 bins para MI\n",
      " nmi: (166, 166)\n"
     ]
    },
    {
     "name": "stderr",
     "output_type": "stream",
     "text": [
      "Extracting features:  37%|███▋      | 159/432 [22:48<40:22,  8.87s/it]"
     ]
    },
    {
     "name": "stdout",
     "output_type": "stream",
     "text": [
      " gc: (166, 166)\n",
      " dcv: (166, 166)\n",
      "[027_S_2245] guardado en /home/diego/Escritorio/ALL_170/TensorData/Other_tensor_027_S_2245.pt\n",
      "[027_S_4869] ➔ columnas vacías detectadas y eliminadas: [34, 35, 80, 81]\n",
      "[027_S_4869] señal tras limpieza: T=200, N=166\n",
      " corr: (166, 166)\n",
      "    → T = 200 muestras; B = 14 bins para MI\n",
      " nmi: (166, 166)\n"
     ]
    },
    {
     "name": "stderr",
     "output_type": "stream",
     "text": [
      "Extracting features:  37%|███▋      | 160/432 [22:57<40:03,  8.84s/it]"
     ]
    },
    {
     "name": "stdout",
     "output_type": "stream",
     "text": [
      " gc: (166, 166)\n",
      " dcv: (166, 166)\n",
      "[027_S_4869] guardado en /home/diego/Escritorio/ALL_170/TensorData/Other_tensor_027_S_4869.pt\n",
      "[027_S_4919] ➔ columnas vacías detectadas y eliminadas: [34, 35, 80, 81]\n",
      "[027_S_4919] señal tras limpieza: T=200, N=166\n",
      " corr: (166, 166)\n",
      "    → T = 200 muestras; B = 14 bins para MI\n",
      " nmi: (166, 166)\n"
     ]
    },
    {
     "name": "stderr",
     "output_type": "stream",
     "text": [
      "Extracting features:  37%|███▋      | 161/432 [23:05<39:41,  8.79s/it]"
     ]
    },
    {
     "name": "stdout",
     "output_type": "stream",
     "text": [
      " gc: (166, 166)\n",
      " dcv: (166, 166)\n",
      "[027_S_4919] guardado en /home/diego/Escritorio/ALL_170/TensorData/Other_tensor_027_S_4919.pt\n",
      "[027_S_6648] ➔ columnas vacías detectadas y eliminadas: [34, 35, 80, 81]\n",
      "[027_S_6648] señal tras limpieza: T=200, N=166\n",
      " corr: (166, 166)\n",
      "    → T = 200 muestras; B = 14 bins para MI\n",
      " nmi: (166, 166)\n"
     ]
    },
    {
     "name": "stderr",
     "output_type": "stream",
     "text": [
      "Extracting features:  38%|███▊      | 162/432 [23:14<39:22,  8.75s/it]"
     ]
    },
    {
     "name": "stdout",
     "output_type": "stream",
     "text": [
      " gc: (166, 166)\n",
      " dcv: (166, 166)\n",
      "[027_S_6648] guardado en /home/diego/Escritorio/ALL_170/TensorData/AD_tensor_027_S_6648.pt\n",
      "[027_S_6733] ➔ columnas vacías detectadas y eliminadas: [34, 35, 80, 81]\n",
      "[027_S_6733] señal tras limpieza: T=200, N=166\n",
      " corr: (166, 166)\n",
      "    → T = 200 muestras; B = 14 bins para MI\n",
      " nmi: (166, 166)\n"
     ]
    },
    {
     "name": "stderr",
     "output_type": "stream",
     "text": [
      "Extracting features:  38%|███▊      | 163/432 [23:23<39:34,  8.83s/it]"
     ]
    },
    {
     "name": "stdout",
     "output_type": "stream",
     "text": [
      " gc: (166, 166)\n",
      " dcv: (166, 166)\n",
      "[027_S_6733] guardado en /home/diego/Escritorio/ALL_170/TensorData/AD_tensor_027_S_6733.pt\n",
      "[027_S_6849] ➔ columnas vacías detectadas y eliminadas: [34, 35, 80, 81]\n",
      "[027_S_6849] señal tras limpieza: T=200, N=166\n",
      " corr: (166, 166)\n",
      "    → T = 200 muestras; B = 14 bins para MI\n",
      " nmi: (166, 166)\n"
     ]
    },
    {
     "name": "stderr",
     "output_type": "stream",
     "text": [
      "Extracting features:  38%|███▊      | 164/432 [23:32<39:06,  8.76s/it]"
     ]
    },
    {
     "name": "stdout",
     "output_type": "stream",
     "text": [
      " gc: (166, 166)\n",
      " dcv: (166, 166)\n",
      "[027_S_6849] guardado en /home/diego/Escritorio/ALL_170/TensorData/AD_tensor_027_S_6849.pt\n",
      "[027_S_6965] ➔ columnas vacías detectadas y eliminadas: [34, 35, 80, 81]\n",
      "[027_S_6965] señal tras limpieza: T=200, N=166\n",
      " corr: (166, 166)\n",
      "    → T = 200 muestras; B = 14 bins para MI\n",
      " nmi: (166, 166)\n"
     ]
    },
    {
     "name": "stderr",
     "output_type": "stream",
     "text": [
      "Extracting features:  38%|███▊      | 165/432 [23:40<38:59,  8.76s/it]"
     ]
    },
    {
     "name": "stdout",
     "output_type": "stream",
     "text": [
      " gc: (166, 166)\n",
      " dcv: (166, 166)\n",
      "[027_S_6965] guardado en /home/diego/Escritorio/ALL_170/TensorData/AD_tensor_027_S_6965.pt\n",
      "[031_S_2018] ➔ columnas vacías detectadas y eliminadas: [34, 35, 80, 81]\n",
      "[031_S_2018] señal tras limpieza: T=140, N=166\n",
      " corr: (166, 166)\n",
      "    → T = 140 muestras; B = 11 bins para MI\n",
      " nmi: (166, 166)\n"
     ]
    },
    {
     "name": "stderr",
     "output_type": "stream",
     "text": [
      "Extracting features:  38%|███▊      | 166/432 [23:48<37:28,  8.45s/it]"
     ]
    },
    {
     "name": "stdout",
     "output_type": "stream",
     "text": [
      " gc: (166, 166)\n",
      " dcv: (166, 166)\n",
      "[031_S_2018] guardado en /home/diego/Escritorio/ALL_170/TensorData/Other_tensor_031_S_2018.pt\n",
      "[031_S_2022] ➔ columnas vacías detectadas y eliminadas: [34, 35, 80, 81]\n",
      "[031_S_2022] señal tras limpieza: T=140, N=166\n",
      " corr: (166, 166)\n",
      "    → T = 140 muestras; B = 11 bins para MI\n",
      " nmi: (166, 166)\n"
     ]
    },
    {
     "name": "stderr",
     "output_type": "stream",
     "text": [
      "Extracting features:  39%|███▊      | 167/432 [23:56<36:27,  8.25s/it]"
     ]
    },
    {
     "name": "stdout",
     "output_type": "stream",
     "text": [
      " gc: (166, 166)\n",
      " dcv: (166, 166)\n",
      "[031_S_2022] guardado en /home/diego/Escritorio/ALL_170/TensorData/Other_tensor_031_S_2022.pt\n",
      "[031_S_2233] ➔ columnas vacías detectadas y eliminadas: [34, 35, 80, 81]\n",
      "[031_S_2233] señal tras limpieza: T=140, N=166\n",
      " corr: (166, 166)\n",
      "    → T = 140 muestras; B = 11 bins para MI\n",
      " nmi: (166, 166)\n"
     ]
    },
    {
     "name": "stderr",
     "output_type": "stream",
     "text": [
      "Extracting features:  39%|███▉      | 168/432 [24:04<35:52,  8.15s/it]"
     ]
    },
    {
     "name": "stdout",
     "output_type": "stream",
     "text": [
      " gc: (166, 166)\n",
      " dcv: (166, 166)\n",
      "[031_S_2233] guardado en /home/diego/Escritorio/ALL_170/TensorData/Other_tensor_031_S_2233.pt\n",
      "[031_S_4005] ➔ columnas vacías detectadas y eliminadas: [34, 35, 80, 81]\n",
      "[031_S_4005] señal tras limpieza: T=140, N=166\n",
      " corr: (166, 166)\n",
      "    → T = 140 muestras; B = 11 bins para MI\n",
      " nmi: (166, 166)\n"
     ]
    },
    {
     "name": "stderr",
     "output_type": "stream",
     "text": [
      "Extracting features:  39%|███▉      | 169/432 [24:12<35:05,  8.00s/it]"
     ]
    },
    {
     "name": "stdout",
     "output_type": "stream",
     "text": [
      " gc: (166, 166)\n",
      " dcv: (166, 166)\n",
      "[031_S_4005] guardado en /home/diego/Escritorio/ALL_170/TensorData/Other_tensor_031_S_4005.pt\n",
      "[031_S_4024] ➔ columnas vacías detectadas y eliminadas: [34, 35, 80, 81]\n",
      "[031_S_4024] señal tras limpieza: T=140, N=166\n",
      " corr: (166, 166)\n",
      "    → T = 140 muestras; B = 11 bins para MI\n",
      " nmi: (166, 166)\n"
     ]
    },
    {
     "name": "stderr",
     "output_type": "stream",
     "text": [
      "Extracting features:  39%|███▉      | 170/432 [24:19<34:34,  7.92s/it]"
     ]
    },
    {
     "name": "stdout",
     "output_type": "stream",
     "text": [
      " gc: (166, 166)\n",
      " dcv: (166, 166)\n",
      "[031_S_4024] guardado en /home/diego/Escritorio/ALL_170/TensorData/AD_tensor_031_S_4024.pt\n",
      "[031_S_4029] ➔ columnas vacías detectadas y eliminadas: [34, 35, 80, 81]\n",
      "[031_S_4029] señal tras limpieza: T=140, N=166\n",
      " corr: (166, 166)\n",
      "    → T = 140 muestras; B = 11 bins para MI\n",
      " nmi: (166, 166)\n"
     ]
    },
    {
     "name": "stderr",
     "output_type": "stream",
     "text": [
      "Extracting features:  40%|███▉      | 171/432 [24:27<34:12,  7.87s/it]"
     ]
    },
    {
     "name": "stdout",
     "output_type": "stream",
     "text": [
      " gc: (166, 166)\n",
      " dcv: (166, 166)\n",
      "[031_S_4029] guardado en /home/diego/Escritorio/ALL_170/TensorData/Other_tensor_031_S_4029.pt\n",
      "[031_S_4032] ➔ columnas vacías detectadas y eliminadas: [34, 35, 80, 81]\n",
      "[031_S_4032] señal tras limpieza: T=140, N=166\n",
      " corr: (166, 166)\n",
      "    → T = 140 muestras; B = 11 bins para MI\n",
      " nmi: (166, 166)\n"
     ]
    },
    {
     "name": "stderr",
     "output_type": "stream",
     "text": [
      "Extracting features:  40%|███▉      | 172/432 [24:35<34:09,  7.88s/it]"
     ]
    },
    {
     "name": "stdout",
     "output_type": "stream",
     "text": [
      " gc: (166, 166)\n",
      " dcv: (166, 166)\n",
      "[031_S_4032] guardado en /home/diego/Escritorio/ALL_170/TensorData/CN_tensor_031_S_4032.pt\n",
      "[031_S_4042] ➔ columnas vacías detectadas y eliminadas: [34, 35, 80, 81]\n",
      "[031_S_4042] señal tras limpieza: T=140, N=166\n",
      " corr: (166, 166)\n",
      "    → T = 140 muestras; B = 11 bins para MI\n",
      " nmi: (166, 166)\n"
     ]
    },
    {
     "name": "stderr",
     "output_type": "stream",
     "text": [
      "Extracting features:  40%|████      | 173/432 [24:43<33:42,  7.81s/it]"
     ]
    },
    {
     "name": "stdout",
     "output_type": "stream",
     "text": [
      " gc: (166, 166)\n",
      " dcv: (166, 166)\n",
      "[031_S_4042] guardado en /home/diego/Escritorio/ALL_170/TensorData/Other_tensor_031_S_4042.pt\n",
      "[031_S_4149] ➔ columnas vacías detectadas y eliminadas: [34, 35, 80, 81]\n",
      "[031_S_4149] señal tras limpieza: T=140, N=166\n",
      " corr: (166, 166)\n",
      "    → T = 140 muestras; B = 11 bins para MI\n",
      " nmi: (166, 166)\n"
     ]
    },
    {
     "name": "stderr",
     "output_type": "stream",
     "text": [
      "Extracting features:  40%|████      | 174/432 [24:50<33:40,  7.83s/it]"
     ]
    },
    {
     "name": "stdout",
     "output_type": "stream",
     "text": [
      " gc: (166, 166)\n",
      " dcv: (166, 166)\n",
      "[031_S_4149] guardado en /home/diego/Escritorio/ALL_170/TensorData/Other_tensor_031_S_4149.pt\n",
      "[031_S_4194] ➔ columnas vacías detectadas y eliminadas: [34, 35, 80, 81]\n",
      "[031_S_4194] señal tras limpieza: T=140, N=166\n",
      " corr: (166, 166)\n",
      "    → T = 140 muestras; B = 11 bins para MI\n",
      " nmi: (166, 166)\n"
     ]
    },
    {
     "name": "stderr",
     "output_type": "stream",
     "text": [
      "Extracting features:  41%|████      | 175/432 [24:58<33:35,  7.84s/it]"
     ]
    },
    {
     "name": "stdout",
     "output_type": "stream",
     "text": [
      " gc: (166, 166)\n",
      " dcv: (166, 166)\n",
      "[031_S_4194] guardado en /home/diego/Escritorio/ALL_170/TensorData/Other_tensor_031_S_4194.pt\n",
      "[031_S_4203] ➔ columnas vacías detectadas y eliminadas: [34, 35, 80, 81]\n",
      "[031_S_4203] señal tras limpieza: T=140, N=166\n",
      " corr: (166, 166)\n",
      "    → T = 140 muestras; B = 11 bins para MI\n",
      " nmi: (166, 166)\n"
     ]
    },
    {
     "name": "stderr",
     "output_type": "stream",
     "text": [
      "Extracting features:  41%|████      | 176/432 [25:06<33:22,  7.82s/it]"
     ]
    },
    {
     "name": "stdout",
     "output_type": "stream",
     "text": [
      " gc: (166, 166)\n",
      " dcv: (166, 166)\n",
      "[031_S_4203] guardado en /home/diego/Escritorio/ALL_170/TensorData/Other_tensor_031_S_4203.pt\n",
      "[031_S_4218] ➔ columnas vacías detectadas y eliminadas: [34, 35, 80, 81]\n",
      "[031_S_4218] señal tras limpieza: T=140, N=166\n",
      " corr: (166, 166)\n",
      "    → T = 140 muestras; B = 11 bins para MI\n",
      " nmi: (166, 166)\n"
     ]
    },
    {
     "name": "stderr",
     "output_type": "stream",
     "text": [
      "Extracting features:  41%|████      | 177/432 [25:14<33:07,  7.79s/it]"
     ]
    },
    {
     "name": "stdout",
     "output_type": "stream",
     "text": [
      " gc: (166, 166)\n",
      " dcv: (166, 166)\n",
      "[031_S_4218] guardado en /home/diego/Escritorio/ALL_170/TensorData/CN_tensor_031_S_4218.pt\n",
      "[031_S_4474] ➔ columnas vacías detectadas y eliminadas: [34, 35, 80, 81]\n",
      "[031_S_4474] señal tras limpieza: T=140, N=166\n",
      " corr: (166, 166)\n",
      "    → T = 140 muestras; B = 11 bins para MI\n",
      " nmi: (166, 166)\n"
     ]
    },
    {
     "name": "stderr",
     "output_type": "stream",
     "text": [
      "Extracting features:  41%|████      | 178/432 [25:22<32:58,  7.79s/it]"
     ]
    },
    {
     "name": "stdout",
     "output_type": "stream",
     "text": [
      " gc: (166, 166)\n",
      " dcv: (166, 166)\n",
      "[031_S_4474] guardado en /home/diego/Escritorio/ALL_170/TensorData/CN_tensor_031_S_4474.pt\n",
      "[031_S_4476] ➔ columnas vacías detectadas y eliminadas: [34, 35, 80, 81]\n",
      "[031_S_4476] señal tras limpieza: T=140, N=166\n",
      " corr: (166, 166)\n",
      "    → T = 140 muestras; B = 11 bins para MI\n",
      " nmi: (166, 166)\n"
     ]
    },
    {
     "name": "stderr",
     "output_type": "stream",
     "text": [
      "Extracting features:  41%|████▏     | 179/432 [25:29<32:54,  7.80s/it]"
     ]
    },
    {
     "name": "stdout",
     "output_type": "stream",
     "text": [
      " gc: (166, 166)\n",
      " dcv: (166, 166)\n",
      "[031_S_4476] guardado en /home/diego/Escritorio/ALL_170/TensorData/Other_tensor_031_S_4476.pt\n",
      "[031_S_4496] ➔ columnas vacías detectadas y eliminadas: [34, 35, 80, 81]\n",
      "[031_S_4496] señal tras limpieza: T=140, N=166\n",
      " corr: (166, 166)\n",
      "    → T = 140 muestras; B = 11 bins para MI\n",
      " nmi: (166, 166)\n"
     ]
    },
    {
     "name": "stderr",
     "output_type": "stream",
     "text": [
      "Extracting features:  42%|████▏     | 180/432 [25:37<32:30,  7.74s/it]"
     ]
    },
    {
     "name": "stdout",
     "output_type": "stream",
     "text": [
      " gc: (166, 166)\n",
      " dcv: (166, 166)\n",
      "[031_S_4496] guardado en /home/diego/Escritorio/ALL_170/TensorData/CN_tensor_031_S_4496.pt\n",
      "[031_S_4590] ➔ columnas vacías detectadas y eliminadas: [34, 35, 80, 81]\n",
      "[031_S_4590] señal tras limpieza: T=140, N=166\n",
      " corr: (166, 166)\n",
      "    → T = 140 muestras; B = 11 bins para MI\n",
      " nmi: (166, 166)\n"
     ]
    },
    {
     "name": "stderr",
     "output_type": "stream",
     "text": [
      "Extracting features:  42%|████▏     | 181/432 [25:45<32:16,  7.71s/it]"
     ]
    },
    {
     "name": "stdout",
     "output_type": "stream",
     "text": [
      " gc: (166, 166)\n",
      " dcv: (166, 166)\n",
      "[031_S_4590] guardado en /home/diego/Escritorio/ALL_170/TensorData/Other_tensor_031_S_4590.pt\n",
      "[031_S_4721] ➔ columnas vacías detectadas y eliminadas: [34, 35, 80, 81]\n",
      "[031_S_4721] señal tras limpieza: T=140, N=166\n",
      " corr: (166, 166)\n",
      "    → T = 140 muestras; B = 11 bins para MI\n",
      " nmi: (166, 166)\n"
     ]
    },
    {
     "name": "stderr",
     "output_type": "stream",
     "text": [
      "Extracting features:  42%|████▏     | 182/432 [25:52<32:13,  7.74s/it]"
     ]
    },
    {
     "name": "stdout",
     "output_type": "stream",
     "text": [
      " gc: (166, 166)\n",
      " dcv: (166, 166)\n",
      "[031_S_4721] guardado en /home/diego/Escritorio/ALL_170/TensorData/Other_tensor_031_S_4721.pt\n",
      "[031_S_4947] ➔ columnas vacías detectadas y eliminadas: [34, 35, 80, 81]\n",
      "[031_S_4947] señal tras limpieza: T=140, N=166\n",
      " corr: (166, 166)\n",
      "    → T = 140 muestras; B = 11 bins para MI\n",
      " nmi: (166, 166)\n"
     ]
    },
    {
     "name": "stderr",
     "output_type": "stream",
     "text": [
      "Extracting features:  42%|████▏     | 183/432 [26:00<32:23,  7.81s/it]"
     ]
    },
    {
     "name": "stdout",
     "output_type": "stream",
     "text": [
      " gc: (166, 166)\n",
      " dcv: (166, 166)\n",
      "[031_S_4947] guardado en /home/diego/Escritorio/ALL_170/TensorData/Other_tensor_031_S_4947.pt\n",
      "[031_S_6715] ➔ columnas vacías detectadas y eliminadas: [34, 35, 80, 81]\n",
      "[031_S_6715] señal tras limpieza: T=197, N=166\n",
      " corr: (166, 166)\n",
      "    → T = 197 muestras; B = 14 bins para MI\n",
      " nmi: (166, 166)\n"
     ]
    },
    {
     "name": "stderr",
     "output_type": "stream",
     "text": [
      "Extracting features:  43%|████▎     | 184/432 [26:09<32:54,  7.96s/it]"
     ]
    },
    {
     "name": "stdout",
     "output_type": "stream",
     "text": [
      " gc: (166, 166)\n",
      " dcv: (166, 166)\n",
      "[031_S_6715] guardado en /home/diego/Escritorio/ALL_170/TensorData/Other_tensor_031_S_6715.pt\n",
      "[032_S_2119] ➔ columnas vacías detectadas y eliminadas: [34, 35, 80, 81]\n",
      "[032_S_2119] señal tras limpieza: T=197, N=166\n",
      " corr: (166, 166)\n",
      "    → T = 197 muestras; B = 14 bins para MI\n",
      " nmi: (166, 166)\n"
     ]
    },
    {
     "name": "stderr",
     "output_type": "stream",
     "text": [
      "Extracting features:  43%|████▎     | 185/432 [26:17<33:17,  8.09s/it]"
     ]
    },
    {
     "name": "stdout",
     "output_type": "stream",
     "text": [
      " gc: (166, 166)\n",
      " dcv: (166, 166)\n",
      "[032_S_2119] guardado en /home/diego/Escritorio/ALL_170/TensorData/Other_tensor_032_S_2119.pt\n",
      "[032_S_6055] ➔ columnas vacías detectadas y eliminadas: [34, 35, 80, 81]\n",
      "[032_S_6055] señal tras limpieza: T=197, N=166\n",
      " corr: (166, 166)\n",
      "    → T = 197 muestras; B = 14 bins para MI\n",
      " nmi: (166, 166)\n",
      " gc: (166, 166)\n",
      " dcv: (166, 166)\n"
     ]
    },
    {
     "name": "stderr",
     "output_type": "stream",
     "text": [
      "Extracting features:  43%|████▎     | 186/432 [26:26<33:36,  8.20s/it]"
     ]
    },
    {
     "name": "stdout",
     "output_type": "stream",
     "text": [
      "[032_S_6055] guardado en /home/diego/Escritorio/ALL_170/TensorData/Other_tensor_032_S_6055.pt\n",
      "[032_S_6600] ➔ columnas vacías detectadas y eliminadas: [34, 35, 80, 81]\n",
      "[032_S_6600] señal tras limpieza: T=197, N=166\n",
      " corr: (166, 166)\n",
      "    → T = 197 muestras; B = 14 bins para MI\n",
      " nmi: (166, 166)\n"
     ]
    },
    {
     "name": "stderr",
     "output_type": "stream",
     "text": [
      "Extracting features:  43%|████▎     | 187/432 [26:34<33:54,  8.30s/it]"
     ]
    },
    {
     "name": "stdout",
     "output_type": "stream",
     "text": [
      " gc: (166, 166)\n",
      " dcv: (166, 166)\n",
      "[032_S_6600] guardado en /home/diego/Escritorio/ALL_170/TensorData/AD_tensor_032_S_6600.pt\n",
      "[032_S_6602] ➔ columnas vacías detectadas y eliminadas: [34, 35, 80, 81]\n",
      "[032_S_6602] señal tras limpieza: T=197, N=166\n",
      " corr: (166, 166)\n",
      "    → T = 197 muestras; B = 14 bins para MI\n",
      " nmi: (166, 166)\n"
     ]
    },
    {
     "name": "stderr",
     "output_type": "stream",
     "text": [
      "Extracting features:  44%|████▎     | 188/432 [26:43<33:54,  8.34s/it]"
     ]
    },
    {
     "name": "stdout",
     "output_type": "stream",
     "text": [
      " gc: (166, 166)\n",
      " dcv: (166, 166)\n",
      "[032_S_6602] guardado en /home/diego/Escritorio/ALL_170/TensorData/AD_tensor_032_S_6602.pt\n",
      "[032_S_6700] ➔ columnas vacías detectadas y eliminadas: [34, 35, 80, 81]\n",
      "[032_S_6700] señal tras limpieza: T=197, N=166\n",
      " corr: (166, 166)\n",
      "    → T = 197 muestras; B = 14 bins para MI\n",
      " nmi: (166, 166)\n"
     ]
    },
    {
     "name": "stderr",
     "output_type": "stream",
     "text": [
      "Extracting features:  44%|████▍     | 189/432 [26:51<33:58,  8.39s/it]"
     ]
    },
    {
     "name": "stdout",
     "output_type": "stream",
     "text": [
      " gc: (166, 166)\n",
      " dcv: (166, 166)\n",
      "[032_S_6700] guardado en /home/diego/Escritorio/ALL_170/TensorData/Other_tensor_032_S_6700.pt\n",
      "[032_S_6804] ➔ columnas vacías detectadas y eliminadas: [34, 35, 80, 81]\n",
      "[032_S_6804] señal tras limpieza: T=197, N=166\n",
      " corr: (166, 166)\n",
      "    → T = 197 muestras; B = 14 bins para MI\n",
      " nmi: (166, 166)\n"
     ]
    },
    {
     "name": "stderr",
     "output_type": "stream",
     "text": [
      "Extracting features:  44%|████▍     | 190/432 [27:00<34:08,  8.47s/it]"
     ]
    },
    {
     "name": "stdout",
     "output_type": "stream",
     "text": [
      " gc: (166, 166)\n",
      " dcv: (166, 166)\n",
      "[032_S_6804] guardado en /home/diego/Escritorio/ALL_170/TensorData/Other_tensor_032_S_6804.pt\n",
      "[032_S_6855] ➔ columnas vacías detectadas y eliminadas: [34, 35, 80, 81]\n",
      "[032_S_6855] señal tras limpieza: T=197, N=166\n",
      " corr: (166, 166)\n",
      "    → T = 197 muestras; B = 14 bins para MI\n",
      " nmi: (166, 166)\n"
     ]
    },
    {
     "name": "stderr",
     "output_type": "stream",
     "text": [
      "Extracting features:  44%|████▍     | 191/432 [27:08<34:10,  8.51s/it]"
     ]
    },
    {
     "name": "stdout",
     "output_type": "stream",
     "text": [
      " gc: (166, 166)\n",
      " dcv: (166, 166)\n",
      "[032_S_6855] guardado en /home/diego/Escritorio/ALL_170/TensorData/AD_tensor_032_S_6855.pt\n",
      "[035_S_4114] ➔ columnas vacías detectadas y eliminadas: [34, 35, 80, 81]\n",
      "[035_S_4114] señal tras limpieza: T=197, N=166\n",
      " corr: (166, 166)\n",
      "    → T = 197 muestras; B = 14 bins para MI\n",
      " nmi: (166, 166)\n"
     ]
    },
    {
     "name": "stderr",
     "output_type": "stream",
     "text": [
      "Extracting features:  44%|████▍     | 192/432 [27:18<34:52,  8.72s/it]"
     ]
    },
    {
     "name": "stdout",
     "output_type": "stream",
     "text": [
      " gc: (166, 166)\n",
      " dcv: (166, 166)\n",
      "[035_S_4114] guardado en /home/diego/Escritorio/ALL_170/TensorData/Other_tensor_035_S_4114.pt\n",
      "[035_S_4414] ➔ columnas vacías detectadas y eliminadas: [34, 35, 80, 81]\n",
      "[035_S_4414] señal tras limpieza: T=197, N=166\n",
      " corr: (166, 166)\n",
      "    → T = 197 muestras; B = 14 bins para MI\n",
      " nmi: (166, 166)\n"
     ]
    },
    {
     "name": "stderr",
     "output_type": "stream",
     "text": [
      "Extracting features:  45%|████▍     | 193/432 [27:27<35:08,  8.82s/it]"
     ]
    },
    {
     "name": "stdout",
     "output_type": "stream",
     "text": [
      " gc: (166, 166)\n",
      " dcv: (166, 166)\n",
      "[035_S_4414] guardado en /home/diego/Escritorio/ALL_170/TensorData/Other_tensor_035_S_4414.pt\n",
      "[035_S_6380] ➔ columnas vacías detectadas y eliminadas: [34, 35, 80, 81]\n",
      "[035_S_6380] señal tras limpieza: T=197, N=166\n",
      " corr: (166, 166)\n",
      "    → T = 197 muestras; B = 14 bins para MI\n",
      " nmi: (166, 166)\n"
     ]
    },
    {
     "name": "stderr",
     "output_type": "stream",
     "text": [
      "Extracting features:  45%|████▍     | 194/432 [27:36<35:33,  8.96s/it]"
     ]
    },
    {
     "name": "stdout",
     "output_type": "stream",
     "text": [
      " gc: (166, 166)\n",
      " dcv: (166, 166)\n",
      "[035_S_6380] guardado en /home/diego/Escritorio/ALL_170/TensorData/Other_tensor_035_S_6380.pt\n",
      "[035_S_6480] ➔ columnas vacías detectadas y eliminadas: [34, 35, 80, 81]\n",
      "[035_S_6480] señal tras limpieza: T=197, N=166\n",
      " corr: (166, 166)\n",
      "    → T = 197 muestras; B = 14 bins para MI\n",
      " nmi: (166, 166)\n"
     ]
    },
    {
     "name": "stderr",
     "output_type": "stream",
     "text": [
      "Extracting features:  45%|████▌     | 195/432 [27:45<35:31,  8.99s/it]"
     ]
    },
    {
     "name": "stdout",
     "output_type": "stream",
     "text": [
      " gc: (166, 166)\n",
      " dcv: (166, 166)\n",
      "[035_S_6480] guardado en /home/diego/Escritorio/ALL_170/TensorData/Other_tensor_035_S_6480.pt\n",
      "[035_S_6641] ➔ columnas vacías detectadas y eliminadas: [34, 35, 80, 81]\n",
      "[035_S_6641] señal tras limpieza: T=197, N=166\n",
      " corr: (166, 166)\n",
      "    → T = 197 muestras; B = 14 bins para MI\n",
      " nmi: (166, 166)\n"
     ]
    },
    {
     "name": "stderr",
     "output_type": "stream",
     "text": [
      "Extracting features:  45%|████▌     | 196/432 [27:54<35:30,  9.03s/it]"
     ]
    },
    {
     "name": "stdout",
     "output_type": "stream",
     "text": [
      " gc: (166, 166)\n",
      " dcv: (166, 166)\n",
      "[035_S_6641] guardado en /home/diego/Escritorio/ALL_170/TensorData/Other_tensor_035_S_6641.pt\n",
      "[035_S_6650] ➔ columnas vacías detectadas y eliminadas: [34, 35, 80, 81]\n",
      "[035_S_6650] señal tras limpieza: T=197, N=166\n",
      " corr: (166, 166)\n",
      "    → T = 197 muestras; B = 14 bins para MI\n",
      " nmi: (166, 166)\n"
     ]
    },
    {
     "name": "stderr",
     "output_type": "stream",
     "text": [
      "Extracting features:  46%|████▌     | 197/432 [28:03<35:46,  9.13s/it]"
     ]
    },
    {
     "name": "stdout",
     "output_type": "stream",
     "text": [
      " gc: (166, 166)\n",
      " dcv: (166, 166)\n",
      "[035_S_6650] guardado en /home/diego/Escritorio/ALL_170/TensorData/AD_tensor_035_S_6650.pt\n",
      "[035_S_6660] ➔ columnas vacías detectadas y eliminadas: [34, 35, 80, 81]\n",
      "[035_S_6660] señal tras limpieza: T=197, N=166\n",
      " corr: (166, 166)\n",
      "    → T = 197 muestras; B = 14 bins para MI\n",
      " nmi: (166, 166)\n"
     ]
    },
    {
     "name": "stderr",
     "output_type": "stream",
     "text": [
      "Extracting features:  46%|████▌     | 198/432 [28:12<35:23,  9.08s/it]"
     ]
    },
    {
     "name": "stdout",
     "output_type": "stream",
     "text": [
      " gc: (166, 166)\n",
      " dcv: (166, 166)\n",
      "[035_S_6660] guardado en /home/diego/Escritorio/ALL_170/TensorData/AD_tensor_035_S_6660.pt\n",
      "[035_S_6947] ➔ columnas vacías detectadas y eliminadas: [34, 35, 80, 81]\n",
      "[035_S_6947] señal tras limpieza: T=197, N=166\n",
      " corr: (166, 166)\n",
      "    → T = 197 muestras; B = 14 bins para MI\n",
      " nmi: (166, 166)\n"
     ]
    },
    {
     "name": "stderr",
     "output_type": "stream",
     "text": [
      "Extracting features:  46%|████▌     | 199/432 [28:21<35:08,  9.05s/it]"
     ]
    },
    {
     "name": "stdout",
     "output_type": "stream",
     "text": [
      " gc: (166, 166)\n",
      " dcv: (166, 166)\n",
      "[035_S_6947] guardado en /home/diego/Escritorio/ALL_170/TensorData/Other_tensor_035_S_6947.pt\n",
      "[035_S_7000] ➔ columnas vacías detectadas y eliminadas: [34, 35, 80, 81]\n",
      "[035_S_7000] señal tras limpieza: T=197, N=166\n",
      " corr: (166, 166)\n",
      "    → T = 197 muestras; B = 14 bins para MI\n",
      " nmi: (166, 166)\n"
     ]
    },
    {
     "name": "stderr",
     "output_type": "stream",
     "text": [
      "Extracting features:  46%|████▋     | 200/432 [28:30<35:03,  9.07s/it]"
     ]
    },
    {
     "name": "stdout",
     "output_type": "stream",
     "text": [
      " gc: (166, 166)\n",
      " dcv: (166, 166)\n",
      "[035_S_7000] guardado en /home/diego/Escritorio/ALL_170/TensorData/Other_tensor_035_S_7000.pt\n",
      "[035_S_7001] ➔ columnas vacías detectadas y eliminadas: [34, 35, 80, 81]\n",
      "[035_S_7001] señal tras limpieza: T=197, N=166\n",
      " corr: (166, 166)\n",
      "    → T = 197 muestras; B = 14 bins para MI\n",
      " nmi: (166, 166)\n"
     ]
    },
    {
     "name": "stderr",
     "output_type": "stream",
     "text": [
      "Extracting features:  47%|████▋     | 201/432 [28:40<35:11,  9.14s/it]"
     ]
    },
    {
     "name": "stdout",
     "output_type": "stream",
     "text": [
      " gc: (166, 166)\n",
      " dcv: (166, 166)\n",
      "[035_S_7001] guardado en /home/diego/Escritorio/ALL_170/TensorData/AD_tensor_035_S_7001.pt\n",
      "[035_S_7021] ➔ columnas vacías detectadas y eliminadas: [34, 35, 80, 81]\n",
      "[035_S_7021] señal tras limpieza: T=197, N=166\n",
      " corr: (166, 166)\n",
      "    → T = 197 muestras; B = 14 bins para MI\n",
      " nmi: (166, 166)\n"
     ]
    },
    {
     "name": "stderr",
     "output_type": "stream",
     "text": [
      "Extracting features:  47%|████▋     | 202/432 [28:49<34:50,  9.09s/it]"
     ]
    },
    {
     "name": "stdout",
     "output_type": "stream",
     "text": [
      " gc: (166, 166)\n",
      " dcv: (166, 166)\n",
      "[035_S_7021] guardado en /home/diego/Escritorio/ALL_170/TensorData/Other_tensor_035_S_7021.pt\n",
      "[035_S_7049] ➔ columnas vacías detectadas y eliminadas: [34, 35, 80, 81]\n",
      "[035_S_7049] señal tras limpieza: T=197, N=166\n",
      " corr: (166, 166)\n",
      "    → T = 197 muestras; B = 14 bins para MI\n",
      " nmi: (166, 166)\n"
     ]
    },
    {
     "name": "stderr",
     "output_type": "stream",
     "text": [
      "Extracting features:  47%|████▋     | 203/432 [28:58<34:39,  9.08s/it]"
     ]
    },
    {
     "name": "stdout",
     "output_type": "stream",
     "text": [
      " gc: (166, 166)\n",
      " dcv: (166, 166)\n",
      "[035_S_7049] guardado en /home/diego/Escritorio/ALL_170/TensorData/Other_tensor_035_S_7049.pt\n",
      "[035_S_7073] ➔ columnas vacías detectadas y eliminadas: [34, 35, 80, 81]\n",
      "[035_S_7073] señal tras limpieza: T=197, N=166\n",
      " corr: (166, 166)\n",
      "    → T = 197 muestras; B = 14 bins para MI\n",
      " nmi: (166, 166)\n",
      " gc: (166, 166)\n"
     ]
    },
    {
     "name": "stderr",
     "output_type": "stream",
     "text": [
      "Extracting features:  47%|████▋     | 204/432 [29:07<35:02,  9.22s/it]"
     ]
    },
    {
     "name": "stdout",
     "output_type": "stream",
     "text": [
      " dcv: (166, 166)\n",
      "[035_S_7073] guardado en /home/diego/Escritorio/ALL_170/TensorData/Other_tensor_035_S_7073.pt\n",
      "[035_S_7105] ➔ columnas vacías detectadas y eliminadas: [34, 35, 80, 81]\n",
      "[035_S_7105] señal tras limpieza: T=197, N=166\n",
      " corr: (166, 166)\n",
      "    → T = 197 muestras; B = 14 bins para MI\n",
      " nmi: (166, 166)\n"
     ]
    },
    {
     "name": "stderr",
     "output_type": "stream",
     "text": [
      "Extracting features:  47%|████▋     | 205/432 [29:16<34:34,  9.14s/it]"
     ]
    },
    {
     "name": "stdout",
     "output_type": "stream",
     "text": [
      " gc: (166, 166)\n",
      " dcv: (166, 166)\n",
      "[035_S_7105] guardado en /home/diego/Escritorio/ALL_170/TensorData/Other_tensor_035_S_7105.pt\n",
      "[035_S_7120] ➔ columnas vacías detectadas y eliminadas: [34, 35, 80, 81]\n",
      "[035_S_7120] señal tras limpieza: T=197, N=166\n",
      " corr: (166, 166)\n",
      "    → T = 197 muestras; B = 14 bins para MI\n",
      " nmi: (166, 166)\n"
     ]
    },
    {
     "name": "stderr",
     "output_type": "stream",
     "text": [
      "Extracting features:  48%|████▊     | 206/432 [29:28<37:29,  9.95s/it]"
     ]
    },
    {
     "name": "stdout",
     "output_type": "stream",
     "text": [
      " gc: (166, 166)\n",
      " dcv: (166, 166)\n",
      "[035_S_7120] guardado en /home/diego/Escritorio/ALL_170/TensorData/AD_tensor_035_S_7120.pt\n",
      "[035_S_7121] ➔ columnas vacías detectadas y eliminadas: [34, 35, 80, 81]\n",
      "[035_S_7121] señal tras limpieza: T=197, N=166\n",
      " corr: (166, 166)\n",
      "    → T = 197 muestras; B = 14 bins para MI\n",
      " nmi: (166, 166)\n"
     ]
    },
    {
     "name": "stderr",
     "output_type": "stream",
     "text": [
      "Extracting features:  48%|████▊     | 207/432 [29:40<39:49, 10.62s/it]"
     ]
    },
    {
     "name": "stdout",
     "output_type": "stream",
     "text": [
      " gc: (166, 166)\n",
      " dcv: (166, 166)\n",
      "[035_S_7121] guardado en /home/diego/Escritorio/ALL_170/TensorData/Other_tensor_035_S_7121.pt\n",
      "[037_S_0150] ➔ columnas vacías detectadas y eliminadas: [34, 35, 80, 81]\n",
      "[037_S_0150] señal tras limpieza: T=197, N=166\n",
      " corr: (166, 166)\n",
      "    → T = 197 muestras; B = 14 bins para MI\n",
      " nmi: (166, 166)\n"
     ]
    },
    {
     "name": "stderr",
     "output_type": "stream",
     "text": [
      "Extracting features:  48%|████▊     | 208/432 [29:52<41:09, 11.02s/it]"
     ]
    },
    {
     "name": "stdout",
     "output_type": "stream",
     "text": [
      " gc: (166, 166)\n",
      " dcv: (166, 166)\n",
      "[037_S_0150] guardado en /home/diego/Escritorio/ALL_170/TensorData/Other_tensor_037_S_0150.pt\n",
      "[037_S_0377] ➔ columnas vacías detectadas y eliminadas: [34, 35, 80, 81]\n",
      "[037_S_0377] señal tras limpieza: T=197, N=166\n",
      " corr: (166, 166)\n",
      "    → T = 197 muestras; B = 14 bins para MI\n",
      " nmi: (166, 166)\n"
     ]
    },
    {
     "name": "stderr",
     "output_type": "stream",
     "text": [
      "Extracting features:  48%|████▊     | 209/432 [30:04<42:04, 11.32s/it]"
     ]
    },
    {
     "name": "stdout",
     "output_type": "stream",
     "text": [
      " gc: (166, 166)\n",
      " dcv: (166, 166)\n",
      "[037_S_0377] guardado en /home/diego/Escritorio/ALL_170/TensorData/Other_tensor_037_S_0377.pt\n",
      "[037_S_4030] ➔ columnas vacías detectadas y eliminadas: [34, 35, 80, 81]\n",
      "[037_S_4030] señal tras limpieza: T=197, N=166\n",
      " corr: (166, 166)\n",
      "    → T = 197 muestras; B = 14 bins para MI\n",
      " nmi: (166, 166)\n"
     ]
    },
    {
     "name": "stderr",
     "output_type": "stream",
     "text": [
      "Extracting features:  49%|████▊     | 210/432 [30:16<42:42, 11.54s/it]"
     ]
    },
    {
     "name": "stdout",
     "output_type": "stream",
     "text": [
      " gc: (166, 166)\n",
      " dcv: (166, 166)\n",
      "[037_S_4030] guardado en /home/diego/Escritorio/ALL_170/TensorData/Other_tensor_037_S_4030.pt\n",
      "[037_S_4214] ➔ columnas vacías detectadas y eliminadas: [34, 35, 80, 81]\n",
      "[037_S_4214] señal tras limpieza: T=197, N=166\n",
      " corr: (166, 166)\n",
      "    → T = 197 muestras; B = 14 bins para MI\n",
      " nmi: (166, 166)\n",
      " gc: (166, 166)\n",
      " dcv: (166, 166)\n",
      "[037_S_4214] guardado en /home/diego/Escritorio/ALL_170/TensorData/Other_tensor_037_S_4214.pt\n"
     ]
    },
    {
     "name": "stderr",
     "output_type": "stream",
     "text": [
      "Extracting features:  49%|████▉     | 211/432 [30:28<43:06, 11.70s/it]"
     ]
    },
    {
     "name": "stdout",
     "output_type": "stream",
     "text": [
      "[037_S_4302] ➔ columnas vacías detectadas y eliminadas: [34, 35, 80, 81]\n",
      "[037_S_4302] señal tras limpieza: T=197, N=166\n",
      " corr: (166, 166)\n",
      "    → T = 197 muestras; B = 14 bins para MI\n",
      " nmi: (166, 166)\n"
     ]
    },
    {
     "name": "stderr",
     "output_type": "stream",
     "text": [
      "Extracting features:  49%|████▉     | 212/432 [30:41<43:21, 11.82s/it]"
     ]
    },
    {
     "name": "stdout",
     "output_type": "stream",
     "text": [
      " gc: (166, 166)\n",
      " dcv: (166, 166)\n",
      "[037_S_4302] guardado en /home/diego/Escritorio/ALL_170/TensorData/Other_tensor_037_S_4302.pt\n",
      "[037_S_4706] ➔ columnas vacías detectadas y eliminadas: [34, 35, 80, 81]\n",
      "[037_S_4706] señal tras limpieza: T=197, N=166\n",
      " corr: (166, 166)\n",
      "    → T = 197 muestras; B = 14 bins para MI\n",
      " nmi: (166, 166)\n",
      " gc: (166, 166)\n",
      " dcv: (166, 166)\n"
     ]
    },
    {
     "name": "stderr",
     "output_type": "stream",
     "text": [
      "Extracting features:  49%|████▉     | 213/432 [30:50<40:14, 11.02s/it]"
     ]
    },
    {
     "name": "stdout",
     "output_type": "stream",
     "text": [
      "[037_S_4706] guardado en /home/diego/Escritorio/ALL_170/TensorData/Other_tensor_037_S_4706.pt\n",
      "[041_S_4051] ➔ columnas vacías detectadas y eliminadas: [34, 35, 80, 81]\n",
      "[041_S_4051] señal tras limpieza: T=197, N=166\n",
      " corr: (166, 166)\n",
      "    → T = 197 muestras; B = 14 bins para MI\n",
      " nmi: (166, 166)\n",
      " gc: (166, 166)\n",
      " dcv: (166, 166)\n"
     ]
    },
    {
     "name": "stderr",
     "output_type": "stream",
     "text": [
      "Extracting features:  50%|████▉     | 214/432 [30:59<38:01, 10.47s/it]"
     ]
    },
    {
     "name": "stdout",
     "output_type": "stream",
     "text": [
      "[041_S_4051] guardado en /home/diego/Escritorio/ALL_170/TensorData/Other_tensor_041_S_4051.pt\n",
      "[041_S_4143] ➔ columnas vacías detectadas y eliminadas: [34, 35, 80, 81]\n",
      "[041_S_4143] señal tras limpieza: T=197, N=166\n",
      " corr: (166, 166)\n",
      "    → T = 197 muestras; B = 14 bins para MI\n",
      " nmi: (166, 166)\n"
     ]
    },
    {
     "name": "stderr",
     "output_type": "stream",
     "text": [
      "Extracting features:  50%|████▉     | 215/432 [31:08<36:19, 10.05s/it]"
     ]
    },
    {
     "name": "stdout",
     "output_type": "stream",
     "text": [
      " gc: (166, 166)\n",
      " dcv: (166, 166)\n",
      "[041_S_4143] guardado en /home/diego/Escritorio/ALL_170/TensorData/Other_tensor_041_S_4143.pt\n",
      "[041_S_4271] ➔ columnas vacías detectadas y eliminadas: [34, 35, 80, 81]\n",
      "[041_S_4271] señal tras limpieza: T=197, N=166\n",
      " corr: (166, 166)\n",
      "    → T = 197 muestras; B = 14 bins para MI\n",
      " nmi: (166, 166)\n"
     ]
    },
    {
     "name": "stderr",
     "output_type": "stream",
     "text": [
      "Extracting features:  50%|█████     | 216/432 [31:17<35:16,  9.80s/it]"
     ]
    },
    {
     "name": "stdout",
     "output_type": "stream",
     "text": [
      " gc: (166, 166)\n",
      " dcv: (166, 166)\n",
      "[041_S_4271] guardado en /home/diego/Escritorio/ALL_170/TensorData/Other_tensor_041_S_4271.pt\n",
      "[041_S_4510] ➔ columnas vacías detectadas y eliminadas: [34, 35, 80, 81]\n",
      "[041_S_4510] señal tras limpieza: T=197, N=166\n",
      " corr: (166, 166)\n",
      "    → T = 197 muestras; B = 14 bins para MI\n",
      " nmi: (166, 166)\n",
      " gc: (166, 166)\n"
     ]
    },
    {
     "name": "stderr",
     "output_type": "stream",
     "text": [
      "Extracting features:  50%|█████     | 217/432 [31:27<34:51,  9.73s/it]"
     ]
    },
    {
     "name": "stdout",
     "output_type": "stream",
     "text": [
      " dcv: (166, 166)\n",
      "[041_S_4510] guardado en /home/diego/Escritorio/ALL_170/TensorData/Other_tensor_041_S_4510.pt\n",
      "[041_S_4513] ➔ columnas vacías detectadas y eliminadas: [34, 35, 80, 81]\n",
      "[041_S_4513] señal tras limpieza: T=197, N=166\n",
      " corr: (166, 166)\n",
      "    → T = 197 muestras; B = 14 bins para MI\n",
      " nmi: (166, 166)\n"
     ]
    },
    {
     "name": "stderr",
     "output_type": "stream",
     "text": [
      "Extracting features:  50%|█████     | 218/432 [31:36<33:52,  9.50s/it]"
     ]
    },
    {
     "name": "stdout",
     "output_type": "stream",
     "text": [
      " gc: (166, 166)\n",
      " dcv: (166, 166)\n",
      "[041_S_4513] guardado en /home/diego/Escritorio/ALL_170/TensorData/Other_tensor_041_S_4513.pt\n",
      "[041_S_4874] ➔ columnas vacías detectadas y eliminadas: [34, 35, 80, 81]\n",
      "[041_S_4874] señal tras limpieza: T=197, N=166\n",
      " corr: (166, 166)\n",
      "    → T = 197 muestras; B = 14 bins para MI\n",
      " nmi: (166, 166)\n"
     ]
    },
    {
     "name": "stderr",
     "output_type": "stream",
     "text": [
      "Extracting features:  51%|█████     | 219/432 [31:45<33:13,  9.36s/it]"
     ]
    },
    {
     "name": "stdout",
     "output_type": "stream",
     "text": [
      " gc: (166, 166)\n",
      " dcv: (166, 166)\n",
      "[041_S_4874] guardado en /home/diego/Escritorio/ALL_170/TensorData/Other_tensor_041_S_4874.pt\n",
      "[041_S_4876] ➔ columnas vacías detectadas y eliminadas: [34, 35, 80, 81]\n",
      "[041_S_4876] señal tras limpieza: T=197, N=166\n",
      " corr: (166, 166)\n",
      "    → T = 197 muestras; B = 14 bins para MI\n",
      " nmi: (166, 166)\n"
     ]
    },
    {
     "name": "stderr",
     "output_type": "stream",
     "text": [
      "Extracting features:  51%|█████     | 220/432 [31:54<32:43,  9.26s/it]"
     ]
    },
    {
     "name": "stdout",
     "output_type": "stream",
     "text": [
      " gc: (166, 166)\n",
      " dcv: (166, 166)\n",
      "[041_S_4876] guardado en /home/diego/Escritorio/ALL_170/TensorData/Other_tensor_041_S_4876.pt\n",
      "[041_S_4974] ➔ columnas vacías detectadas y eliminadas: [34, 35, 80, 81]\n",
      "[041_S_4974] señal tras limpieza: T=197, N=166\n",
      " corr: (166, 166)\n",
      "    → T = 197 muestras; B = 14 bins para MI\n",
      " nmi: (166, 166)\n"
     ]
    },
    {
     "name": "stderr",
     "output_type": "stream",
     "text": [
      "Extracting features:  51%|█████     | 221/432 [32:03<32:42,  9.30s/it]"
     ]
    },
    {
     "name": "stdout",
     "output_type": "stream",
     "text": [
      " gc: (166, 166)\n",
      " dcv: (166, 166)\n",
      "[041_S_4974] guardado en /home/diego/Escritorio/ALL_170/TensorData/Other_tensor_041_S_4974.pt\n",
      "[053_S_0919] ➔ columnas vacías detectadas y eliminadas: [34, 35, 80, 81]\n",
      "[053_S_0919] señal tras limpieza: T=140, N=166\n",
      " corr: (166, 166)\n",
      "    → T = 140 muestras; B = 11 bins para MI\n",
      " nmi: (166, 166)\n"
     ]
    },
    {
     "name": "stderr",
     "output_type": "stream",
     "text": [
      "Extracting features:  51%|█████▏    | 222/432 [32:11<31:29,  9.00s/it]"
     ]
    },
    {
     "name": "stdout",
     "output_type": "stream",
     "text": [
      " gc: (166, 166)\n",
      " dcv: (166, 166)\n",
      "[053_S_0919] guardado en /home/diego/Escritorio/ALL_170/TensorData/Other_tensor_053_S_0919.pt\n",
      "[053_S_2357] ➔ columnas vacías detectadas y eliminadas: [34, 35, 80, 81]\n",
      "[053_S_2357] señal tras limpieza: T=140, N=166\n",
      " corr: (166, 166)\n",
      "    → T = 140 muestras; B = 11 bins para MI\n",
      " nmi: (166, 166)\n"
     ]
    },
    {
     "name": "stderr",
     "output_type": "stream",
     "text": [
      "Extracting features:  52%|█████▏    | 223/432 [32:20<30:34,  8.78s/it]"
     ]
    },
    {
     "name": "stdout",
     "output_type": "stream",
     "text": [
      " gc: (166, 166)\n",
      " dcv: (166, 166)\n",
      "[053_S_2357] guardado en /home/diego/Escritorio/ALL_170/TensorData/Other_tensor_053_S_2357.pt\n",
      "[053_S_2396] ➔ columnas vacías detectadas y eliminadas: [34, 35, 80, 81]\n",
      "[053_S_2396] señal tras limpieza: T=140, N=166\n",
      " corr: (166, 166)\n",
      "    → T = 140 muestras; B = 11 bins para MI\n",
      " nmi: (166, 166)\n"
     ]
    },
    {
     "name": "stderr",
     "output_type": "stream",
     "text": [
      "Extracting features:  52%|█████▏    | 224/432 [32:28<30:20,  8.75s/it]"
     ]
    },
    {
     "name": "stdout",
     "output_type": "stream",
     "text": [
      " gc: (166, 166)\n",
      " dcv: (166, 166)\n",
      "[053_S_2396] guardado en /home/diego/Escritorio/ALL_170/TensorData/Other_tensor_053_S_2396.pt\n",
      "[053_S_4557] ➔ columnas vacías detectadas y eliminadas: [34, 35, 80, 81]\n",
      "[053_S_4557] señal tras limpieza: T=140, N=166\n",
      " corr: (166, 166)\n",
      "    → T = 140 muestras; B = 11 bins para MI\n",
      " nmi: (166, 166)\n"
     ]
    },
    {
     "name": "stderr",
     "output_type": "stream",
     "text": [
      "Extracting features:  52%|█████▏    | 225/432 [32:37<29:46,  8.63s/it]"
     ]
    },
    {
     "name": "stdout",
     "output_type": "stream",
     "text": [
      " gc: (166, 166)\n",
      " dcv: (166, 166)\n",
      "[053_S_4557] guardado en /home/diego/Escritorio/ALL_170/TensorData/Other_tensor_053_S_4557.pt\n",
      "[053_S_4578] ➔ columnas vacías detectadas y eliminadas: [34, 35, 80, 81]\n",
      "[053_S_4578] señal tras limpieza: T=140, N=166\n",
      " corr: (166, 166)\n",
      "    → T = 140 muestras; B = 11 bins para MI\n",
      " nmi: (166, 166)\n"
     ]
    },
    {
     "name": "stderr",
     "output_type": "stream",
     "text": [
      "Extracting features:  52%|█████▏    | 226/432 [32:45<29:18,  8.54s/it]"
     ]
    },
    {
     "name": "stdout",
     "output_type": "stream",
     "text": [
      " gc: (166, 166)\n",
      " dcv: (166, 166)\n",
      "[053_S_4578] guardado en /home/diego/Escritorio/ALL_170/TensorData/CN_tensor_053_S_4578.pt\n",
      "[053_S_4661] ➔ columnas vacías detectadas y eliminadas: [34, 35, 80, 81]\n",
      "[053_S_4661] señal tras limpieza: T=140, N=166\n",
      " corr: (166, 166)\n",
      "    → T = 140 muestras; B = 11 bins para MI\n",
      " nmi: (166, 166)\n"
     ]
    },
    {
     "name": "stderr",
     "output_type": "stream",
     "text": [
      "Extracting features:  53%|█████▎    | 227/432 [32:54<29:03,  8.51s/it]"
     ]
    },
    {
     "name": "stdout",
     "output_type": "stream",
     "text": [
      " gc: (166, 166)\n",
      " dcv: (166, 166)\n",
      "[053_S_4661] guardado en /home/diego/Escritorio/ALL_170/TensorData/Other_tensor_053_S_4661.pt\n",
      "[053_S_4813] ➔ columnas vacías detectadas y eliminadas: [34, 35, 80, 81]\n",
      "[053_S_4813] señal tras limpieza: T=140, N=166\n",
      " corr: (166, 166)\n",
      "    → T = 140 muestras; B = 11 bins para MI\n",
      " nmi: (166, 166)\n"
     ]
    },
    {
     "name": "stderr",
     "output_type": "stream",
     "text": [
      "Extracting features:  53%|█████▎    | 228/432 [33:02<29:17,  8.62s/it]"
     ]
    },
    {
     "name": "stdout",
     "output_type": "stream",
     "text": [
      " gc: (166, 166)\n",
      " dcv: (166, 166)\n",
      "[053_S_4813] guardado en /home/diego/Escritorio/ALL_170/TensorData/Other_tensor_053_S_4813.pt\n",
      "[053_S_5070] ➔ columnas vacías detectadas y eliminadas: [34, 35, 80, 81]\n",
      "[053_S_5070] señal tras limpieza: T=140, N=166\n",
      " corr: (166, 166)\n",
      "    → T = 140 muestras; B = 11 bins para MI\n",
      " nmi: (166, 166)\n"
     ]
    },
    {
     "name": "stderr",
     "output_type": "stream",
     "text": [
      "Extracting features:  53%|█████▎    | 229/432 [33:11<28:56,  8.55s/it]"
     ]
    },
    {
     "name": "stdout",
     "output_type": "stream",
     "text": [
      " gc: (166, 166)\n",
      " dcv: (166, 166)\n",
      "[053_S_5070] guardado en /home/diego/Escritorio/ALL_170/TensorData/AD_tensor_053_S_5070.pt\n",
      "[053_S_5208] ➔ columnas vacías detectadas y eliminadas: [34, 35, 80, 81]\n",
      "[053_S_5208] señal tras limpieza: T=140, N=166\n",
      " corr: (166, 166)\n",
      "    → T = 140 muestras; B = 11 bins para MI\n",
      " nmi: (166, 166)\n"
     ]
    },
    {
     "name": "stderr",
     "output_type": "stream",
     "text": [
      "Extracting features:  53%|█████▎    | 230/432 [33:19<28:29,  8.46s/it]"
     ]
    },
    {
     "name": "stdout",
     "output_type": "stream",
     "text": [
      " gc: (166, 166)\n",
      " dcv: (166, 166)\n",
      "[053_S_5208] guardado en /home/diego/Escritorio/ALL_170/TensorData/AD_tensor_053_S_5208.pt\n",
      "[053_S_6598] ➔ columnas vacías detectadas y eliminadas: [34, 35, 80, 81]\n",
      "[053_S_6598] señal tras limpieza: T=197, N=166\n",
      " corr: (166, 166)\n",
      "    → T = 197 muestras; B = 14 bins para MI\n",
      " nmi: (166, 166)\n"
     ]
    },
    {
     "name": "stderr",
     "output_type": "stream",
     "text": [
      "Extracting features:  53%|█████▎    | 231/432 [33:28<29:06,  8.69s/it]"
     ]
    },
    {
     "name": "stdout",
     "output_type": "stream",
     "text": [
      " gc: (166, 166)\n",
      " dcv: (166, 166)\n",
      "[053_S_6598] guardado en /home/diego/Escritorio/ALL_170/TensorData/Other_tensor_053_S_6598.pt\n",
      "[053_S_6861] ➔ columnas vacías detectadas y eliminadas: [34, 35, 80, 81]\n",
      "[053_S_6861] señal tras limpieza: T=197, N=166\n",
      " corr: (166, 166)\n",
      "    → T = 197 muestras; B = 14 bins para MI\n",
      " nmi: (166, 166)\n"
     ]
    },
    {
     "name": "stderr",
     "output_type": "stream",
     "text": [
      "Extracting features:  54%|█████▎    | 232/432 [33:38<29:30,  8.85s/it]"
     ]
    },
    {
     "name": "stdout",
     "output_type": "stream",
     "text": [
      " gc: (166, 166)\n",
      " dcv: (166, 166)\n",
      "[053_S_6861] guardado en /home/diego/Escritorio/ALL_170/TensorData/Other_tensor_053_S_6861.pt\n",
      "[053_S_7086] ➔ columnas vacías detectadas y eliminadas: [34, 35, 80, 81]\n",
      "[053_S_7086] señal tras limpieza: T=197, N=166\n",
      " corr: (166, 166)\n",
      "    → T = 197 muestras; B = 14 bins para MI\n",
      " nmi: (166, 166)\n"
     ]
    },
    {
     "name": "stderr",
     "output_type": "stream",
     "text": [
      "Extracting features:  54%|█████▍    | 233/432 [33:46<29:29,  8.89s/it]"
     ]
    },
    {
     "name": "stdout",
     "output_type": "stream",
     "text": [
      " gc: (166, 166)\n",
      " dcv: (166, 166)\n",
      "[053_S_7086] guardado en /home/diego/Escritorio/ALL_170/TensorData/Other_tensor_053_S_7086.pt\n",
      "[053_S_7109] ➔ columnas vacías detectadas y eliminadas: [34, 35, 80, 81]\n",
      "[053_S_7109] señal tras limpieza: T=197, N=166\n",
      " corr: (166, 166)\n",
      "    → T = 197 muestras; B = 14 bins para MI\n",
      " nmi: (166, 166)\n"
     ]
    },
    {
     "name": "stderr",
     "output_type": "stream",
     "text": [
      "Extracting features:  54%|█████▍    | 234/432 [33:56<29:33,  8.96s/it]"
     ]
    },
    {
     "name": "stdout",
     "output_type": "stream",
     "text": [
      " gc: (166, 166)\n",
      " dcv: (166, 166)\n",
      "[053_S_7109] guardado en /home/diego/Escritorio/ALL_170/TensorData/AD_tensor_053_S_7109.pt\n",
      "[057_S_6746] ➔ columnas vacías detectadas y eliminadas: [34, 35, 80, 81]\n",
      "[057_S_6746] señal tras limpieza: T=200, N=166\n",
      " corr: (166, 166)\n",
      "    → T = 200 muestras; B = 14 bins para MI\n",
      " nmi: (166, 166)\n"
     ]
    },
    {
     "name": "stderr",
     "output_type": "stream",
     "text": [
      "Extracting features:  54%|█████▍    | 235/432 [34:05<29:43,  9.06s/it]"
     ]
    },
    {
     "name": "stdout",
     "output_type": "stream",
     "text": [
      " gc: (166, 166)\n",
      " dcv: (166, 166)\n",
      "[057_S_6746] guardado en /home/diego/Escritorio/ALL_170/TensorData/AD_tensor_057_S_6746.pt\n",
      "[057_S_6869] ➔ columnas vacías detectadas y eliminadas: [34, 35, 80, 81]\n",
      "[057_S_6869] señal tras limpieza: T=200, N=166\n",
      " corr: (166, 166)\n",
      "    → T = 200 muestras; B = 14 bins para MI\n",
      " nmi: (166, 166)\n"
     ]
    },
    {
     "name": "stderr",
     "output_type": "stream",
     "text": [
      "Extracting features:  55%|█████▍    | 236/432 [34:15<30:07,  9.22s/it]"
     ]
    },
    {
     "name": "stdout",
     "output_type": "stream",
     "text": [
      " gc: (166, 166)\n",
      " dcv: (166, 166)\n",
      "[057_S_6869] guardado en /home/diego/Escritorio/ALL_170/TensorData/AD_tensor_057_S_6869.pt\n",
      "[068_S_2184] ➔ columnas vacías detectadas y eliminadas: [34, 35, 80, 81]\n",
      "[068_S_2184] señal tras limpieza: T=197, N=166\n",
      " corr: (166, 166)\n",
      "    → T = 197 muestras; B = 14 bins para MI\n",
      " nmi: (166, 166)\n"
     ]
    },
    {
     "name": "stderr",
     "output_type": "stream",
     "text": [
      "Extracting features:  55%|█████▍    | 237/432 [34:24<29:47,  9.17s/it]"
     ]
    },
    {
     "name": "stdout",
     "output_type": "stream",
     "text": [
      " gc: (166, 166)\n",
      " dcv: (166, 166)\n",
      "[068_S_2184] guardado en /home/diego/Escritorio/ALL_170/TensorData/Other_tensor_068_S_2184.pt\n",
      "[068_S_2187] ➔ columnas vacías detectadas y eliminadas: [34, 35, 80, 81]\n",
      "[068_S_2187] señal tras limpieza: T=197, N=166\n",
      " corr: (166, 166)\n",
      "    → T = 197 muestras; B = 14 bins para MI\n",
      " nmi: (166, 166)\n"
     ]
    },
    {
     "name": "stderr",
     "output_type": "stream",
     "text": [
      "Extracting features:  55%|█████▌    | 238/432 [34:33<29:52,  9.24s/it]"
     ]
    },
    {
     "name": "stdout",
     "output_type": "stream",
     "text": [
      " gc: (166, 166)\n",
      " dcv: (166, 166)\n",
      "[068_S_2187] guardado en /home/diego/Escritorio/ALL_170/TensorData/Other_tensor_068_S_2187.pt\n",
      "[068_S_2315] ➔ columnas vacías detectadas y eliminadas: [34, 35, 80, 81]\n",
      "[068_S_2315] señal tras limpieza: T=197, N=166\n",
      " corr: (166, 166)\n",
      "    → T = 197 muestras; B = 14 bins para MI\n",
      " nmi: (166, 166)\n"
     ]
    },
    {
     "name": "stderr",
     "output_type": "stream",
     "text": [
      "Extracting features:  55%|█████▌    | 239/432 [34:42<29:39,  9.22s/it]"
     ]
    },
    {
     "name": "stdout",
     "output_type": "stream",
     "text": [
      " gc: (166, 166)\n",
      " dcv: (166, 166)\n",
      "[068_S_2315] guardado en /home/diego/Escritorio/ALL_170/TensorData/Other_tensor_068_S_2315.pt\n",
      "[068_S_4061] ➔ columnas vacías detectadas y eliminadas: [34, 35, 80, 81]\n",
      "[068_S_4061] señal tras limpieza: T=197, N=166\n",
      " corr: (166, 166)\n",
      "    → T = 197 muestras; B = 14 bins para MI\n",
      " nmi: (166, 166)\n"
     ]
    },
    {
     "name": "stderr",
     "output_type": "stream",
     "text": [
      "Extracting features:  56%|█████▌    | 240/432 [34:51<29:20,  9.17s/it]"
     ]
    },
    {
     "name": "stdout",
     "output_type": "stream",
     "text": [
      " gc: (166, 166)\n",
      " dcv: (166, 166)\n",
      "[068_S_4061] guardado en /home/diego/Escritorio/ALL_170/TensorData/Other_tensor_068_S_4061.pt\n",
      "[068_S_4067] ➔ columnas vacías detectadas y eliminadas: [34, 35, 80, 81]\n",
      "[068_S_4067] señal tras limpieza: T=197, N=166\n",
      " corr: (166, 166)\n",
      "    → T = 197 muestras; B = 14 bins para MI\n",
      " nmi: (166, 166)\n"
     ]
    },
    {
     "name": "stderr",
     "output_type": "stream",
     "text": [
      "Extracting features:  56%|█████▌    | 241/432 [35:00<29:00,  9.11s/it]"
     ]
    },
    {
     "name": "stdout",
     "output_type": "stream",
     "text": [
      " gc: (166, 166)\n",
      " dcv: (166, 166)\n",
      "[068_S_4067] guardado en /home/diego/Escritorio/ALL_170/TensorData/Other_tensor_068_S_4067.pt\n",
      "[068_S_4332] ➔ columnas vacías detectadas y eliminadas: [34, 35, 80, 81]\n",
      "[068_S_4332] señal tras limpieza: T=197, N=166\n",
      " corr: (166, 166)\n",
      "    → T = 197 muestras; B = 14 bins para MI\n",
      " nmi: (166, 166)\n"
     ]
    },
    {
     "name": "stderr",
     "output_type": "stream",
     "text": [
      "Extracting features:  56%|█████▌    | 242/432 [35:09<28:48,  9.09s/it]"
     ]
    },
    {
     "name": "stdout",
     "output_type": "stream",
     "text": [
      " gc: (166, 166)\n",
      " dcv: (166, 166)\n",
      "[068_S_4332] guardado en /home/diego/Escritorio/ALL_170/TensorData/Other_tensor_068_S_4332.pt\n",
      "[068_S_4431] ➔ columnas vacías detectadas y eliminadas: [34, 35, 80, 81]\n",
      "[068_S_4431] señal tras limpieza: T=197, N=166\n",
      " corr: (166, 166)\n",
      "    → T = 197 muestras; B = 14 bins para MI\n",
      " nmi: (166, 166)\n"
     ]
    },
    {
     "name": "stderr",
     "output_type": "stream",
     "text": [
      "Extracting features:  56%|█████▋    | 243/432 [35:18<28:43,  9.12s/it]"
     ]
    },
    {
     "name": "stdout",
     "output_type": "stream",
     "text": [
      " gc: (166, 166)\n",
      " dcv: (166, 166)\n",
      "[068_S_4431] guardado en /home/diego/Escritorio/ALL_170/TensorData/Other_tensor_068_S_4431.pt\n",
      "[082_S_2121] ➔ columnas vacías detectadas y eliminadas: [34, 35, 80, 81]\n",
      "[082_S_2121] señal tras limpieza: T=197, N=166\n",
      " corr: (166, 166)\n",
      "    → T = 197 muestras; B = 14 bins para MI\n",
      " nmi: (166, 166)\n"
     ]
    },
    {
     "name": "stderr",
     "output_type": "stream",
     "text": [
      "Extracting features:  56%|█████▋    | 244/432 [35:27<28:31,  9.10s/it]"
     ]
    },
    {
     "name": "stdout",
     "output_type": "stream",
     "text": [
      " gc: (166, 166)\n",
      " dcv: (166, 166)\n",
      "[082_S_2121] guardado en /home/diego/Escritorio/ALL_170/TensorData/Other_tensor_082_S_2121.pt\n",
      "[082_S_6690] ➔ columnas vacías detectadas y eliminadas: [34, 35, 80, 81]\n",
      "[082_S_6690] señal tras limpieza: T=197, N=166\n",
      " corr: (166, 166)\n",
      "    → T = 197 muestras; B = 14 bins para MI\n",
      " nmi: (166, 166)\n"
     ]
    },
    {
     "name": "stderr",
     "output_type": "stream",
     "text": [
      "Extracting features:  57%|█████▋    | 245/432 [35:37<28:22,  9.10s/it]"
     ]
    },
    {
     "name": "stdout",
     "output_type": "stream",
     "text": [
      " gc: (166, 166)\n",
      " dcv: (166, 166)\n",
      "[082_S_6690] guardado en /home/diego/Escritorio/ALL_170/TensorData/AD_tensor_082_S_6690.pt\n",
      "[094_S_2201] ➔ columnas vacías detectadas y eliminadas: [34, 35, 80, 81]\n",
      "[094_S_2201] señal tras limpieza: T=197, N=166\n",
      " corr: (166, 166)\n",
      "    → T = 197 muestras; B = 14 bins para MI\n",
      " nmi: (166, 166)\n"
     ]
    },
    {
     "name": "stderr",
     "output_type": "stream",
     "text": [
      "Extracting features:  57%|█████▋    | 246/432 [35:46<28:11,  9.09s/it]"
     ]
    },
    {
     "name": "stdout",
     "output_type": "stream",
     "text": [
      " gc: (166, 166)\n",
      " dcv: (166, 166)\n",
      "[094_S_2201] guardado en /home/diego/Escritorio/ALL_170/TensorData/Other_tensor_094_S_2201.pt\n",
      "[094_S_2238] ➔ columnas vacías detectadas y eliminadas: [34, 35, 80, 81]\n",
      "[094_S_2238] señal tras limpieza: T=197, N=166\n",
      " corr: (166, 166)\n",
      "    → T = 197 muestras; B = 14 bins para MI\n",
      " nmi: (166, 166)\n",
      " gc: (166, 166)\n"
     ]
    },
    {
     "name": "stderr",
     "output_type": "stream",
     "text": [
      "Extracting features:  57%|█████▋    | 247/432 [35:55<28:18,  9.18s/it]"
     ]
    },
    {
     "name": "stdout",
     "output_type": "stream",
     "text": [
      " dcv: (166, 166)\n",
      "[094_S_2238] guardado en /home/diego/Escritorio/ALL_170/TensorData/Other_tensor_094_S_2238.pt\n",
      "[098_S_6601] ➔ columnas vacías detectadas y eliminadas: [34, 35, 80, 81]\n",
      "[098_S_6601] señal tras limpieza: T=200, N=166\n",
      " corr: (166, 166)\n",
      "    → T = 200 muestras; B = 14 bins para MI\n",
      " nmi: (166, 166)\n"
     ]
    },
    {
     "name": "stderr",
     "output_type": "stream",
     "text": [
      "Extracting features:  57%|█████▋    | 248/432 [36:04<28:14,  9.21s/it]"
     ]
    },
    {
     "name": "stdout",
     "output_type": "stream",
     "text": [
      " gc: (166, 166)\n",
      " dcv: (166, 166)\n",
      "[098_S_6601] guardado en /home/diego/Escritorio/ALL_170/TensorData/AD_tensor_098_S_6601.pt\n",
      "[098_S_6655] ➔ columnas vacías detectadas y eliminadas: [34, 35, 80, 81]\n",
      "[098_S_6655] señal tras limpieza: T=200, N=166\n",
      " corr: (166, 166)\n",
      "    → T = 200 muestras; B = 14 bins para MI\n",
      " nmi: (166, 166)\n"
     ]
    },
    {
     "name": "stderr",
     "output_type": "stream",
     "text": [
      "Extracting features:  58%|█████▊    | 249/432 [36:14<28:13,  9.26s/it]"
     ]
    },
    {
     "name": "stdout",
     "output_type": "stream",
     "text": [
      " gc: (166, 166)\n",
      " dcv: (166, 166)\n",
      "[098_S_6655] guardado en /home/diego/Escritorio/ALL_170/TensorData/AD_tensor_098_S_6655.pt\n",
      "[098_S_6658] ➔ columnas vacías detectadas y eliminadas: [34, 35, 80, 81]\n",
      "[098_S_6658] señal tras limpieza: T=200, N=166\n",
      " corr: (166, 166)\n",
      "    → T = 200 muestras; B = 14 bins para MI\n",
      " nmi: (166, 166)\n"
     ]
    },
    {
     "name": "stderr",
     "output_type": "stream",
     "text": [
      "Extracting features:  58%|█████▊    | 250/432 [36:23<28:06,  9.26s/it]"
     ]
    },
    {
     "name": "stdout",
     "output_type": "stream",
     "text": [
      " gc: (166, 166)\n",
      " dcv: (166, 166)\n",
      "[098_S_6658] guardado en /home/diego/Escritorio/ALL_170/TensorData/AD_tensor_098_S_6658.pt\n",
      "[099_S_2146] ➔ columnas vacías detectadas y eliminadas: [34, 35, 80, 81]\n",
      "[099_S_2146] señal tras limpieza: T=200, N=166\n",
      " corr: (166, 166)\n",
      "    → T = 200 muestras; B = 14 bins para MI\n",
      " nmi: (166, 166)\n"
     ]
    },
    {
     "name": "stderr",
     "output_type": "stream",
     "text": [
      "Extracting features:  58%|█████▊    | 251/432 [36:33<28:21,  9.40s/it]"
     ]
    },
    {
     "name": "stdout",
     "output_type": "stream",
     "text": [
      " gc: (166, 166)\n",
      " dcv: (166, 166)\n",
      "[099_S_2146] guardado en /home/diego/Escritorio/ALL_170/TensorData/Other_tensor_099_S_2146.pt\n",
      "[100_S_0069] ➔ columnas vacías detectadas y eliminadas: [34, 35, 80, 81]\n",
      "[100_S_0069] señal tras limpieza: T=197, N=166\n",
      " corr: (166, 166)\n",
      "    → T = 197 muestras; B = 14 bins para MI\n",
      " nmi: (166, 166)\n"
     ]
    },
    {
     "name": "stderr",
     "output_type": "stream",
     "text": [
      "Extracting features:  58%|█████▊    | 252/432 [36:42<28:01,  9.34s/it]"
     ]
    },
    {
     "name": "stdout",
     "output_type": "stream",
     "text": [
      " gc: (166, 166)\n",
      " dcv: (166, 166)\n",
      "[100_S_0069] guardado en /home/diego/Escritorio/ALL_170/TensorData/CN_tensor_100_S_0069.pt\n",
      "[100_S_1286] ➔ columnas vacías detectadas y eliminadas: [34, 35, 80, 81]\n",
      "[100_S_1286] señal tras limpieza: T=197, N=166\n",
      " corr: (166, 166)\n",
      "    → T = 197 muestras; B = 14 bins para MI\n",
      " nmi: (166, 166)\n"
     ]
    },
    {
     "name": "stderr",
     "output_type": "stream",
     "text": [
      "Extracting features:  59%|█████▊    | 253/432 [36:51<27:29,  9.22s/it]"
     ]
    },
    {
     "name": "stdout",
     "output_type": "stream",
     "text": [
      " gc: (166, 166)\n",
      " dcv: (166, 166)\n",
      "[100_S_1286] guardado en /home/diego/Escritorio/ALL_170/TensorData/CN_tensor_100_S_1286.pt\n",
      "[100_S_2351] ➔ columnas vacías detectadas y eliminadas: [34, 35, 80, 81]\n",
      "[100_S_2351] señal tras limpieza: T=140, N=166\n",
      " corr: (166, 166)\n",
      "    → T = 140 muestras; B = 11 bins para MI\n",
      " nmi: (166, 166)\n"
     ]
    },
    {
     "name": "stderr",
     "output_type": "stream",
     "text": [
      "Extracting features:  59%|█████▉    | 254/432 [36:59<26:49,  9.04s/it]"
     ]
    },
    {
     "name": "stdout",
     "output_type": "stream",
     "text": [
      " gc: (166, 166)\n",
      " dcv: (166, 166)\n",
      "[100_S_2351] guardado en /home/diego/Escritorio/ALL_170/TensorData/Other_tensor_100_S_2351.pt\n",
      "[100_S_4469] ➔ columnas vacías detectadas y eliminadas: [34, 35, 80, 81]\n",
      "[100_S_4469] señal tras limpieza: T=140, N=166\n",
      " corr: (166, 166)\n",
      "    → T = 140 muestras; B = 11 bins para MI\n",
      " nmi: (166, 166)\n"
     ]
    },
    {
     "name": "stderr",
     "output_type": "stream",
     "text": [
      "Extracting features:  59%|█████▉    | 255/432 [37:08<26:07,  8.85s/it]"
     ]
    },
    {
     "name": "stdout",
     "output_type": "stream",
     "text": [
      " gc: (166, 166)\n",
      " dcv: (166, 166)\n",
      "[100_S_4469] guardado en /home/diego/Escritorio/ALL_170/TensorData/CN_tensor_100_S_4469.pt\n",
      "[100_S_4511] ➔ columnas vacías detectadas y eliminadas: [34, 35, 80, 81]\n",
      "[100_S_4511] señal tras limpieza: T=140, N=166\n",
      " corr: (166, 166)\n",
      "    → T = 140 muestras; B = 11 bins para MI\n",
      " nmi: (166, 166)\n"
     ]
    },
    {
     "name": "stderr",
     "output_type": "stream",
     "text": [
      "Extracting features:  59%|█████▉    | 256/432 [37:16<25:30,  8.70s/it]"
     ]
    },
    {
     "name": "stdout",
     "output_type": "stream",
     "text": [
      " gc: (166, 166)\n",
      " dcv: (166, 166)\n",
      "[100_S_4511] guardado en /home/diego/Escritorio/ALL_170/TensorData/CN_tensor_100_S_4511.pt\n",
      "[100_S_4512] ➔ columnas vacías detectadas y eliminadas: [34, 35, 80, 81]\n",
      "[100_S_4512] señal tras limpieza: T=140, N=166\n",
      " corr: (166, 166)\n",
      "    → T = 140 muestras; B = 11 bins para MI\n",
      " nmi: (166, 166)\n"
     ]
    },
    {
     "name": "stderr",
     "output_type": "stream",
     "text": [
      "Extracting features:  59%|█████▉    | 257/432 [37:24<25:02,  8.59s/it]"
     ]
    },
    {
     "name": "stdout",
     "output_type": "stream",
     "text": [
      " gc: (166, 166)\n",
      " dcv: (166, 166)\n",
      "[100_S_4512] guardado en /home/diego/Escritorio/ALL_170/TensorData/Other_tensor_100_S_4512.pt\n",
      "[100_S_4556] ➔ columnas vacías detectadas y eliminadas: [34, 35, 80, 81]\n",
      "[100_S_4556] señal tras limpieza: T=140, N=166\n",
      " corr: (166, 166)\n",
      "    → T = 140 muestras; B = 11 bins para MI\n",
      " nmi: (166, 166)\n"
     ]
    },
    {
     "name": "stderr",
     "output_type": "stream",
     "text": [
      "Extracting features:  60%|█████▉    | 258/432 [37:33<24:41,  8.51s/it]"
     ]
    },
    {
     "name": "stdout",
     "output_type": "stream",
     "text": [
      " gc: (166, 166)\n",
      " dcv: (166, 166)\n",
      "[100_S_4556] guardado en /home/diego/Escritorio/ALL_170/TensorData/Other_tensor_100_S_4556.pt\n",
      "[100_S_4884] ➔ columnas vacías detectadas y eliminadas: [34, 35, 80, 81]\n",
      "[100_S_4884] señal tras limpieza: T=140, N=166\n",
      " corr: (166, 166)\n",
      "    → T = 140 muestras; B = 11 bins para MI\n",
      " nmi: (166, 166)\n"
     ]
    },
    {
     "name": "stderr",
     "output_type": "stream",
     "text": [
      "Extracting features:  60%|█████▉    | 259/432 [37:42<24:48,  8.60s/it]"
     ]
    },
    {
     "name": "stdout",
     "output_type": "stream",
     "text": [
      " gc: (166, 166)\n",
      " dcv: (166, 166)\n",
      "[100_S_4884] guardado en /home/diego/Escritorio/ALL_170/TensorData/Other_tensor_100_S_4884.pt\n",
      "[100_S_4970] ➔ columnas vacías detectadas y eliminadas: [34, 35, 80, 81]\n",
      "[100_S_4970] señal tras limpieza: T=140, N=166\n",
      " corr: (166, 166)\n",
      "    → T = 140 muestras; B = 11 bins para MI\n",
      " nmi: (166, 166)\n"
     ]
    },
    {
     "name": "stderr",
     "output_type": "stream",
     "text": [
      "Extracting features:  60%|██████    | 260/432 [37:50<24:25,  8.52s/it]"
     ]
    },
    {
     "name": "stdout",
     "output_type": "stream",
     "text": [
      " gc: (166, 166)\n",
      " dcv: (166, 166)\n",
      "[100_S_4970] guardado en /home/diego/Escritorio/ALL_170/TensorData/Other_tensor_100_S_4970.pt\n",
      "[100_S_5106] ➔ columnas vacías detectadas y eliminadas: [34, 35, 80, 81]\n",
      "[100_S_5106] señal tras limpieza: T=140, N=166\n",
      " corr: (166, 166)\n",
      "    → T = 140 muestras; B = 11 bins para MI\n",
      " nmi: (166, 166)\n"
     ]
    },
    {
     "name": "stderr",
     "output_type": "stream",
     "text": [
      "Extracting features:  60%|██████    | 261/432 [37:58<24:06,  8.46s/it]"
     ]
    },
    {
     "name": "stdout",
     "output_type": "stream",
     "text": [
      " gc: (166, 166)\n",
      " dcv: (166, 166)\n",
      "[100_S_5106] guardado en /home/diego/Escritorio/ALL_170/TensorData/AD_tensor_100_S_5106.pt\n",
      "[100_S_5246] ➔ columnas vacías detectadas y eliminadas: [34, 35, 80, 81]\n",
      "[100_S_5246] señal tras limpieza: T=140, N=166\n",
      " corr: (166, 166)\n",
      "    → T = 140 muestras; B = 11 bins para MI\n",
      " nmi: (166, 166)\n"
     ]
    },
    {
     "name": "stderr",
     "output_type": "stream",
     "text": [
      "Extracting features:  61%|██████    | 262/432 [38:07<23:50,  8.42s/it]"
     ]
    },
    {
     "name": "stdout",
     "output_type": "stream",
     "text": [
      " gc: (166, 166)\n",
      " dcv: (166, 166)\n",
      "[100_S_5246] guardado en /home/diego/Escritorio/ALL_170/TensorData/CN_tensor_100_S_5246.pt\n",
      "[100_S_6164] ➔ columnas vacías detectadas y eliminadas: [34, 35, 80, 81]\n",
      "[100_S_6164] señal tras limpieza: T=197, N=166\n",
      " corr: (166, 166)\n",
      "    → T = 197 muestras; B = 14 bins para MI\n",
      " nmi: (166, 166)\n"
     ]
    },
    {
     "name": "stderr",
     "output_type": "stream",
     "text": [
      "Extracting features:  61%|██████    | 263/432 [38:16<24:31,  8.71s/it]"
     ]
    },
    {
     "name": "stdout",
     "output_type": "stream",
     "text": [
      " gc: (166, 166)\n",
      " dcv: (166, 166)\n",
      "[100_S_6164] guardado en /home/diego/Escritorio/ALL_170/TensorData/CN_tensor_100_S_6164.pt\n",
      "[100_S_6273] ➔ columnas vacías detectadas y eliminadas: [34, 35, 80, 81]\n",
      "[100_S_6273] señal tras limpieza: T=197, N=166\n",
      " corr: (166, 166)\n",
      "    → T = 197 muestras; B = 14 bins para MI\n",
      " nmi: (166, 166)\n"
     ]
    },
    {
     "name": "stderr",
     "output_type": "stream",
     "text": [
      "Extracting features:  61%|██████    | 264/432 [38:25<24:39,  8.81s/it]"
     ]
    },
    {
     "name": "stdout",
     "output_type": "stream",
     "text": [
      " gc: (166, 166)\n",
      " dcv: (166, 166)\n",
      "[100_S_6273] guardado en /home/diego/Escritorio/ALL_170/TensorData/CN_tensor_100_S_6273.pt\n",
      "[100_S_6308] ➔ columnas vacías detectadas y eliminadas: [34, 35, 80, 81]\n",
      "[100_S_6308] señal tras limpieza: T=197, N=166\n",
      " corr: (166, 166)\n",
      "    → T = 197 muestras; B = 14 bins para MI\n",
      " nmi: (166, 166)\n"
     ]
    },
    {
     "name": "stderr",
     "output_type": "stream",
     "text": [
      "Extracting features:  61%|██████▏   | 265/432 [38:34<24:44,  8.89s/it]"
     ]
    },
    {
     "name": "stdout",
     "output_type": "stream",
     "text": [
      " gc: (166, 166)\n",
      " dcv: (166, 166)\n",
      "[100_S_6308] guardado en /home/diego/Escritorio/ALL_170/TensorData/CN_tensor_100_S_6308.pt\n",
      "[100_S_6349] ➔ columnas vacías detectadas y eliminadas: [34, 35, 80, 81]\n",
      "[100_S_6349] señal tras limpieza: T=197, N=166\n",
      " corr: (166, 166)\n",
      "    → T = 197 muestras; B = 14 bins para MI\n",
      " nmi: (166, 166)\n"
     ]
    },
    {
     "name": "stderr",
     "output_type": "stream",
     "text": [
      "Extracting features:  62%|██████▏   | 266/432 [38:43<24:59,  9.03s/it]"
     ]
    },
    {
     "name": "stdout",
     "output_type": "stream",
     "text": [
      " gc: (166, 166)\n",
      " dcv: (166, 166)\n",
      "[100_S_6349] guardado en /home/diego/Escritorio/ALL_170/TensorData/CN_tensor_100_S_6349.pt\n",
      "[100_S_6493] ➔ columnas vacías detectadas y eliminadas: [34, 35, 80, 81]\n",
      "[100_S_6493] señal tras limpieza: T=197, N=166\n",
      " corr: (166, 166)\n",
      "    → T = 197 muestras; B = 14 bins para MI\n",
      " nmi: (166, 166)\n"
     ]
    },
    {
     "name": "stderr",
     "output_type": "stream",
     "text": [
      "Extracting features:  62%|██████▏   | 267/432 [38:53<24:50,  9.03s/it]"
     ]
    },
    {
     "name": "stdout",
     "output_type": "stream",
     "text": [
      " gc: (166, 166)\n",
      " dcv: (166, 166)\n",
      "[100_S_6493] guardado en /home/diego/Escritorio/ALL_170/TensorData/CN_tensor_100_S_6493.pt\n",
      "[100_S_6578] ➔ columnas vacías detectadas y eliminadas: [34, 35, 80, 81]\n",
      "[100_S_6578] señal tras limpieza: T=197, N=166\n",
      " corr: (166, 166)\n",
      "    → T = 197 muestras; B = 14 bins para MI\n",
      " nmi: (166, 166)\n"
     ]
    },
    {
     "name": "stderr",
     "output_type": "stream",
     "text": [
      "Extracting features:  62%|██████▏   | 268/432 [39:01<24:36,  9.00s/it]"
     ]
    },
    {
     "name": "stdout",
     "output_type": "stream",
     "text": [
      " gc: (166, 166)\n",
      " dcv: (166, 166)\n",
      "[100_S_6578] guardado en /home/diego/Escritorio/ALL_170/TensorData/CN_tensor_100_S_6578.pt\n",
      "[100_S_6713] ➔ columnas vacías detectadas y eliminadas: [34, 35, 80, 81]\n",
      "[100_S_6713] señal tras limpieza: T=197, N=166\n",
      " corr: (166, 166)\n",
      "    → T = 197 muestras; B = 14 bins para MI\n",
      " nmi: (166, 166)\n"
     ]
    },
    {
     "name": "stderr",
     "output_type": "stream",
     "text": [
      "Extracting features:  62%|██████▏   | 269/432 [39:10<24:28,  9.01s/it]"
     ]
    },
    {
     "name": "stdout",
     "output_type": "stream",
     "text": [
      " gc: (166, 166)\n",
      " dcv: (166, 166)\n",
      "[100_S_6713] guardado en /home/diego/Escritorio/ALL_170/TensorData/AD_tensor_100_S_6713.pt\n",
      "[109_S_4380] ➔ columnas vacías detectadas y eliminadas: [34, 35, 80, 81]\n",
      "[109_S_4380] señal tras limpieza: T=197, N=166\n",
      " corr: (166, 166)\n",
      "    → T = 197 muestras; B = 14 bins para MI\n",
      " nmi: (166, 166)\n"
     ]
    },
    {
     "name": "stderr",
     "output_type": "stream",
     "text": [
      "Extracting features:  62%|██████▎   | 270/432 [39:20<24:28,  9.06s/it]"
     ]
    },
    {
     "name": "stdout",
     "output_type": "stream",
     "text": [
      " gc: (166, 166)\n",
      " dcv: (166, 166)\n",
      "[109_S_4380] guardado en /home/diego/Escritorio/ALL_170/TensorData/Other_tensor_109_S_4380.pt\n",
      "[114_S_2392] ➔ columnas vacías detectadas y eliminadas: [34, 35, 80, 81]\n",
      "[114_S_2392] señal tras limpieza: T=197, N=166\n",
      " corr: (166, 166)\n",
      "    → T = 197 muestras; B = 14 bins para MI\n",
      " nmi: (166, 166)\n"
     ]
    },
    {
     "name": "stderr",
     "output_type": "stream",
     "text": [
      "Extracting features:  63%|██████▎   | 271/432 [39:29<24:13,  9.03s/it]"
     ]
    },
    {
     "name": "stdout",
     "output_type": "stream",
     "text": [
      " gc: (166, 166)\n",
      " dcv: (166, 166)\n",
      "[114_S_2392] guardado en /home/diego/Escritorio/ALL_170/TensorData/Other_tensor_114_S_2392.pt\n",
      "[114_S_4404] ➔ columnas vacías detectadas y eliminadas: [34, 35, 80, 81]\n",
      "[114_S_4404] señal tras limpieza: T=197, N=166\n",
      " corr: (166, 166)\n",
      "    → T = 197 muestras; B = 14 bins para MI\n",
      " nmi: (166, 166)\n"
     ]
    },
    {
     "name": "stderr",
     "output_type": "stream",
     "text": [
      "Extracting features:  63%|██████▎   | 272/432 [39:38<23:59,  9.00s/it]"
     ]
    },
    {
     "name": "stdout",
     "output_type": "stream",
     "text": [
      " gc: (166, 166)\n",
      " dcv: (166, 166)\n",
      "[114_S_4404] guardado en /home/diego/Escritorio/ALL_170/TensorData/Other_tensor_114_S_4404.pt\n",
      "[114_S_5047] ➔ columnas vacías detectadas y eliminadas: [34, 35, 80, 81]\n",
      "[114_S_5047] señal tras limpieza: T=197, N=166\n",
      " corr: (166, 166)\n",
      "    → T = 197 muestras; B = 14 bins para MI\n",
      " nmi: (166, 166)\n"
     ]
    },
    {
     "name": "stderr",
     "output_type": "stream",
     "text": [
      "Extracting features:  63%|██████▎   | 273/432 [39:47<24:18,  9.17s/it]"
     ]
    },
    {
     "name": "stdout",
     "output_type": "stream",
     "text": [
      " gc: (166, 166)\n",
      " dcv: (166, 166)\n",
      "[114_S_5047] guardado en /home/diego/Escritorio/ALL_170/TensorData/Other_tensor_114_S_5047.pt\n",
      "[114_S_6347] ➔ columnas vacías detectadas y eliminadas: [34, 35, 80, 81]\n",
      "[114_S_6347] señal tras limpieza: T=197, N=166\n",
      " corr: (166, 166)\n",
      "    → T = 197 muestras; B = 14 bins para MI\n",
      " nmi: (166, 166)\n"
     ]
    },
    {
     "name": "stderr",
     "output_type": "stream",
     "text": [
      "Extracting features:  63%|██████▎   | 274/432 [39:56<24:02,  9.13s/it]"
     ]
    },
    {
     "name": "stdout",
     "output_type": "stream",
     "text": [
      " gc: (166, 166)\n",
      " dcv: (166, 166)\n",
      "[114_S_6347] guardado en /home/diego/Escritorio/ALL_170/TensorData/AD_tensor_114_S_6347.pt\n",
      "[114_S_6368] ➔ columnas vacías detectadas y eliminadas: [34, 35, 80, 81]\n",
      "[114_S_6368] señal tras limpieza: T=197, N=166\n",
      " corr: (166, 166)\n",
      "    → T = 197 muestras; B = 14 bins para MI\n",
      " nmi: (166, 166)\n"
     ]
    },
    {
     "name": "stderr",
     "output_type": "stream",
     "text": [
      "Extracting features:  64%|██████▎   | 275/432 [40:05<23:53,  9.13s/it]"
     ]
    },
    {
     "name": "stdout",
     "output_type": "stream",
     "text": [
      " gc: (166, 166)\n",
      " dcv: (166, 166)\n",
      "[114_S_6368] guardado en /home/diego/Escritorio/ALL_170/TensorData/AD_tensor_114_S_6368.pt\n",
      "[114_S_6595] ➔ columnas vacías detectadas y eliminadas: [34, 35, 80, 81]\n",
      "[114_S_6595] señal tras limpieza: T=197, N=166\n",
      " corr: (166, 166)\n",
      "    → T = 197 muestras; B = 14 bins para MI\n",
      " nmi: (166, 166)\n"
     ]
    },
    {
     "name": "stderr",
     "output_type": "stream",
     "text": [
      "Extracting features:  64%|██████▍   | 276/432 [40:14<23:35,  9.08s/it]"
     ]
    },
    {
     "name": "stdout",
     "output_type": "stream",
     "text": [
      " gc: (166, 166)\n",
      " dcv: (166, 166)\n",
      "[114_S_6595] guardado en /home/diego/Escritorio/ALL_170/TensorData/AD_tensor_114_S_6595.pt\n",
      "[116_S_4199] ➔ columnas vacías detectadas y eliminadas: [34, 35, 80, 81]\n",
      "[116_S_4199] señal tras limpieza: T=197, N=166\n",
      " corr: (166, 166)\n",
      "    → T = 197 muestras; B = 14 bins para MI\n",
      " nmi: (166, 166)\n"
     ]
    },
    {
     "name": "stderr",
     "output_type": "stream",
     "text": [
      "Extracting features:  64%|██████▍   | 277/432 [40:23<23:29,  9.09s/it]"
     ]
    },
    {
     "name": "stdout",
     "output_type": "stream",
     "text": [
      " gc: (166, 166)\n",
      " dcv: (166, 166)\n",
      "[116_S_4199] guardado en /home/diego/Escritorio/ALL_170/TensorData/Other_tensor_116_S_4199.pt\n",
      "[116_S_6100] ➔ columnas vacías detectadas y eliminadas: [34, 35, 80, 81]\n",
      "[116_S_6100] señal tras limpieza: T=197, N=166\n",
      " corr: (166, 166)\n",
      "    → T = 197 muestras; B = 14 bins para MI\n",
      " nmi: (166, 166)\n"
     ]
    },
    {
     "name": "stderr",
     "output_type": "stream",
     "text": [
      "Extracting features:  64%|██████▍   | 278/432 [40:32<23:17,  9.08s/it]"
     ]
    },
    {
     "name": "stdout",
     "output_type": "stream",
     "text": [
      " gc: (166, 166)\n",
      " dcv: (166, 166)\n",
      "[116_S_6100] guardado en /home/diego/Escritorio/ALL_170/TensorData/AD_tensor_116_S_6100.pt\n",
      "[116_S_6543] ➔ columnas vacías detectadas y eliminadas: [34, 35, 80, 81]\n",
      "[116_S_6543] señal tras limpieza: T=197, N=166\n",
      " corr: (166, 166)\n",
      "    → T = 197 muestras; B = 14 bins para MI\n",
      " nmi: (166, 166)\n"
     ]
    },
    {
     "name": "stderr",
     "output_type": "stream",
     "text": [
      "Extracting features:  65%|██████▍   | 279/432 [40:41<23:07,  9.07s/it]"
     ]
    },
    {
     "name": "stdout",
     "output_type": "stream",
     "text": [
      " gc: (166, 166)\n",
      " dcv: (166, 166)\n",
      "[116_S_6543] guardado en /home/diego/Escritorio/ALL_170/TensorData/AD_tensor_116_S_6543.pt\n",
      "[123_S_0072] ➔ columnas vacías detectadas y eliminadas: [34, 35, 80, 81]\n",
      "[123_S_0072] señal tras limpieza: T=197, N=166\n",
      " corr: (166, 166)\n",
      "    → T = 197 muestras; B = 14 bins para MI\n",
      " nmi: (166, 166)\n"
     ]
    },
    {
     "name": "stderr",
     "output_type": "stream",
     "text": [
      "Extracting features:  65%|██████▍   | 280/432 [40:51<23:05,  9.12s/it]"
     ]
    },
    {
     "name": "stdout",
     "output_type": "stream",
     "text": [
      " gc: (166, 166)\n",
      " dcv: (166, 166)\n",
      "[123_S_0072] guardado en /home/diego/Escritorio/ALL_170/TensorData/CN_tensor_123_S_0072.pt\n",
      "[123_S_0106] ➔ columnas vacías detectadas y eliminadas: [34, 35, 80, 81]\n",
      "[123_S_0106] señal tras limpieza: T=197, N=166\n",
      " corr: (166, 166)\n",
      "    → T = 197 muestras; B = 14 bins para MI\n",
      " nmi: (166, 166)\n"
     ]
    },
    {
     "name": "stderr",
     "output_type": "stream",
     "text": [
      "Extracting features:  65%|██████▌   | 281/432 [41:00<22:57,  9.12s/it]"
     ]
    },
    {
     "name": "stdout",
     "output_type": "stream",
     "text": [
      " gc: (166, 166)\n",
      " dcv: (166, 166)\n",
      "[123_S_0106] guardado en /home/diego/Escritorio/ALL_170/TensorData/CN_tensor_123_S_0106.pt\n",
      "[123_S_0298] ➔ columnas vacías detectadas y eliminadas: [34, 35, 80, 81]\n",
      "[123_S_0298] señal tras limpieza: T=197, N=166\n",
      " corr: (166, 166)\n",
      "    → T = 197 muestras; B = 14 bins para MI\n",
      " nmi: (166, 166)\n"
     ]
    },
    {
     "name": "stderr",
     "output_type": "stream",
     "text": [
      "Extracting features:  65%|██████▌   | 282/432 [41:09<22:43,  9.09s/it]"
     ]
    },
    {
     "name": "stdout",
     "output_type": "stream",
     "text": [
      " gc: (166, 166)\n",
      " dcv: (166, 166)\n",
      "[123_S_0298] guardado en /home/diego/Escritorio/ALL_170/TensorData/CN_tensor_123_S_0298.pt\n",
      "[123_S_1300] ➔ columnas vacías detectadas y eliminadas: [34, 35, 80, 81]\n",
      "[123_S_1300] señal tras limpieza: T=197, N=166\n",
      " corr: (166, 166)\n",
      "    → T = 197 muestras; B = 14 bins para MI\n",
      " nmi: (166, 166)\n"
     ]
    },
    {
     "name": "stderr",
     "output_type": "stream",
     "text": [
      "Extracting features:  66%|██████▌   | 283/432 [41:18<22:28,  9.05s/it]"
     ]
    },
    {
     "name": "stdout",
     "output_type": "stream",
     "text": [
      " gc: (166, 166)\n",
      " dcv: (166, 166)\n",
      "[123_S_1300] guardado en /home/diego/Escritorio/ALL_170/TensorData/Other_tensor_123_S_1300.pt\n",
      "[123_S_4127] ➔ columnas vacías detectadas y eliminadas: [34, 35, 80, 81]\n",
      "[123_S_4127] señal tras limpieza: T=197, N=166\n",
      " corr: (166, 166)\n",
      "    → T = 197 muestras; B = 14 bins para MI\n",
      " nmi: (166, 166)\n"
     ]
    },
    {
     "name": "stderr",
     "output_type": "stream",
     "text": [
      "Extracting features:  66%|██████▌   | 284/432 [41:27<22:18,  9.04s/it]"
     ]
    },
    {
     "name": "stdout",
     "output_type": "stream",
     "text": [
      " gc: (166, 166)\n",
      " dcv: (166, 166)\n",
      "[123_S_4127] guardado en /home/diego/Escritorio/ALL_170/TensorData/Other_tensor_123_S_4127.pt\n",
      "[123_S_4170] ➔ columnas vacías detectadas y eliminadas: [34, 35, 80, 81]\n",
      "[123_S_4170] señal tras limpieza: T=197, N=166\n",
      " corr: (166, 166)\n",
      "    → T = 197 muestras; B = 14 bins para MI\n",
      " nmi: (166, 166)\n"
     ]
    },
    {
     "name": "stderr",
     "output_type": "stream",
     "text": [
      "Extracting features:  66%|██████▌   | 285/432 [41:36<22:08,  9.04s/it]"
     ]
    },
    {
     "name": "stdout",
     "output_type": "stream",
     "text": [
      " gc: (166, 166)\n",
      " dcv: (166, 166)\n",
      "[123_S_4170] guardado en /home/diego/Escritorio/ALL_170/TensorData/Other_tensor_123_S_4170.pt\n",
      "[123_S_6118] ➔ columnas vacías detectadas y eliminadas: [34, 35, 80, 81]\n",
      "[123_S_6118] señal tras limpieza: T=197, N=166\n",
      " corr: (166, 166)\n",
      "    → T = 197 muestras; B = 14 bins para MI\n",
      " nmi: (166, 166)\n"
     ]
    },
    {
     "name": "stderr",
     "output_type": "stream",
     "text": [
      "Extracting features:  66%|██████▌   | 286/432 [41:45<22:03,  9.07s/it]"
     ]
    },
    {
     "name": "stdout",
     "output_type": "stream",
     "text": [
      " gc: (166, 166)\n",
      " dcv: (166, 166)\n",
      "[123_S_6118] guardado en /home/diego/Escritorio/ALL_170/TensorData/CN_tensor_123_S_6118.pt\n",
      "[123_S_6825] ➔ columnas vacías detectadas y eliminadas: [34, 35, 80, 81]\n",
      "[123_S_6825] señal tras limpieza: T=197, N=166\n",
      " corr: (166, 166)\n",
      "    → T = 197 muestras; B = 14 bins para MI\n",
      " nmi: (166, 166)\n"
     ]
    },
    {
     "name": "stderr",
     "output_type": "stream",
     "text": [
      "Extracting features:  66%|██████▋   | 287/432 [41:54<21:52,  9.05s/it]"
     ]
    },
    {
     "name": "stdout",
     "output_type": "stream",
     "text": [
      " gc: (166, 166)\n",
      " dcv: (166, 166)\n",
      "[123_S_6825] guardado en /home/diego/Escritorio/ALL_170/TensorData/AD_tensor_123_S_6825.pt\n",
      "[123_S_6888] ➔ columnas vacías detectadas y eliminadas: [34, 35, 80, 81]\n",
      "[123_S_6888] señal tras limpieza: T=197, N=166\n",
      " corr: (166, 166)\n",
      "    → T = 197 muestras; B = 14 bins para MI\n",
      " nmi: (166, 166)\n"
     ]
    },
    {
     "name": "stderr",
     "output_type": "stream",
     "text": [
      "Extracting features:  67%|██████▋   | 288/432 [42:03<21:38,  9.02s/it]"
     ]
    },
    {
     "name": "stdout",
     "output_type": "stream",
     "text": [
      " gc: (166, 166)\n",
      " dcv: (166, 166)\n",
      "[123_S_6888] guardado en /home/diego/Escritorio/ALL_170/TensorData/Other_tensor_123_S_6888.pt\n",
      "[123_S_6891] ➔ columnas vacías detectadas y eliminadas: [34, 35, 80, 81]\n",
      "[123_S_6891] señal tras limpieza: T=197, N=166\n",
      " corr: (166, 166)\n",
      "    → T = 197 muestras; B = 14 bins para MI\n",
      " nmi: (166, 166)\n",
      " gc: (166, 166)\n",
      " dcv: (166, 166)\n"
     ]
    },
    {
     "name": "stderr",
     "output_type": "stream",
     "text": [
      "Extracting features:  67%|██████▋   | 289/432 [42:12<21:30,  9.03s/it]"
     ]
    },
    {
     "name": "stdout",
     "output_type": "stream",
     "text": [
      "[123_S_6891] guardado en /home/diego/Escritorio/ALL_170/TensorData/AD_tensor_123_S_6891.pt\n",
      "[126_S_4507] ➔ columnas vacías detectadas y eliminadas: [34, 35, 80, 81]\n",
      "[126_S_4507] señal tras limpieza: T=200, N=166\n",
      " corr: (166, 166)\n",
      "    → T = 200 muestras; B = 14 bins para MI\n",
      " nmi: (166, 166)\n"
     ]
    },
    {
     "name": "stderr",
     "output_type": "stream",
     "text": [
      "Extracting features:  67%|██████▋   | 290/432 [42:22<22:01,  9.31s/it]"
     ]
    },
    {
     "name": "stdout",
     "output_type": "stream",
     "text": [
      " gc: (166, 166)\n",
      " dcv: (166, 166)\n",
      "[126_S_4507] guardado en /home/diego/Escritorio/ALL_170/TensorData/Other_tensor_126_S_4507.pt\n",
      "[126_S_4514] ➔ columnas vacías detectadas y eliminadas: [34, 35, 80, 81]\n",
      "[126_S_4514] señal tras limpieza: T=200, N=166\n",
      " corr: (166, 166)\n",
      "    → T = 200 muestras; B = 14 bins para MI\n",
      " nmi: (166, 166)\n"
     ]
    },
    {
     "name": "stderr",
     "output_type": "stream",
     "text": [
      "Extracting features:  67%|██████▋   | 291/432 [42:31<22:00,  9.37s/it]"
     ]
    },
    {
     "name": "stdout",
     "output_type": "stream",
     "text": [
      " gc: (166, 166)\n",
      " dcv: (166, 166)\n",
      "[126_S_4514] guardado en /home/diego/Escritorio/ALL_170/TensorData/Other_tensor_126_S_4514.pt\n",
      "[126_S_4891] ➔ columnas vacías detectadas y eliminadas: [34, 35, 80, 81]\n",
      "[126_S_4891] señal tras limpieza: T=200, N=166\n",
      " corr: (166, 166)\n",
      "    → T = 200 muestras; B = 14 bins para MI\n",
      " nmi: (166, 166)\n"
     ]
    },
    {
     "name": "stderr",
     "output_type": "stream",
     "text": [
      "Extracting features:  68%|██████▊   | 292/432 [42:41<21:45,  9.33s/it]"
     ]
    },
    {
     "name": "stdout",
     "output_type": "stream",
     "text": [
      " gc: (166, 166)\n",
      " dcv: (166, 166)\n",
      "[126_S_4891] guardado en /home/diego/Escritorio/ALL_170/TensorData/Other_tensor_126_S_4891.pt\n",
      "[126_S_4896] ➔ columnas vacías detectadas y eliminadas: [34, 35, 80, 81]\n",
      "[126_S_4896] señal tras limpieza: T=200, N=166\n",
      " corr: (166, 166)\n",
      "    → T = 200 muestras; B = 14 bins para MI\n",
      " nmi: (166, 166)\n"
     ]
    },
    {
     "name": "stderr",
     "output_type": "stream",
     "text": [
      "Extracting features:  68%|██████▊   | 293/432 [42:50<21:38,  9.34s/it]"
     ]
    },
    {
     "name": "stdout",
     "output_type": "stream",
     "text": [
      " gc: (166, 166)\n",
      " dcv: (166, 166)\n",
      "[126_S_4896] guardado en /home/diego/Escritorio/ALL_170/TensorData/Other_tensor_126_S_4896.pt\n",
      "[126_S_6683] ➔ columnas vacías detectadas y eliminadas: [34, 35, 80, 81]\n",
      "[126_S_6683] señal tras limpieza: T=200, N=166\n",
      " corr: (166, 166)\n",
      "    → T = 200 muestras; B = 14 bins para MI\n",
      " nmi: (166, 166)\n"
     ]
    },
    {
     "name": "stderr",
     "output_type": "stream",
     "text": [
      "Extracting features:  68%|██████▊   | 294/432 [42:59<21:26,  9.32s/it]"
     ]
    },
    {
     "name": "stdout",
     "output_type": "stream",
     "text": [
      " gc: (166, 166)\n",
      " dcv: (166, 166)\n",
      "[126_S_6683] guardado en /home/diego/Escritorio/ALL_170/TensorData/AD_tensor_126_S_6683.pt\n",
      "[126_S_6721] ➔ columnas vacías detectadas y eliminadas: [34, 35, 80, 81]\n",
      "[126_S_6721] señal tras limpieza: T=200, N=166\n",
      " corr: (166, 166)\n",
      "    → T = 200 muestras; B = 14 bins para MI\n",
      " nmi: (166, 166)\n"
     ]
    },
    {
     "name": "stderr",
     "output_type": "stream",
     "text": [
      "Extracting features:  68%|██████▊   | 295/432 [43:08<21:10,  9.27s/it]"
     ]
    },
    {
     "name": "stdout",
     "output_type": "stream",
     "text": [
      " gc: (166, 166)\n",
      " dcv: (166, 166)\n",
      "[126_S_6721] guardado en /home/diego/Escritorio/ALL_170/TensorData/AD_tensor_126_S_6721.pt\n",
      "[127_S_2234] ➔ columnas vacías detectadas y eliminadas: [34, 35, 80, 81]\n",
      "[127_S_2234] señal tras limpieza: T=200, N=166\n",
      " corr: (166, 166)\n",
      "    → T = 200 muestras; B = 14 bins para MI\n",
      " nmi: (166, 166)\n"
     ]
    },
    {
     "name": "stderr",
     "output_type": "stream",
     "text": [
      "Extracting features:  69%|██████▊   | 296/432 [43:18<20:56,  9.24s/it]"
     ]
    },
    {
     "name": "stdout",
     "output_type": "stream",
     "text": [
      " gc: (166, 166)\n",
      " dcv: (166, 166)\n",
      "[127_S_2234] guardado en /home/diego/Escritorio/ALL_170/TensorData/Other_tensor_127_S_2234.pt\n",
      "[127_S_4197] ➔ columnas vacías detectadas y eliminadas: [34, 35, 80, 81]\n",
      "[127_S_4197] señal tras limpieza: T=200, N=166\n",
      " corr: (166, 166)\n",
      "    → T = 200 muestras; B = 14 bins para MI\n",
      " nmi: (166, 166)\n"
     ]
    },
    {
     "name": "stderr",
     "output_type": "stream",
     "text": [
      "Extracting features:  69%|██████▉   | 297/432 [43:27<21:00,  9.34s/it]"
     ]
    },
    {
     "name": "stdout",
     "output_type": "stream",
     "text": [
      " gc: (166, 166)\n",
      " dcv: (166, 166)\n",
      "[127_S_4197] guardado en /home/diego/Escritorio/ALL_170/TensorData/Other_tensor_127_S_4197.pt\n",
      "[127_S_4210] ➔ columnas vacías detectadas y eliminadas: [34, 35, 80, 81]\n",
      "[127_S_4210] señal tras limpieza: T=200, N=166\n",
      " corr: (166, 166)\n",
      "    → T = 200 muestras; B = 14 bins para MI\n",
      " nmi: (166, 166)\n"
     ]
    },
    {
     "name": "stderr",
     "output_type": "stream",
     "text": [
      "Extracting features:  69%|██████▉   | 298/432 [43:36<20:45,  9.29s/it]"
     ]
    },
    {
     "name": "stdout",
     "output_type": "stream",
     "text": [
      " gc: (166, 166)\n",
      " dcv: (166, 166)\n",
      "[127_S_4210] guardado en /home/diego/Escritorio/ALL_170/TensorData/Other_tensor_127_S_4210.pt\n",
      "[127_S_4301] ➔ columnas vacías detectadas y eliminadas: [34, 35, 80, 81]\n",
      "[127_S_4301] señal tras limpieza: T=200, N=166\n",
      " corr: (166, 166)\n",
      "    → T = 200 muestras; B = 14 bins para MI\n",
      " nmi: (166, 166)\n"
     ]
    },
    {
     "name": "stderr",
     "output_type": "stream",
     "text": [
      "Extracting features:  69%|██████▉   | 299/432 [43:46<20:36,  9.29s/it]"
     ]
    },
    {
     "name": "stdout",
     "output_type": "stream",
     "text": [
      " gc: (166, 166)\n",
      " dcv: (166, 166)\n",
      "[127_S_4301] guardado en /home/diego/Escritorio/ALL_170/TensorData/Other_tensor_127_S_4301.pt\n",
      "[127_S_4765] ➔ columnas vacías detectadas y eliminadas: [34, 35, 80, 81]\n",
      "[127_S_4765] señal tras limpieza: T=200, N=166\n",
      " corr: (166, 166)\n",
      "    → T = 200 muestras; B = 14 bins para MI\n",
      " nmi: (166, 166)\n",
      " gc: (166, 166)\n"
     ]
    },
    {
     "name": "stderr",
     "output_type": "stream",
     "text": [
      "Extracting features:  69%|██████▉   | 300/432 [43:55<20:28,  9.31s/it]"
     ]
    },
    {
     "name": "stdout",
     "output_type": "stream",
     "text": [
      " dcv: (166, 166)\n",
      "[127_S_4765] guardado en /home/diego/Escritorio/ALL_170/TensorData/Other_tensor_127_S_4765.pt\n",
      "[127_S_4928] ➔ columnas vacías detectadas y eliminadas: [34, 35, 80, 81]\n",
      "[127_S_4928] señal tras limpieza: T=200, N=166\n",
      " corr: (166, 166)\n",
      "    → T = 200 muestras; B = 14 bins para MI\n",
      " nmi: (166, 166)\n"
     ]
    },
    {
     "name": "stderr",
     "output_type": "stream",
     "text": [
      "Extracting features:  70%|██████▉   | 301/432 [44:04<20:23,  9.34s/it]"
     ]
    },
    {
     "name": "stdout",
     "output_type": "stream",
     "text": [
      " gc: (166, 166)\n",
      " dcv: (166, 166)\n",
      "[127_S_4928] guardado en /home/diego/Escritorio/ALL_170/TensorData/Other_tensor_127_S_4928.pt\n",
      "[127_S_6433] ➔ columnas vacías detectadas y eliminadas: [34, 35, 80, 81]\n",
      "[127_S_6433] señal tras limpieza: T=200, N=166\n",
      " corr: (166, 166)\n",
      "    → T = 200 muestras; B = 14 bins para MI\n",
      " nmi: (166, 166)\n"
     ]
    },
    {
     "name": "stderr",
     "output_type": "stream",
     "text": [
      "Extracting features:  70%|██████▉   | 302/432 [44:14<20:08,  9.30s/it]"
     ]
    },
    {
     "name": "stdout",
     "output_type": "stream",
     "text": [
      " gc: (166, 166)\n",
      " dcv: (166, 166)\n",
      "[127_S_6433] guardado en /home/diego/Escritorio/ALL_170/TensorData/AD_tensor_127_S_6433.pt\n",
      "[127_S_6549] ➔ columnas vacías detectadas y eliminadas: [34, 35, 80, 81]\n",
      "[127_S_6549] señal tras limpieza: T=200, N=166\n",
      " corr: (166, 166)\n",
      "    → T = 200 muestras; B = 14 bins para MI\n",
      " nmi: (166, 166)\n"
     ]
    },
    {
     "name": "stderr",
     "output_type": "stream",
     "text": [
      "Extracting features:  70%|███████   | 303/432 [44:23<20:01,  9.31s/it]"
     ]
    },
    {
     "name": "stdout",
     "output_type": "stream",
     "text": [
      " gc: (166, 166)\n",
      " dcv: (166, 166)\n",
      "[127_S_6549] guardado en /home/diego/Escritorio/ALL_170/TensorData/AD_tensor_127_S_6549.pt\n",
      "[128_S_2036] ➔ columnas vacías detectadas y eliminadas: [34, 35, 80, 81]\n",
      "[128_S_2036] señal tras limpieza: T=200, N=166\n",
      " corr: (166, 166)\n",
      "    → T = 200 muestras; B = 14 bins para MI\n",
      " nmi: (166, 166)\n"
     ]
    },
    {
     "name": "stderr",
     "output_type": "stream",
     "text": [
      "Extracting features:  70%|███████   | 304/432 [44:32<19:58,  9.36s/it]"
     ]
    },
    {
     "name": "stdout",
     "output_type": "stream",
     "text": [
      " gc: (166, 166)\n",
      " dcv: (166, 166)\n",
      "[128_S_2036] guardado en /home/diego/Escritorio/ALL_170/TensorData/Other_tensor_128_S_2036.pt\n",
      "[128_S_2123] ➔ columnas vacías detectadas y eliminadas: [34, 35, 80, 81]\n",
      "[128_S_2123] señal tras limpieza: T=200, N=166\n",
      " corr: (166, 166)\n",
      "    → T = 200 muestras; B = 14 bins para MI\n",
      " nmi: (166, 166)\n"
     ]
    },
    {
     "name": "stderr",
     "output_type": "stream",
     "text": [
      "Extracting features:  71%|███████   | 305/432 [44:42<19:49,  9.36s/it]"
     ]
    },
    {
     "name": "stdout",
     "output_type": "stream",
     "text": [
      " gc: (166, 166)\n",
      " dcv: (166, 166)\n",
      "[128_S_2123] guardado en /home/diego/Escritorio/ALL_170/TensorData/Other_tensor_128_S_2123.pt\n",
      "[128_S_2130] ➔ columnas vacías detectadas y eliminadas: [34, 35, 80, 81]\n",
      "[128_S_2130] señal tras limpieza: T=200, N=166\n",
      " corr: (166, 166)\n",
      "    → T = 200 muestras; B = 14 bins para MI\n",
      " nmi: (166, 166)\n"
     ]
    },
    {
     "name": "stderr",
     "output_type": "stream",
     "text": [
      "Extracting features:  71%|███████   | 306/432 [44:52<19:50,  9.45s/it]"
     ]
    },
    {
     "name": "stdout",
     "output_type": "stream",
     "text": [
      " gc: (166, 166)\n",
      " dcv: (166, 166)\n",
      "[128_S_2130] guardado en /home/diego/Escritorio/ALL_170/TensorData/Other_tensor_128_S_2130.pt\n",
      "[128_S_2220] ➔ columnas vacías detectadas y eliminadas: [34, 35, 80, 81]\n",
      "[128_S_2220] señal tras limpieza: T=200, N=166\n",
      " corr: (166, 166)\n",
      "    → T = 200 muestras; B = 14 bins para MI\n",
      " nmi: (166, 166)\n"
     ]
    },
    {
     "name": "stderr",
     "output_type": "stream",
     "text": [
      "Extracting features:  71%|███████   | 307/432 [45:01<19:33,  9.39s/it]"
     ]
    },
    {
     "name": "stdout",
     "output_type": "stream",
     "text": [
      " gc: (166, 166)\n",
      " dcv: (166, 166)\n",
      "[128_S_2220] guardado en /home/diego/Escritorio/ALL_170/TensorData/Other_tensor_128_S_2220.pt\n",
      "[128_S_4842] ➔ columnas vacías detectadas y eliminadas: [34, 35, 80, 81]\n",
      "[128_S_4842] señal tras limpieza: T=200, N=166\n",
      " corr: (166, 166)\n",
      "    → T = 200 muestras; B = 14 bins para MI\n",
      " nmi: (166, 166)\n"
     ]
    },
    {
     "name": "stderr",
     "output_type": "stream",
     "text": [
      "Extracting features:  71%|███████▏  | 308/432 [45:10<19:22,  9.37s/it]"
     ]
    },
    {
     "name": "stdout",
     "output_type": "stream",
     "text": [
      " gc: (166, 166)\n",
      " dcv: (166, 166)\n",
      "[128_S_4842] guardado en /home/diego/Escritorio/ALL_170/TensorData/Other_tensor_128_S_4842.pt\n",
      "[129_S_2332] ➔ columnas vacías detectadas y eliminadas: [34, 35, 80, 81]\n",
      "[129_S_2332] señal tras limpieza: T=200, N=166\n",
      " corr: (166, 166)\n",
      "    → T = 200 muestras; B = 14 bins para MI\n",
      " nmi: (166, 166)\n"
     ]
    },
    {
     "name": "stderr",
     "output_type": "stream",
     "text": [
      "Extracting features:  72%|███████▏  | 309/432 [45:19<19:06,  9.32s/it]"
     ]
    },
    {
     "name": "stdout",
     "output_type": "stream",
     "text": [
      " gc: (166, 166)\n",
      " dcv: (166, 166)\n",
      "[129_S_2332] guardado en /home/diego/Escritorio/ALL_170/TensorData/Other_tensor_129_S_2332.pt\n",
      "[129_S_6763] ➔ columnas vacías detectadas y eliminadas: [34, 35, 80, 81]\n",
      "[129_S_6763] señal tras limpieza: T=200, N=166\n",
      " corr: (166, 166)\n",
      "    → T = 200 muestras; B = 14 bins para MI\n",
      " nmi: (166, 166)\n"
     ]
    },
    {
     "name": "stderr",
     "output_type": "stream",
     "text": [
      "Extracting features:  72%|███████▏  | 310/432 [45:29<18:54,  9.30s/it]"
     ]
    },
    {
     "name": "stdout",
     "output_type": "stream",
     "text": [
      " gc: (166, 166)\n",
      " dcv: (166, 166)\n",
      "[129_S_6763] guardado en /home/diego/Escritorio/ALL_170/TensorData/AD_tensor_129_S_6763.pt\n",
      "[129_S_6784] ➔ columnas vacías detectadas y eliminadas: [34, 35, 80, 81]\n",
      "[129_S_6784] señal tras limpieza: T=200, N=166\n",
      " corr: (166, 166)\n",
      "    → T = 200 muestras; B = 14 bins para MI\n",
      " nmi: (166, 166)\n"
     ]
    },
    {
     "name": "stderr",
     "output_type": "stream",
     "text": [
      "Extracting features:  72%|███████▏  | 311/432 [45:38<18:41,  9.27s/it]"
     ]
    },
    {
     "name": "stdout",
     "output_type": "stream",
     "text": [
      " gc: (166, 166)\n",
      " dcv: (166, 166)\n",
      "[129_S_6784] guardado en /home/diego/Escritorio/ALL_170/TensorData/AD_tensor_129_S_6784.pt\n",
      "[130_S_0969] ➔ columnas vacías detectadas y eliminadas: [34, 35, 80, 81]\n",
      "[130_S_0969] señal tras limpieza: T=197, N=166\n",
      " corr: (166, 166)\n",
      "    → T = 197 muestras; B = 14 bins para MI\n",
      " nmi: (166, 166)\n",
      " gc: (166, 166)\n",
      " dcv: (166, 166)"
     ]
    },
    {
     "name": "stderr",
     "output_type": "stream",
     "text": [
      "Extracting features:  72%|███████▏  | 312/432 [45:47<18:26,  9.22s/it]"
     ]
    },
    {
     "name": "stdout",
     "output_type": "stream",
     "text": [
      "\n",
      "[130_S_0969] guardado en /home/diego/Escritorio/ALL_170/TensorData/CN_tensor_130_S_0969.pt\n",
      "[130_S_2391] ➔ columnas vacías detectadas y eliminadas: [34, 35, 80, 81]\n",
      "[130_S_2391] señal tras limpieza: T=140, N=166\n",
      " corr: (166, 166)\n",
      "    → T = 140 muestras; B = 11 bins para MI\n",
      " nmi: (166, 166)\n"
     ]
    },
    {
     "name": "stderr",
     "output_type": "stream",
     "text": [
      "Extracting features:  72%|███████▏  | 313/432 [45:55<17:51,  9.00s/it]"
     ]
    },
    {
     "name": "stdout",
     "output_type": "stream",
     "text": [
      " gc: (166, 166)\n",
      " dcv: (166, 166)\n",
      "[130_S_2391] guardado en /home/diego/Escritorio/ALL_170/TensorData/Other_tensor_130_S_2391.pt\n",
      "[130_S_2402] ➔ columnas vacías detectadas y eliminadas: [34, 35, 80, 81]\n",
      "[130_S_2402] señal tras limpieza: T=140, N=166\n",
      " corr: (166, 166)\n",
      "    → T = 140 muestras; B = 11 bins para MI\n",
      " nmi: (166, 166)\n"
     ]
    },
    {
     "name": "stderr",
     "output_type": "stream",
     "text": [
      "Extracting features:  73%|███████▎  | 314/432 [46:04<17:15,  8.78s/it]"
     ]
    },
    {
     "name": "stdout",
     "output_type": "stream",
     "text": [
      " gc: (166, 166)\n",
      " dcv: (166, 166)\n",
      "[130_S_2402] guardado en /home/diego/Escritorio/ALL_170/TensorData/Other_tensor_130_S_2402.pt\n",
      "[130_S_2403] ➔ columnas vacías detectadas y eliminadas: [34, 35, 80, 81]\n",
      "[130_S_2403] señal tras limpieza: T=140, N=166\n",
      " corr: (166, 166)\n",
      "    → T = 140 muestras; B = 11 bins para MI\n",
      " nmi: (166, 166)\n"
     ]
    },
    {
     "name": "stderr",
     "output_type": "stream",
     "text": [
      "Extracting features:  73%|███████▎  | 315/432 [46:12<16:50,  8.64s/it]"
     ]
    },
    {
     "name": "stdout",
     "output_type": "stream",
     "text": [
      " gc: (166, 166)\n",
      " dcv: (166, 166)\n",
      "[130_S_2403] guardado en /home/diego/Escritorio/ALL_170/TensorData/Other_tensor_130_S_2403.pt\n",
      "[130_S_4294] ➔ columnas vacías detectadas y eliminadas: [34, 35, 80, 81]\n",
      "[130_S_4294] señal tras limpieza: T=140, N=166\n",
      " corr: (166, 166)\n",
      "    → T = 140 muestras; B = 11 bins para MI\n",
      " nmi: (166, 166)\n"
     ]
    },
    {
     "name": "stderr",
     "output_type": "stream",
     "text": [
      "Extracting features:  73%|███████▎  | 316/432 [46:20<16:29,  8.53s/it]"
     ]
    },
    {
     "name": "stdout",
     "output_type": "stream",
     "text": [
      " gc: (166, 166)\n",
      " dcv: (166, 166)\n",
      "[130_S_4294] guardado en /home/diego/Escritorio/ALL_170/TensorData/Other_tensor_130_S_4294.pt\n",
      "[130_S_4343] ➔ columnas vacías detectadas y eliminadas: [34, 35, 80, 81]\n",
      "[130_S_4343] señal tras limpieza: T=140, N=166\n",
      " corr: (166, 166)\n",
      "    → T = 140 muestras; B = 11 bins para MI\n",
      " nmi: (166, 166)\n"
     ]
    },
    {
     "name": "stderr",
     "output_type": "stream",
     "text": [
      "Extracting features:  73%|███████▎  | 317/432 [46:29<16:26,  8.58s/it]"
     ]
    },
    {
     "name": "stdout",
     "output_type": "stream",
     "text": [
      " gc: (166, 166)\n",
      " dcv: (166, 166)\n",
      "[130_S_4343] guardado en /home/diego/Escritorio/ALL_170/TensorData/CN_tensor_130_S_4343.pt\n",
      "[130_S_4352] ➔ columnas vacías detectadas y eliminadas: [34, 35, 80, 81]\n",
      "[130_S_4352] señal tras limpieza: T=140, N=166\n",
      " corr: (166, 166)\n",
      "    → T = 140 muestras; B = 11 bins para MI\n",
      " nmi: (166, 166)\n"
     ]
    },
    {
     "name": "stderr",
     "output_type": "stream",
     "text": [
      "Extracting features:  74%|███████▎  | 318/432 [46:37<16:05,  8.47s/it]"
     ]
    },
    {
     "name": "stdout",
     "output_type": "stream",
     "text": [
      " gc: (166, 166)\n",
      " dcv: (166, 166)\n",
      "[130_S_4352] guardado en /home/diego/Escritorio/ALL_170/TensorData/CN_tensor_130_S_4352.pt\n",
      "[130_S_4405] ➔ columnas vacías detectadas y eliminadas: [34, 35, 80, 81]\n",
      "[130_S_4405] señal tras limpieza: T=140, N=166\n",
      " corr: (166, 166)\n",
      "    → T = 140 muestras; B = 11 bins para MI\n",
      " nmi: (166, 166)\n"
     ]
    },
    {
     "name": "stderr",
     "output_type": "stream",
     "text": [
      "Extracting features:  74%|███████▍  | 319/432 [46:45<15:49,  8.40s/it]"
     ]
    },
    {
     "name": "stdout",
     "output_type": "stream",
     "text": [
      " gc: (166, 166)\n",
      " dcv: (166, 166)\n",
      "[130_S_4405] guardado en /home/diego/Escritorio/ALL_170/TensorData/Other_tensor_130_S_4405.pt\n",
      "[130_S_4415] ➔ columnas vacías detectadas y eliminadas: [34, 35, 80, 81]\n",
      "[130_S_4415] señal tras limpieza: T=140, N=166\n",
      " corr: (166, 166)\n",
      "    → T = 140 muestras; B = 11 bins para MI\n",
      " nmi: (166, 166)\n"
     ]
    },
    {
     "name": "stderr",
     "output_type": "stream",
     "text": [
      "Extracting features:  74%|███████▍  | 320/432 [46:54<15:36,  8.36s/it]"
     ]
    },
    {
     "name": "stdout",
     "output_type": "stream",
     "text": [
      " gc: (166, 166)\n",
      " dcv: (166, 166)\n",
      "[130_S_4415] guardado en /home/diego/Escritorio/ALL_170/TensorData/Other_tensor_130_S_4415.pt\n",
      "[130_S_4417] ➔ columnas vacías detectadas y eliminadas: [34, 35, 80, 81]\n",
      "[130_S_4417] señal tras limpieza: T=140, N=166\n",
      " corr: (166, 166)\n",
      "    → T = 140 muestras; B = 11 bins para MI\n",
      " nmi: (166, 166)\n"
     ]
    },
    {
     "name": "stderr",
     "output_type": "stream",
     "text": [
      "Extracting features:  74%|███████▍  | 321/432 [47:02<15:35,  8.43s/it]"
     ]
    },
    {
     "name": "stdout",
     "output_type": "stream",
     "text": [
      " gc: (166, 166)\n",
      " dcv: (166, 166)\n",
      "[130_S_4417] guardado en /home/diego/Escritorio/ALL_170/TensorData/Other_tensor_130_S_4417.pt\n",
      "[130_S_4468] ➔ columnas vacías detectadas y eliminadas: [34, 35, 80, 81]\n",
      "[130_S_4468] señal tras limpieza: T=140, N=166\n",
      " corr: (166, 166)\n",
      "    → T = 140 muestras; B = 11 bins para MI\n",
      " nmi: (166, 166)\n"
     ]
    },
    {
     "name": "stderr",
     "output_type": "stream",
     "text": [
      "Extracting features:  75%|███████▍  | 322/432 [47:10<15:21,  8.37s/it]"
     ]
    },
    {
     "name": "stdout",
     "output_type": "stream",
     "text": [
      " gc: (166, 166)\n",
      " dcv: (166, 166)\n",
      "[130_S_4468] guardado en /home/diego/Escritorio/ALL_170/TensorData/Other_tensor_130_S_4468.pt\n",
      "[130_S_4542] ➔ columnas vacías detectadas y eliminadas: [34, 35, 80, 81]\n",
      "[130_S_4542] señal tras limpieza: T=140, N=166\n",
      " corr: (166, 166)\n",
      "    → T = 140 muestras; B = 11 bins para MI\n",
      " nmi: (166, 166)\n"
     ]
    },
    {
     "name": "stderr",
     "output_type": "stream",
     "text": [
      "Extracting features:  75%|███████▍  | 323/432 [47:19<15:05,  8.31s/it]"
     ]
    },
    {
     "name": "stdout",
     "output_type": "stream",
     "text": [
      " gc: (166, 166)\n",
      " dcv: (166, 166)\n",
      "[130_S_4542] guardado en /home/diego/Escritorio/ALL_170/TensorData/Other_tensor_130_S_4542.pt\n",
      "[130_S_4589] ➔ columnas vacías detectadas y eliminadas: [34, 35, 80, 81]\n",
      "[130_S_4589] señal tras limpieza: T=140, N=166\n",
      " corr: (166, 166)\n",
      "    → T = 140 muestras; B = 11 bins para MI\n",
      " nmi: (166, 166)\n"
     ]
    },
    {
     "name": "stderr",
     "output_type": "stream",
     "text": [
      "Extracting features:  75%|███████▌  | 324/432 [47:27<14:56,  8.30s/it]"
     ]
    },
    {
     "name": "stdout",
     "output_type": "stream",
     "text": [
      " gc: (166, 166)\n",
      " dcv: (166, 166)\n",
      "[130_S_4589] guardado en /home/diego/Escritorio/ALL_170/TensorData/AD_tensor_130_S_4589.pt\n",
      "[130_S_4605] ➔ columnas vacías detectadas y eliminadas: [34, 35, 80, 81]\n",
      "[130_S_4605] señal tras limpieza: T=140, N=166\n",
      " corr: (166, 166)\n",
      "    → T = 140 muestras; B = 11 bins para MI\n",
      " nmi: (166, 166)\n"
     ]
    },
    {
     "name": "stderr",
     "output_type": "stream",
     "text": [
      "Extracting features:  75%|███████▌  | 325/432 [47:36<15:17,  8.57s/it]"
     ]
    },
    {
     "name": "stdout",
     "output_type": "stream",
     "text": [
      " gc: (166, 166)\n",
      " dcv: (166, 166)\n",
      "[130_S_4605] guardado en /home/diego/Escritorio/ALL_170/TensorData/Other_tensor_130_S_4605.pt\n",
      "[130_S_4641] ➔ columnas vacías detectadas y eliminadas: [34, 35, 80, 81]\n",
      "[130_S_4641] señal tras limpieza: T=140, N=166\n",
      " corr: (166, 166)\n",
      "    → T = 140 muestras; B = 11 bins para MI\n",
      " nmi: (166, 166)\n"
     ]
    },
    {
     "name": "stderr",
     "output_type": "stream",
     "text": [
      "Extracting features:  75%|███████▌  | 326/432 [47:45<15:10,  8.59s/it]"
     ]
    },
    {
     "name": "stdout",
     "output_type": "stream",
     "text": [
      " gc: (166, 166)\n",
      " dcv: (166, 166)\n",
      "[130_S_4641] guardado en /home/diego/Escritorio/ALL_170/TensorData/AD_tensor_130_S_4641.pt\n",
      "[130_S_4660] ➔ columnas vacías detectadas y eliminadas: [34, 35, 80, 81]\n",
      "[130_S_4660] señal tras limpieza: T=140, N=166\n",
      " corr: (166, 166)\n",
      "    → T = 140 muestras; B = 11 bins para MI\n",
      " nmi: (166, 166)\n"
     ]
    },
    {
     "name": "stderr",
     "output_type": "stream",
     "text": [
      "Extracting features:  76%|███████▌  | 327/432 [47:54<15:28,  8.85s/it]"
     ]
    },
    {
     "name": "stdout",
     "output_type": "stream",
     "text": [
      " gc: (166, 166)\n",
      " dcv: (166, 166)\n",
      "[130_S_4660] guardado en /home/diego/Escritorio/ALL_170/TensorData/AD_tensor_130_S_4660.pt\n",
      "[130_S_4730] ➔ columnas vacías detectadas y eliminadas: [34, 35, 80, 81]\n",
      "[130_S_4730] señal tras limpieza: T=140, N=166\n",
      " corr: (166, 166)\n",
      "    → T = 140 muestras; B = 11 bins para MI\n",
      " nmi: (166, 166)\n"
     ]
    },
    {
     "name": "stderr",
     "output_type": "stream",
     "text": [
      "Extracting features:  76%|███████▌  | 328/432 [48:03<15:21,  8.86s/it]"
     ]
    },
    {
     "name": "stdout",
     "output_type": "stream",
     "text": [
      " gc: (166, 166)\n",
      " dcv: (166, 166)\n",
      "[130_S_4730] guardado en /home/diego/Escritorio/ALL_170/TensorData/AD_tensor_130_S_4730.pt\n",
      "[130_S_4817] ➔ columnas vacías detectadas y eliminadas: [34, 35, 80, 81]\n",
      "[130_S_4817] señal tras limpieza: T=140, N=166\n",
      " corr: (166, 166)\n",
      "    → T = 140 muestras; B = 11 bins para MI\n",
      " nmi: (166, 166)\n"
     ]
    },
    {
     "name": "stderr",
     "output_type": "stream",
     "text": [
      "Extracting features:  76%|███████▌  | 329/432 [48:12<15:01,  8.75s/it]"
     ]
    },
    {
     "name": "stdout",
     "output_type": "stream",
     "text": [
      " gc: (166, 166)\n",
      " dcv: (166, 166)\n",
      "[130_S_4817] guardado en /home/diego/Escritorio/ALL_170/TensorData/Other_tensor_130_S_4817.pt\n",
      "[130_S_4883] ➔ columnas vacías detectadas y eliminadas: [34, 35, 80, 81]\n",
      "[130_S_4883] señal tras limpieza: T=140, N=166\n",
      " corr: (166, 166)\n",
      "    → T = 140 muestras; B = 11 bins para MI\n",
      " nmi: (166, 166)\n"
     ]
    },
    {
     "name": "stderr",
     "output_type": "stream",
     "text": [
      "Extracting features:  76%|███████▋  | 330/432 [48:20<14:42,  8.65s/it]"
     ]
    },
    {
     "name": "stdout",
     "output_type": "stream",
     "text": [
      " gc: (166, 166)\n",
      " dcv: (166, 166)\n",
      "[130_S_4883] guardado en /home/diego/Escritorio/ALL_170/TensorData/Other_tensor_130_S_4883.pt\n",
      "[130_S_4925] ➔ columnas vacías detectadas y eliminadas: [34, 35, 80, 81]\n",
      "[130_S_4925] señal tras limpieza: T=140, N=166\n",
      " corr: (166, 166)\n",
      "    → T = 140 muestras; B = 11 bins para MI\n",
      " nmi: (166, 166)\n"
     ]
    },
    {
     "name": "stderr",
     "output_type": "stream",
     "text": [
      "Extracting features:  77%|███████▋  | 331/432 [48:28<14:20,  8.52s/it]"
     ]
    },
    {
     "name": "stdout",
     "output_type": "stream",
     "text": [
      " gc: (166, 166)\n",
      " dcv: (166, 166)\n",
      "[130_S_4925] guardado en /home/diego/Escritorio/ALL_170/TensorData/Other_tensor_130_S_4925.pt\n",
      "[130_S_4971] ➔ columnas vacías detectadas y eliminadas: [34, 35, 80, 81]\n",
      "[130_S_4971] señal tras limpieza: T=140, N=166\n",
      " corr: (166, 166)\n",
      "    → T = 140 muestras; B = 11 bins para MI\n",
      " nmi: (166, 166)\n"
     ]
    },
    {
     "name": "stderr",
     "output_type": "stream",
     "text": [
      "Extracting features:  77%|███████▋  | 332/432 [48:36<14:03,  8.43s/it]"
     ]
    },
    {
     "name": "stdout",
     "output_type": "stream",
     "text": [
      " gc: (166, 166)\n",
      " dcv: (166, 166)\n",
      "[130_S_4971] guardado en /home/diego/Escritorio/ALL_170/TensorData/AD_tensor_130_S_4971.pt\n",
      "[130_S_4982] ➔ columnas vacías detectadas y eliminadas: [34, 35, 80, 81]\n",
      "[130_S_4982] señal tras limpieza: T=140, N=166\n",
      " corr: (166, 166)\n",
      "    → T = 140 muestras; B = 11 bins para MI\n",
      " nmi: (166, 166)\n"
     ]
    },
    {
     "name": "stderr",
     "output_type": "stream",
     "text": [
      "Extracting features:  77%|███████▋  | 333/432 [48:45<13:49,  8.37s/it]"
     ]
    },
    {
     "name": "stdout",
     "output_type": "stream",
     "text": [
      " gc: (166, 166)\n",
      " dcv: (166, 166)\n",
      "[130_S_4982] guardado en /home/diego/Escritorio/ALL_170/TensorData/AD_tensor_130_S_4982.pt\n",
      "[130_S_4984] ➔ columnas vacías detectadas y eliminadas: [34, 35, 80, 81]\n",
      "[130_S_4984] señal tras limpieza: T=140, N=166\n",
      " corr: (166, 166)\n",
      "    → T = 140 muestras; B = 11 bins para MI\n",
      " nmi: (166, 166)\n"
     ]
    },
    {
     "name": "stderr",
     "output_type": "stream",
     "text": [
      "Extracting features:  77%|███████▋  | 334/432 [48:53<13:37,  8.34s/it]"
     ]
    },
    {
     "name": "stdout",
     "output_type": "stream",
     "text": [
      " gc: (166, 166)\n",
      " dcv: (166, 166)\n",
      "[130_S_4984] guardado en /home/diego/Escritorio/ALL_170/TensorData/AD_tensor_130_S_4984.pt\n",
      "[130_S_4990] ➔ columnas vacías detectadas y eliminadas: [34, 35, 80, 81]\n",
      "[130_S_4990] señal tras limpieza: T=140, N=166\n",
      " corr: (166, 166)\n",
      "    → T = 140 muestras; B = 11 bins para MI\n",
      " nmi: (166, 166)\n"
     ]
    },
    {
     "name": "stderr",
     "output_type": "stream",
     "text": [
      "Extracting features:  78%|███████▊  | 335/432 [49:01<13:23,  8.28s/it]"
     ]
    },
    {
     "name": "stdout",
     "output_type": "stream",
     "text": [
      " gc: (166, 166)\n",
      " dcv: (166, 166)\n",
      "[130_S_4990] guardado en /home/diego/Escritorio/ALL_170/TensorData/AD_tensor_130_S_4990.pt\n",
      "[130_S_4997] ➔ columnas vacías detectadas y eliminadas: [34, 35, 80, 81]\n",
      "[130_S_4997] señal tras limpieza: T=140, N=166\n",
      " corr: (166, 166)\n",
      "    → T = 140 muestras; B = 11 bins para MI\n",
      " nmi: (166, 166)\n"
     ]
    },
    {
     "name": "stderr",
     "output_type": "stream",
     "text": [
      "Extracting features:  78%|███████▊  | 336/432 [49:09<13:20,  8.34s/it]"
     ]
    },
    {
     "name": "stdout",
     "output_type": "stream",
     "text": [
      " gc: (166, 166)\n",
      " dcv: (166, 166)\n",
      "[130_S_4997] guardado en /home/diego/Escritorio/ALL_170/TensorData/AD_tensor_130_S_4997.pt\n",
      "[130_S_5006] ➔ columnas vacías detectadas y eliminadas: [34, 35, 80, 81]\n",
      "[130_S_5006] señal tras limpieza: T=140, N=166\n",
      " corr: (166, 166)\n",
      "    → T = 140 muestras; B = 11 bins para MI\n",
      " nmi: (166, 166)\n"
     ]
    },
    {
     "name": "stderr",
     "output_type": "stream",
     "text": [
      "Extracting features:  78%|███████▊  | 337/432 [49:18<13:10,  8.32s/it]"
     ]
    },
    {
     "name": "stdout",
     "output_type": "stream",
     "text": [
      " gc: (166, 166)\n",
      " dcv: (166, 166)\n",
      "[130_S_5006] guardado en /home/diego/Escritorio/ALL_170/TensorData/AD_tensor_130_S_5006.pt\n",
      "[130_S_5059] ➔ columnas vacías detectadas y eliminadas: [34, 35, 80, 81]\n",
      "[130_S_5059] señal tras limpieza: T=140, N=166\n",
      " corr: (166, 166)\n",
      "    → T = 140 muestras; B = 11 bins para MI\n",
      " nmi: (166, 166)\n"
     ]
    },
    {
     "name": "stderr",
     "output_type": "stream",
     "text": [
      "Extracting features:  78%|███████▊  | 338/432 [49:26<13:00,  8.30s/it]"
     ]
    },
    {
     "name": "stdout",
     "output_type": "stream",
     "text": [
      " gc: (166, 166)\n",
      " dcv: (166, 166)\n",
      "[130_S_5059] guardado en /home/diego/Escritorio/ALL_170/TensorData/AD_tensor_130_S_5059.pt\n",
      "[130_S_6019] ➔ columnas vacías detectadas y eliminadas: [34, 35, 80, 81]\n",
      "[130_S_6019] señal tras limpieza: T=197, N=166\n",
      " corr: (166, 166)\n",
      "    → T = 197 muestras; B = 14 bins para MI\n",
      " nmi: (166, 166)\n",
      " gc: (166, 166)\n"
     ]
    },
    {
     "name": "stderr",
     "output_type": "stream",
     "text": [
      "Extracting features:  78%|███████▊  | 339/432 [49:35<13:21,  8.61s/it]"
     ]
    },
    {
     "name": "stdout",
     "output_type": "stream",
     "text": [
      " dcv: (166, 166)\n",
      "[130_S_6019] guardado en /home/diego/Escritorio/ALL_170/TensorData/CN_tensor_130_S_6019.pt\n",
      "[130_S_6027] ➔ columnas vacías detectadas y eliminadas: [34, 35, 80, 81]\n",
      "[130_S_6027] señal tras limpieza: T=197, N=166\n",
      " corr: (166, 166)\n",
      "    → T = 197 muestras; B = 14 bins para MI\n",
      " nmi: (166, 166)\n"
     ]
    },
    {
     "name": "stderr",
     "output_type": "stream",
     "text": [
      "Extracting features:  79%|███████▊  | 340/432 [49:44<13:23,  8.74s/it]"
     ]
    },
    {
     "name": "stdout",
     "output_type": "stream",
     "text": [
      " gc: (166, 166)\n",
      " dcv: (166, 166)\n",
      "[130_S_6027] guardado en /home/diego/Escritorio/ALL_170/TensorData/CN_tensor_130_S_6027.pt\n",
      "[130_S_6035] ➔ columnas vacías detectadas y eliminadas: [34, 35, 80, 81]\n",
      "[130_S_6035] señal tras limpieza: T=197, N=166\n",
      " corr: (166, 166)\n",
      "    → T = 197 muestras; B = 14 bins para MI\n",
      " nmi: (166, 166)\n"
     ]
    },
    {
     "name": "stderr",
     "output_type": "stream",
     "text": [
      "Extracting features:  79%|███████▉  | 341/432 [49:54<13:25,  8.85s/it]"
     ]
    },
    {
     "name": "stdout",
     "output_type": "stream",
     "text": [
      " gc: (166, 166)\n",
      " dcv: (166, 166)\n",
      "[130_S_6035] guardado en /home/diego/Escritorio/ALL_170/TensorData/CN_tensor_130_S_6035.pt\n",
      "[130_S_6037] ➔ columnas vacías detectadas y eliminadas: [34, 35, 80, 81]\n",
      "[130_S_6037] señal tras limpieza: T=197, N=166\n",
      " corr: (166, 166)\n",
      "    → T = 197 muestras; B = 14 bins para MI\n",
      " nmi: (166, 166)\n"
     ]
    },
    {
     "name": "stderr",
     "output_type": "stream",
     "text": [
      "Extracting features:  79%|███████▉  | 342/432 [50:03<13:21,  8.90s/it]"
     ]
    },
    {
     "name": "stdout",
     "output_type": "stream",
     "text": [
      " gc: (166, 166)\n",
      " dcv: (166, 166)\n",
      "[130_S_6037] guardado en /home/diego/Escritorio/ALL_170/TensorData/CN_tensor_130_S_6037.pt\n",
      "[130_S_6043] ➔ columnas vacías detectadas y eliminadas: [34, 35, 80, 81]\n",
      "[130_S_6043] señal tras limpieza: T=197, N=166\n",
      " corr: (166, 166)\n",
      "    → T = 197 muestras; B = 14 bins para MI\n",
      " nmi: (166, 166)\n"
     ]
    },
    {
     "name": "stderr",
     "output_type": "stream",
     "text": [
      "Extracting features:  79%|███████▉  | 343/432 [50:12<13:21,  9.01s/it]"
     ]
    },
    {
     "name": "stdout",
     "output_type": "stream",
     "text": [
      " gc: (166, 166)\n",
      " dcv: (166, 166)\n",
      "[130_S_6043] guardado en /home/diego/Escritorio/ALL_170/TensorData/CN_tensor_130_S_6043.pt\n",
      "[130_S_6047] ➔ columnas vacías detectadas y eliminadas: [34, 35, 80, 81]\n",
      "[130_S_6047] señal tras limpieza: T=197, N=166\n",
      " corr: (166, 166)\n",
      "    → T = 197 muestras; B = 14 bins para MI\n",
      " nmi: (166, 166)\n"
     ]
    },
    {
     "name": "stderr",
     "output_type": "stream",
     "text": [
      "Extracting features:  80%|███████▉  | 344/432 [50:21<13:13,  9.02s/it]"
     ]
    },
    {
     "name": "stdout",
     "output_type": "stream",
     "text": [
      " gc: (166, 166)\n",
      " dcv: (166, 166)\n",
      "[130_S_6047] guardado en /home/diego/Escritorio/ALL_170/TensorData/Other_tensor_130_S_6047.pt\n",
      "[130_S_6072] ➔ columnas vacías detectadas y eliminadas: [34, 35, 80, 81]\n",
      "[130_S_6072] señal tras limpieza: T=197, N=166\n",
      " corr: (166, 166)\n",
      "    → T = 197 muestras; B = 14 bins para MI\n",
      " nmi: (166, 166)\n"
     ]
    },
    {
     "name": "stderr",
     "output_type": "stream",
     "text": [
      "Extracting features:  80%|███████▉  | 345/432 [50:30<13:04,  9.02s/it]"
     ]
    },
    {
     "name": "stdout",
     "output_type": "stream",
     "text": [
      " gc: (166, 166)\n",
      " dcv: (166, 166)\n",
      "[130_S_6072] guardado en /home/diego/Escritorio/ALL_170/TensorData/AD_tensor_130_S_6072.pt\n",
      "[130_S_6105] ➔ columnas vacías detectadas y eliminadas: [34, 35, 80, 81]\n",
      "[130_S_6105] señal tras limpieza: T=197, N=166\n",
      " corr: (166, 166)\n",
      "    → T = 197 muestras; B = 14 bins para MI\n",
      " nmi: (166, 166)\n"
     ]
    },
    {
     "name": "stderr",
     "output_type": "stream",
     "text": [
      "Extracting features:  80%|████████  | 346/432 [50:39<12:53,  9.00s/it]"
     ]
    },
    {
     "name": "stdout",
     "output_type": "stream",
     "text": [
      " gc: (166, 166)\n",
      " dcv: (166, 166)\n",
      "[130_S_6105] guardado en /home/diego/Escritorio/ALL_170/TensorData/CN_tensor_130_S_6105.pt\n",
      "[130_S_6111] ➔ columnas vacías detectadas y eliminadas: [34, 35, 80, 81]\n",
      "[130_S_6111] señal tras limpieza: T=197, N=166\n",
      " corr: (166, 166)\n",
      "    → T = 197 muestras; B = 14 bins para MI\n",
      " nmi: (166, 166)\n"
     ]
    },
    {
     "name": "stderr",
     "output_type": "stream",
     "text": [
      "Extracting features:  80%|████████  | 347/432 [50:48<12:45,  9.01s/it]"
     ]
    },
    {
     "name": "stdout",
     "output_type": "stream",
     "text": [
      " gc: (166, 166)\n",
      " dcv: (166, 166)\n",
      "[130_S_6111] guardado en /home/diego/Escritorio/ALL_170/TensorData/CN_tensor_130_S_6111.pt\n",
      "[130_S_6137] ➔ columnas vacías detectadas y eliminadas: [34, 35, 80, 81]\n",
      "[130_S_6137] señal tras limpieza: T=197, N=166\n",
      " corr: (166, 166)\n",
      "    → T = 197 muestras; B = 14 bins para MI\n",
      " nmi: (166, 166)\n"
     ]
    },
    {
     "name": "stderr",
     "output_type": "stream",
     "text": [
      "Extracting features:  81%|████████  | 348/432 [50:57<12:38,  9.03s/it]"
     ]
    },
    {
     "name": "stdout",
     "output_type": "stream",
     "text": [
      " gc: (166, 166)\n",
      " dcv: (166, 166)\n",
      "[130_S_6137] guardado en /home/diego/Escritorio/ALL_170/TensorData/CN_tensor_130_S_6137.pt\n",
      "[130_S_6161] ➔ columnas vacías detectadas y eliminadas: [34, 35, 80, 81]\n",
      "[130_S_6161] señal tras limpieza: T=197, N=166\n",
      " corr: (166, 166)\n",
      "    → T = 197 muestras; B = 14 bins para MI\n",
      " nmi: (166, 166)\n"
     ]
    },
    {
     "name": "stderr",
     "output_type": "stream",
     "text": [
      "Extracting features:  81%|████████  | 349/432 [51:06<12:33,  9.07s/it]"
     ]
    },
    {
     "name": "stdout",
     "output_type": "stream",
     "text": [
      " gc: (166, 166)\n",
      " dcv: (166, 166)\n",
      "[130_S_6161] guardado en /home/diego/Escritorio/ALL_170/TensorData/CN_tensor_130_S_6161.pt\n",
      "[130_S_6319] ➔ columnas vacías detectadas y eliminadas: [34, 35, 80, 81]\n",
      "[130_S_6319] señal tras limpieza: T=197, N=166\n",
      " corr: (166, 166)\n",
      "    → T = 197 muestras; B = 14 bins para MI\n",
      " nmi: (166, 166)\n"
     ]
    },
    {
     "name": "stderr",
     "output_type": "stream",
     "text": [
      "Extracting features:  81%|████████  | 350/432 [51:15<12:25,  9.09s/it]"
     ]
    },
    {
     "name": "stdout",
     "output_type": "stream",
     "text": [
      " gc: (166, 166)\n",
      " dcv: (166, 166)\n",
      "[130_S_6319] guardado en /home/diego/Escritorio/ALL_170/TensorData/CN_tensor_130_S_6319.pt\n",
      "[130_S_6361] ➔ columnas vacías detectadas y eliminadas: [34, 35, 80, 81]\n",
      "[130_S_6361] señal tras limpieza: T=197, N=166\n",
      " corr: (166, 166)\n",
      "    → T = 197 muestras; B = 14 bins para MI\n",
      " nmi: (166, 166)\n",
      " gc: (166, 166)\n"
     ]
    },
    {
     "name": "stderr",
     "output_type": "stream",
     "text": [
      "Extracting features:  81%|████████▏ | 351/432 [51:24<12:16,  9.10s/it]"
     ]
    },
    {
     "name": "stdout",
     "output_type": "stream",
     "text": [
      " dcv: (166, 166)\n",
      "[130_S_6361] guardado en /home/diego/Escritorio/ALL_170/TensorData/CN_tensor_130_S_6361.pt\n",
      "[130_S_6372] ➔ columnas vacías detectadas y eliminadas: [34, 35, 80, 81]\n",
      "[130_S_6372] señal tras limpieza: T=197, N=166\n",
      " corr: (166, 166)\n",
      "    → T = 197 muestras; B = 14 bins para MI\n",
      " nmi: (166, 166)\n"
     ]
    },
    {
     "name": "stderr",
     "output_type": "stream",
     "text": [
      "Extracting features:  81%|████████▏ | 352/432 [51:34<12:11,  9.14s/it]"
     ]
    },
    {
     "name": "stdout",
     "output_type": "stream",
     "text": [
      " gc: (166, 166)\n",
      " dcv: (166, 166)\n",
      "[130_S_6372] guardado en /home/diego/Escritorio/ALL_170/TensorData/CN_tensor_130_S_6372.pt\n",
      "[130_S_6388] ➔ columnas vacías detectadas y eliminadas: [34, 35, 80, 81]\n",
      "[130_S_6388] señal tras limpieza: T=197, N=166\n",
      " corr: (166, 166)\n",
      "    → T = 197 muestras; B = 14 bins para MI\n",
      " nmi: (166, 166)\n"
     ]
    },
    {
     "name": "stderr",
     "output_type": "stream",
     "text": [
      "Extracting features:  82%|████████▏ | 353/432 [51:43<11:58,  9.10s/it]"
     ]
    },
    {
     "name": "stdout",
     "output_type": "stream",
     "text": [
      " gc: (166, 166)\n",
      " dcv: (166, 166)\n",
      "[130_S_6388] guardado en /home/diego/Escritorio/ALL_170/TensorData/CN_tensor_130_S_6388.pt\n",
      "[130_S_6390] ➔ columnas vacías detectadas y eliminadas: [34, 35, 80, 81]\n",
      "[130_S_6390] señal tras limpieza: T=197, N=166\n",
      " corr: (166, 166)\n",
      "    → T = 197 muestras; B = 14 bins para MI\n",
      " nmi: (166, 166)\n"
     ]
    },
    {
     "name": "stderr",
     "output_type": "stream",
     "text": [
      "Extracting features:  82%|████████▏ | 354/432 [51:52<11:50,  9.11s/it]"
     ]
    },
    {
     "name": "stdout",
     "output_type": "stream",
     "text": [
      " gc: (166, 166)\n",
      " dcv: (166, 166)\n",
      "[130_S_6390] guardado en /home/diego/Escritorio/ALL_170/TensorData/CN_tensor_130_S_6390.pt\n",
      "[130_S_6391] ➔ columnas vacías detectadas y eliminadas: [34, 35, 80, 81]\n",
      "[130_S_6391] señal tras limpieza: T=197, N=166\n",
      " corr: (166, 166)\n",
      "    → T = 197 muestras; B = 14 bins para MI\n",
      " nmi: (166, 166)\n"
     ]
    },
    {
     "name": "stderr",
     "output_type": "stream",
     "text": [
      "Extracting features:  82%|████████▏ | 355/432 [52:01<11:46,  9.18s/it]"
     ]
    },
    {
     "name": "stdout",
     "output_type": "stream",
     "text": [
      " gc: (166, 166)\n",
      " dcv: (166, 166)\n",
      "[130_S_6391] guardado en /home/diego/Escritorio/ALL_170/TensorData/CN_tensor_130_S_6391.pt\n",
      "[130_S_6469] ➔ columnas vacías detectadas y eliminadas: [34, 35, 80, 81]\n",
      "[130_S_6469] señal tras limpieza: T=197, N=166\n",
      " corr: (166, 166)\n",
      "    → T = 197 muestras; B = 14 bins para MI\n",
      " nmi: (166, 166)\n"
     ]
    },
    {
     "name": "stderr",
     "output_type": "stream",
     "text": [
      "Extracting features:  82%|████████▏ | 356/432 [52:10<11:31,  9.09s/it]"
     ]
    },
    {
     "name": "stdout",
     "output_type": "stream",
     "text": [
      " gc: (166, 166)\n",
      " dcv: (166, 166)\n",
      "[130_S_6469] guardado en /home/diego/Escritorio/ALL_170/TensorData/CN_tensor_130_S_6469.pt\n",
      "[130_S_6558] ➔ columnas vacías detectadas y eliminadas: [34, 35, 80, 81]\n",
      "[130_S_6558] señal tras limpieza: T=197, N=166\n",
      " corr: (166, 166)\n",
      "    → T = 197 muestras; B = 14 bins para MI\n",
      " nmi: (166, 166)\n"
     ]
    },
    {
     "name": "stderr",
     "output_type": "stream",
     "text": [
      "Extracting features:  83%|████████▎ | 357/432 [52:19<11:20,  9.08s/it]"
     ]
    },
    {
     "name": "stdout",
     "output_type": "stream",
     "text": [
      " gc: (166, 166)\n",
      " dcv: (166, 166)\n",
      "[130_S_6558] guardado en /home/diego/Escritorio/ALL_170/TensorData/CN_tensor_130_S_6558.pt\n",
      "[130_S_6604] ➔ columnas vacías detectadas y eliminadas: [34, 35, 80, 81]\n",
      "[130_S_6604] señal tras limpieza: T=197, N=166\n",
      " corr: (166, 166)\n",
      "    → T = 197 muestras; B = 14 bins para MI\n",
      " nmi: (166, 166)\n"
     ]
    },
    {
     "name": "stderr",
     "output_type": "stream",
     "text": [
      "Extracting features:  83%|████████▎ | 358/432 [52:28<11:12,  9.09s/it]"
     ]
    },
    {
     "name": "stdout",
     "output_type": "stream",
     "text": [
      " gc: (166, 166)\n",
      " dcv: (166, 166)\n",
      "[130_S_6604] guardado en /home/diego/Escritorio/ALL_170/TensorData/Other_tensor_130_S_6604.pt\n",
      "[130_S_6611] ➔ columnas vacías detectadas y eliminadas: [34, 35, 80, 81]\n",
      "[130_S_6611] señal tras limpieza: T=197, N=166\n",
      " corr: (166, 166)\n",
      "    → T = 197 muestras; B = 14 bins para MI\n",
      " nmi: (166, 166)\n"
     ]
    },
    {
     "name": "stderr",
     "output_type": "stream",
     "text": [
      "Extracting features:  83%|████████▎ | 359/432 [52:37<11:08,  9.16s/it]"
     ]
    },
    {
     "name": "stdout",
     "output_type": "stream",
     "text": [
      " gc: (166, 166)\n",
      " dcv: (166, 166)\n",
      "[130_S_6611] guardado en /home/diego/Escritorio/ALL_170/TensorData/Other_tensor_130_S_6611.pt\n",
      "[130_S_6612] ➔ columnas vacías detectadas y eliminadas: [34, 35, 80, 81]\n",
      "[130_S_6612] señal tras limpieza: T=197, N=166\n",
      " corr: (166, 166)\n",
      "    → T = 197 muestras; B = 14 bins para MI\n",
      " nmi: (166, 166)\n"
     ]
    },
    {
     "name": "stderr",
     "output_type": "stream",
     "text": [
      "Extracting features:  83%|████████▎ | 360/432 [52:46<10:55,  9.10s/it]"
     ]
    },
    {
     "name": "stdout",
     "output_type": "stream",
     "text": [
      " gc: (166, 166)\n",
      " dcv: (166, 166)\n",
      "[130_S_6612] guardado en /home/diego/Escritorio/ALL_170/TensorData/Other_tensor_130_S_6612.pt\n",
      "[130_S_6639] ➔ columnas vacías detectadas y eliminadas: [34, 35, 80, 81]\n",
      "[130_S_6639] señal tras limpieza: T=197, N=166\n",
      " corr: (166, 166)\n",
      "    → T = 197 muestras; B = 14 bins para MI\n",
      " nmi: (166, 166)\n"
     ]
    },
    {
     "name": "stderr",
     "output_type": "stream",
     "text": [
      "Extracting features:  84%|████████▎ | 361/432 [52:56<10:48,  9.13s/it]"
     ]
    },
    {
     "name": "stdout",
     "output_type": "stream",
     "text": [
      " gc: (166, 166)\n",
      " dcv: (166, 166)\n",
      "[130_S_6639] guardado en /home/diego/Escritorio/ALL_170/TensorData/Other_tensor_130_S_6639.pt\n",
      "[130_S_6646] ➔ columnas vacías detectadas y eliminadas: [34, 35, 80, 81]\n",
      "[130_S_6646] señal tras limpieza: T=197, N=166\n",
      " corr: (166, 166)\n",
      "    → T = 197 muestras; B = 14 bins para MI\n",
      " nmi: (166, 166)\n"
     ]
    },
    {
     "name": "stderr",
     "output_type": "stream",
     "text": [
      "Extracting features:  84%|████████▍ | 362/432 [53:05<10:37,  9.11s/it]"
     ]
    },
    {
     "name": "stdout",
     "output_type": "stream",
     "text": [
      " gc: (166, 166)\n",
      " dcv: (166, 166)\n",
      "[130_S_6646] guardado en /home/diego/Escritorio/ALL_170/TensorData/Other_tensor_130_S_6646.pt\n",
      "[130_S_6823] ➔ columnas vacías detectadas y eliminadas: [34, 35, 80, 81]\n",
      "[130_S_6823] señal tras limpieza: T=197, N=166\n",
      " corr: (166, 166)\n",
      "    → T = 197 muestras; B = 14 bins para MI\n",
      " nmi: (166, 166)\n"
     ]
    },
    {
     "name": "stderr",
     "output_type": "stream",
     "text": [
      "Extracting features:  84%|████████▍ | 363/432 [53:14<10:30,  9.14s/it]"
     ]
    },
    {
     "name": "stdout",
     "output_type": "stream",
     "text": [
      " gc: (166, 166)\n",
      " dcv: (166, 166)\n",
      "[130_S_6823] guardado en /home/diego/Escritorio/ALL_170/TensorData/Other_tensor_130_S_6823.pt\n",
      "[131_S_0384] ➔ columnas vacías detectadas y eliminadas: [34, 35, 80, 81]\n",
      "[131_S_0384] señal tras limpieza: T=197, N=166\n",
      " corr: (166, 166)\n",
      "    → T = 197 muestras; B = 14 bins para MI\n",
      " nmi: (166, 166)\n"
     ]
    },
    {
     "name": "stderr",
     "output_type": "stream",
     "text": [
      "Extracting features:  84%|████████▍ | 364/432 [53:23<10:21,  9.14s/it]"
     ]
    },
    {
     "name": "stdout",
     "output_type": "stream",
     "text": [
      " gc: (166, 166)\n",
      " dcv: (166, 166)\n",
      "[131_S_0384] guardado en /home/diego/Escritorio/ALL_170/TensorData/Other_tensor_131_S_0384.pt\n",
      "[131_S_5138] ➔ columnas vacías detectadas y eliminadas: [34, 35, 80, 81]\n",
      "[131_S_5138] señal tras limpieza: T=140, N=166\n",
      " corr: (166, 166)\n",
      "    → T = 140 muestras; B = 11 bins para MI\n",
      " nmi: (166, 166)\n"
     ]
    },
    {
     "name": "stderr",
     "output_type": "stream",
     "text": [
      "Extracting features:  84%|████████▍ | 365/432 [53:31<09:53,  8.85s/it]"
     ]
    },
    {
     "name": "stdout",
     "output_type": "stream",
     "text": [
      " gc: (166, 166)\n",
      " dcv: (166, 166)\n",
      "[131_S_5138] guardado en /home/diego/Escritorio/ALL_170/TensorData/AD_tensor_131_S_5138.pt\n",
      "[131_S_6143] ➔ columnas vacías detectadas y eliminadas: [34, 35, 80, 81]\n",
      "[131_S_6143] señal tras limpieza: T=197, N=166\n",
      " corr: (166, 166)\n",
      "    → T = 197 muestras; B = 14 bins para MI\n",
      " nmi: (166, 166)\n"
     ]
    },
    {
     "name": "stderr",
     "output_type": "stream",
     "text": [
      "Extracting features:  85%|████████▍ | 366/432 [53:41<09:59,  9.08s/it]"
     ]
    },
    {
     "name": "stdout",
     "output_type": "stream",
     "text": [
      " gc: (166, 166)\n",
      " dcv: (166, 166)\n",
      "[131_S_6143] guardado en /home/diego/Escritorio/ALL_170/TensorData/Other_tensor_131_S_6143.pt\n",
      "[131_S_6616] ➔ columnas vacías detectadas y eliminadas: [34, 35, 80, 81]\n",
      "[131_S_6616] señal tras limpieza: T=197, N=166\n",
      " corr: (166, 166)\n",
      "    → T = 197 muestras; B = 14 bins para MI\n",
      " nmi: (166, 166)\n"
     ]
    },
    {
     "name": "stderr",
     "output_type": "stream",
     "text": [
      "Extracting features:  85%|████████▍ | 367/432 [53:50<09:50,  9.08s/it]"
     ]
    },
    {
     "name": "stdout",
     "output_type": "stream",
     "text": [
      " gc: (166, 166)\n",
      " dcv: (166, 166)\n",
      "[131_S_6616] guardado en /home/diego/Escritorio/ALL_170/TensorData/Other_tensor_131_S_6616.pt\n",
      "[131_S_7032] ➔ columnas vacías detectadas y eliminadas: [34, 35, 80, 81]\n",
      "[131_S_7032] señal tras limpieza: T=197, N=166\n",
      " corr: (166, 166)\n",
      "    → T = 197 muestras; B = 14 bins para MI\n",
      " nmi: (166, 166)\n"
     ]
    },
    {
     "name": "stderr",
     "output_type": "stream",
     "text": [
      "Extracting features:  85%|████████▌ | 368/432 [53:59<09:42,  9.11s/it]"
     ]
    },
    {
     "name": "stdout",
     "output_type": "stream",
     "text": [
      " gc: (166, 166)\n",
      " dcv: (166, 166)\n",
      "[131_S_7032] guardado en /home/diego/Escritorio/ALL_170/TensorData/Other_tensor_131_S_7032.pt\n",
      "[135_S_4356] ➔ columnas vacías detectadas y eliminadas: [34, 35, 80, 81]\n",
      "[135_S_4356] señal tras limpieza: T=200, N=166\n",
      " corr: (166, 166)\n",
      "    → T = 200 muestras; B = 14 bins para MI\n",
      " nmi: (166, 166)\n"
     ]
    },
    {
     "name": "stderr",
     "output_type": "stream",
     "text": [
      "Extracting features:  85%|████████▌ | 369/432 [54:08<09:39,  9.20s/it]"
     ]
    },
    {
     "name": "stdout",
     "output_type": "stream",
     "text": [
      " gc: (166, 166)\n",
      " dcv: (166, 166)\n",
      "[135_S_4356] guardado en /home/diego/Escritorio/ALL_170/TensorData/Other_tensor_135_S_4356.pt\n",
      "[135_S_4489] ➔ columnas vacías detectadas y eliminadas: [34, 35, 80, 81]\n",
      "[135_S_4489] señal tras limpieza: T=200, N=166\n",
      " corr: (166, 166)\n",
      "    → T = 200 muestras; B = 14 bins para MI\n",
      " nmi: (166, 166)\n"
     ]
    },
    {
     "name": "stderr",
     "output_type": "stream",
     "text": [
      "Extracting features:  86%|████████▌ | 370/432 [54:18<09:37,  9.31s/it]"
     ]
    },
    {
     "name": "stdout",
     "output_type": "stream",
     "text": [
      " gc: (166, 166)\n",
      " dcv: (166, 166)\n",
      "[135_S_4489] guardado en /home/diego/Escritorio/ALL_170/TensorData/Other_tensor_135_S_4489.pt\n",
      "[135_S_4722] ➔ columnas vacías detectadas y eliminadas: [34, 35, 80, 81]\n",
      "[135_S_4722] señal tras limpieza: T=200, N=166\n",
      " corr: (166, 166)\n",
      "    → T = 200 muestras; B = 14 bins para MI\n",
      " nmi: (166, 166)\n"
     ]
    },
    {
     "name": "stderr",
     "output_type": "stream",
     "text": [
      "Extracting features:  86%|████████▌ | 371/432 [54:27<09:28,  9.31s/it]"
     ]
    },
    {
     "name": "stdout",
     "output_type": "stream",
     "text": [
      " gc: (166, 166)\n",
      " dcv: (166, 166)\n",
      "[135_S_4722] guardado en /home/diego/Escritorio/ALL_170/TensorData/Other_tensor_135_S_4722.pt\n",
      "[135_S_4723] ➔ columnas vacías detectadas y eliminadas: [34, 35, 80, 81]\n",
      "[135_S_4723] señal tras limpieza: T=200, N=166\n",
      " corr: (166, 166)\n",
      "    → T = 200 muestras; B = 14 bins para MI\n",
      " nmi: (166, 166)\n"
     ]
    },
    {
     "name": "stderr",
     "output_type": "stream",
     "text": [
      "Extracting features:  86%|████████▌ | 372/432 [54:37<09:20,  9.34s/it]"
     ]
    },
    {
     "name": "stdout",
     "output_type": "stream",
     "text": [
      " gc: (166, 166)\n",
      " dcv: (166, 166)\n",
      "[135_S_4723] guardado en /home/diego/Escritorio/ALL_170/TensorData/Other_tensor_135_S_4723.pt\n",
      "[135_S_6284] ➔ columnas vacías detectadas y eliminadas: [34, 35, 80, 81]\n",
      "[135_S_6284] señal tras limpieza: T=200, N=166\n",
      " corr: (166, 166)\n",
      "    → T = 200 muestras; B = 14 bins para MI\n",
      " nmi: (166, 166)\n"
     ]
    },
    {
     "name": "stderr",
     "output_type": "stream",
     "text": [
      "Extracting features:  86%|████████▋ | 373/432 [54:46<09:13,  9.38s/it]"
     ]
    },
    {
     "name": "stdout",
     "output_type": "stream",
     "text": [
      " gc: (166, 166)\n",
      " dcv: (166, 166)\n",
      "[135_S_6284] guardado en /home/diego/Escritorio/ALL_170/TensorData/AD_tensor_135_S_6284.pt\n",
      "[135_S_6389] ➔ columnas vacías detectadas y eliminadas: [34, 35, 80, 81]\n",
      "[135_S_6389] señal tras limpieza: T=200, N=166\n",
      " corr: (166, 166)\n",
      "    → T = 200 muestras; B = 14 bins para MI\n",
      " nmi: (166, 166)\n"
     ]
    },
    {
     "name": "stderr",
     "output_type": "stream",
     "text": [
      "Extracting features:  87%|████████▋ | 374/432 [54:56<09:02,  9.36s/it]"
     ]
    },
    {
     "name": "stdout",
     "output_type": "stream",
     "text": [
      " gc: (166, 166)\n",
      " dcv: (166, 166)\n",
      "[135_S_6389] guardado en /home/diego/Escritorio/ALL_170/TensorData/AD_tensor_135_S_6389.pt\n",
      "[135_S_6545] ➔ columnas vacías detectadas y eliminadas: [34, 35, 80, 81]\n",
      "[135_S_6545] señal tras limpieza: T=200, N=166\n",
      " corr: (166, 166)\n",
      "    → T = 200 muestras; B = 14 bins para MI\n",
      " nmi: (166, 166)\n"
     ]
    },
    {
     "name": "stderr",
     "output_type": "stream",
     "text": [
      "Extracting features:  87%|████████▋ | 375/432 [55:05<08:52,  9.35s/it]"
     ]
    },
    {
     "name": "stdout",
     "output_type": "stream",
     "text": [
      " gc: (166, 166)\n",
      " dcv: (166, 166)\n",
      "[135_S_6545] guardado en /home/diego/Escritorio/ALL_170/TensorData/AD_tensor_135_S_6545.pt\n",
      "[135_S_6687] ➔ columnas vacías detectadas y eliminadas: [34, 35, 80, 81]\n",
      "[135_S_6687] señal tras limpieza: T=200, N=166\n",
      " corr: (166, 166)\n",
      "    → T = 200 muestras; B = 14 bins para MI\n",
      " nmi: (166, 166)\n"
     ]
    },
    {
     "name": "stderr",
     "output_type": "stream",
     "text": [
      "Extracting features:  87%|████████▋ | 376/432 [55:14<08:41,  9.32s/it]"
     ]
    },
    {
     "name": "stdout",
     "output_type": "stream",
     "text": [
      " gc: (166, 166)\n",
      " dcv: (166, 166)\n",
      "[135_S_6687] guardado en /home/diego/Escritorio/ALL_170/TensorData/AD_tensor_135_S_6687.pt\n",
      "[135_S_6840] ➔ columnas vacías detectadas y eliminadas: [34, 35, 80, 81]\n",
      "[135_S_6840] señal tras limpieza: T=200, N=166\n",
      " corr: (166, 166)\n",
      "    → T = 200 muestras; B = 14 bins para MI\n",
      " nmi: (166, 166)\n"
     ]
    },
    {
     "name": "stderr",
     "output_type": "stream",
     "text": [
      "Extracting features:  87%|████████▋ | 377/432 [55:23<08:30,  9.29s/it]"
     ]
    },
    {
     "name": "stdout",
     "output_type": "stream",
     "text": [
      " gc: (166, 166)\n",
      " dcv: (166, 166)\n",
      "[135_S_6840] guardado en /home/diego/Escritorio/ALL_170/TensorData/AD_tensor_135_S_6840.pt\n",
      "[135_S_7003] ➔ columnas vacías detectadas y eliminadas: [34, 35, 80, 81]\n",
      "[135_S_7003] señal tras limpieza: T=200, N=166\n",
      " corr: (166, 166)\n",
      "    → T = 200 muestras; B = 14 bins para MI\n",
      " nmi: (166, 166)\n"
     ]
    },
    {
     "name": "stderr",
     "output_type": "stream",
     "text": [
      "Extracting features:  88%|████████▊ | 378/432 [55:33<08:22,  9.31s/it]"
     ]
    },
    {
     "name": "stdout",
     "output_type": "stream",
     "text": [
      " gc: (166, 166)\n",
      " dcv: (166, 166)\n",
      "[135_S_7003] guardado en /home/diego/Escritorio/ALL_170/TensorData/AD_tensor_135_S_7003.pt\n",
      "[136_S_4269] ➔ columnas vacías detectadas y eliminadas: [34, 35, 80, 81]\n",
      "[136_S_4269] señal tras limpieza: T=140, N=166\n",
      " corr: (166, 166)\n",
      "    → T = 140 muestras; B = 11 bins para MI\n",
      " nmi: (166, 166)\n"
     ]
    },
    {
     "name": "stderr",
     "output_type": "stream",
     "text": [
      "Extracting features:  88%|████████▊ | 379/432 [55:41<07:55,  8.97s/it]"
     ]
    },
    {
     "name": "stdout",
     "output_type": "stream",
     "text": [
      " gc: (166, 166)\n",
      " dcv: (166, 166)\n",
      "[136_S_4269] guardado en /home/diego/Escritorio/ALL_170/TensorData/CN_tensor_136_S_4269.pt\n",
      "[136_S_4408] ➔ columnas vacías detectadas y eliminadas: [34, 35, 80, 81]\n",
      "[136_S_4408] señal tras limpieza: T=140, N=166\n",
      " corr: (166, 166)\n",
      "    → T = 140 muestras; B = 11 bins para MI\n",
      " nmi: (166, 166)\n"
     ]
    },
    {
     "name": "stderr",
     "output_type": "stream",
     "text": [
      "Extracting features:  88%|████████▊ | 380/432 [55:49<07:34,  8.74s/it]"
     ]
    },
    {
     "name": "stdout",
     "output_type": "stream",
     "text": [
      " gc: (166, 166)\n",
      " dcv: (166, 166)\n",
      "[136_S_4408] guardado en /home/diego/Escritorio/ALL_170/TensorData/Other_tensor_136_S_4408.pt\n",
      "[136_S_4433] ➔ columnas vacías detectadas y eliminadas: [34, 35, 80, 81]\n",
      "[136_S_4433] señal tras limpieza: T=140, N=166\n",
      " corr: (166, 166)\n",
      "    → T = 140 muestras; B = 11 bins para MI\n",
      " nmi: (166, 166)\n"
     ]
    },
    {
     "name": "stderr",
     "output_type": "stream",
     "text": [
      "Extracting features:  88%|████████▊ | 381/432 [55:58<07:22,  8.68s/it]"
     ]
    },
    {
     "name": "stdout",
     "output_type": "stream",
     "text": [
      " gc: (166, 166)\n",
      " dcv: (166, 166)\n",
      "[136_S_4433] guardado en /home/diego/Escritorio/ALL_170/TensorData/CN_tensor_136_S_4433.pt\n",
      "[136_S_4517] ➔ columnas vacías detectadas y eliminadas: [34, 35, 80, 81]\n",
      "[136_S_4517] señal tras limpieza: T=140, N=166\n",
      " corr: (166, 166)\n",
      "    → T = 140 muestras; B = 11 bins para MI\n",
      " nmi: (166, 166)\n"
     ]
    },
    {
     "name": "stderr",
     "output_type": "stream",
     "text": [
      "Extracting features:  88%|████████▊ | 382/432 [56:06<07:09,  8.58s/it]"
     ]
    },
    {
     "name": "stdout",
     "output_type": "stream",
     "text": [
      " gc: (166, 166)\n",
      " dcv: (166, 166)\n",
      "[136_S_4517] guardado en /home/diego/Escritorio/ALL_170/TensorData/Other_tensor_136_S_4517.pt\n",
      "[136_S_4726] ➔ columnas vacías detectadas y eliminadas: [34, 35, 80, 81]\n",
      "[136_S_4726] señal tras limpieza: T=140, N=166\n",
      " corr: (166, 166)\n",
      "    → T = 140 muestras; B = 11 bins para MI\n",
      " nmi: (166, 166)\n"
     ]
    },
    {
     "name": "stderr",
     "output_type": "stream",
     "text": [
      "Extracting features:  89%|████████▊ | 383/432 [56:14<06:54,  8.46s/it]"
     ]
    },
    {
     "name": "stdout",
     "output_type": "stream",
     "text": [
      " gc: (166, 166)\n",
      " dcv: (166, 166)\n",
      "[136_S_4726] guardado en /home/diego/Escritorio/ALL_170/TensorData/CN_tensor_136_S_4726.pt\n",
      "[136_S_4727] ➔ columnas vacías detectadas y eliminadas: [34, 35, 80, 81]\n",
      "[136_S_4727] señal tras limpieza: T=140, N=166\n",
      " corr: (166, 166)\n",
      "    → T = 140 muestras; B = 11 bins para MI\n",
      " nmi: (166, 166)\n"
     ]
    },
    {
     "name": "stderr",
     "output_type": "stream",
     "text": [
      "Extracting features:  89%|████████▉ | 384/432 [56:22<06:42,  8.38s/it]"
     ]
    },
    {
     "name": "stdout",
     "output_type": "stream",
     "text": [
      " gc: (166, 166)\n",
      " dcv: (166, 166)\n",
      "[136_S_4727] guardado en /home/diego/Escritorio/ALL_170/TensorData/CN_tensor_136_S_4727.pt\n",
      "[136_S_4836] ➔ columnas vacías detectadas y eliminadas: [34, 35, 80, 81]\n",
      "[136_S_4836] señal tras limpieza: T=140, N=166\n",
      " corr: (166, 166)\n",
      "    → T = 140 muestras; B = 11 bins para MI\n",
      " nmi: (166, 166)\n"
     ]
    },
    {
     "name": "stderr",
     "output_type": "stream",
     "text": [
      "Extracting features:  89%|████████▉ | 385/432 [56:31<06:37,  8.45s/it]"
     ]
    },
    {
     "name": "stdout",
     "output_type": "stream",
     "text": [
      " gc: (166, 166)\n",
      " dcv: (166, 166)\n",
      "[136_S_4836] guardado en /home/diego/Escritorio/ALL_170/TensorData/Other_tensor_136_S_4836.pt\n",
      "[136_S_4848] ➔ columnas vacías detectadas y eliminadas: [34, 35, 80, 81]\n",
      "[136_S_4848] señal tras limpieza: T=140, N=166\n",
      " corr: (166, 166)\n",
      "    → T = 140 muestras; B = 11 bins para MI\n",
      " nmi: (166, 166)\n"
     ]
    },
    {
     "name": "stderr",
     "output_type": "stream",
     "text": [
      "Extracting features:  89%|████████▉ | 386/432 [56:39<06:26,  8.39s/it]"
     ]
    },
    {
     "name": "stdout",
     "output_type": "stream",
     "text": [
      " gc: (166, 166)\n",
      " dcv: (166, 166)\n",
      "[136_S_4848] guardado en /home/diego/Escritorio/ALL_170/TensorData/Other_tensor_136_S_4848.pt\n",
      "[136_S_4932] ➔ columnas vacías detectadas y eliminadas: [34, 35, 80, 81]\n",
      "[136_S_4932] señal tras limpieza: T=140, N=166\n",
      " corr: (166, 166)\n",
      "    → T = 140 muestras; B = 11 bins para MI\n",
      " nmi: (166, 166)\n"
     ]
    },
    {
     "name": "stderr",
     "output_type": "stream",
     "text": [
      "Extracting features:  90%|████████▉ | 387/432 [56:47<06:15,  8.35s/it]"
     ]
    },
    {
     "name": "stdout",
     "output_type": "stream",
     "text": [
      " gc: (166, 166)\n",
      " dcv: (166, 166)\n",
      "[136_S_4932] guardado en /home/diego/Escritorio/ALL_170/TensorData/Other_tensor_136_S_4932.pt\n",
      "[136_S_4956] ➔ columnas vacías detectadas y eliminadas: [34, 35, 80, 81]\n",
      "[136_S_4956] señal tras limpieza: T=140, N=166\n",
      " corr: (166, 166)\n",
      "    → T = 140 muestras; B = 11 bins para MI\n",
      " nmi: (166, 166)\n"
     ]
    },
    {
     "name": "stderr",
     "output_type": "stream",
     "text": [
      "Extracting features:  90%|████████▉ | 388/432 [56:56<06:05,  8.32s/it]"
     ]
    },
    {
     "name": "stdout",
     "output_type": "stream",
     "text": [
      " gc: (166, 166)\n",
      " dcv: (166, 166)\n",
      "[136_S_4956] guardado en /home/diego/Escritorio/ALL_170/TensorData/Other_tensor_136_S_4956.pt\n",
      "[136_S_4993] ➔ columnas vacías detectadas y eliminadas: [34, 35, 80, 81]\n",
      "[136_S_4993] señal tras limpieza: T=140, N=166\n",
      " corr: (166, 166)\n",
      "    → T = 140 muestras; B = 11 bins para MI\n",
      " nmi: (166, 166)\n"
     ]
    },
    {
     "name": "stderr",
     "output_type": "stream",
     "text": [
      "Extracting features:  90%|█████████ | 389/432 [57:04<05:58,  8.33s/it]"
     ]
    },
    {
     "name": "stdout",
     "output_type": "stream",
     "text": [
      " gc: (166, 166)\n",
      " dcv: (166, 166)\n",
      "[136_S_4993] guardado en /home/diego/Escritorio/ALL_170/TensorData/AD_tensor_136_S_4993.pt\n",
      "[141_S_2333] ➔ columnas vacías detectadas y eliminadas: [34, 35, 80, 81]\n",
      "[141_S_2333] señal tras limpieza: T=197, N=166\n",
      " corr: (166, 166)\n",
      "    → T = 197 muestras; B = 14 bins para MI\n",
      " nmi: (166, 166)\n"
     ]
    },
    {
     "name": "stderr",
     "output_type": "stream",
     "text": [
      "Extracting features:  90%|█████████ | 390/432 [57:13<06:01,  8.60s/it]"
     ]
    },
    {
     "name": "stdout",
     "output_type": "stream",
     "text": [
      " gc: (166, 166)\n",
      " dcv: (166, 166)\n",
      "[141_S_2333] guardado en /home/diego/Escritorio/ALL_170/TensorData/Other_tensor_141_S_2333.pt\n",
      "[141_S_4160] ➔ columnas vacías detectadas y eliminadas: [34, 35, 80, 81]\n",
      "[141_S_4160] señal tras limpieza: T=197, N=166\n",
      " corr: (166, 166)\n",
      "    → T = 197 muestras; B = 14 bins para MI\n",
      " nmi: (166, 166)\n"
     ]
    },
    {
     "name": "stderr",
     "output_type": "stream",
     "text": [
      "Extracting features:  91%|█████████ | 391/432 [57:22<05:58,  8.75s/it]"
     ]
    },
    {
     "name": "stdout",
     "output_type": "stream",
     "text": [
      " gc: (166, 166)\n",
      " dcv: (166, 166)\n",
      "[141_S_4160] guardado en /home/diego/Escritorio/ALL_170/TensorData/Other_tensor_141_S_4160.pt\n",
      "[168_S_6142] ➔ columnas vacías detectadas y eliminadas: [34, 35, 80, 81]\n",
      "[168_S_6142] señal tras limpieza: T=197, N=166\n",
      " corr: (166, 166)\n",
      "    → T = 197 muestras; B = 14 bins para MI\n",
      " nmi: (166, 166)\n"
     ]
    },
    {
     "name": "stderr",
     "output_type": "stream",
     "text": [
      "Extracting features:  91%|█████████ | 392/432 [57:32<05:54,  8.87s/it]"
     ]
    },
    {
     "name": "stdout",
     "output_type": "stream",
     "text": [
      " gc: (166, 166)\n",
      " dcv: (166, 166)\n",
      "[168_S_6142] guardado en /home/diego/Escritorio/ALL_170/TensorData/AD_tensor_168_S_6142.pt\n",
      "[168_S_6735] ➔ columnas vacías detectadas y eliminadas: [34, 35, 80, 81]\n",
      "[168_S_6735] señal tras limpieza: T=197, N=166\n",
      " corr: (166, 166)\n",
      "    → T = 197 muestras; B = 14 bins para MI\n",
      " nmi: (166, 166)\n"
     ]
    },
    {
     "name": "stderr",
     "output_type": "stream",
     "text": [
      "Extracting features:  91%|█████████ | 393/432 [57:41<05:52,  9.04s/it]"
     ]
    },
    {
     "name": "stdout",
     "output_type": "stream",
     "text": [
      " gc: (166, 166)\n",
      " dcv: (166, 166)\n",
      "[168_S_6735] guardado en /home/diego/Escritorio/ALL_170/TensorData/AD_tensor_168_S_6735.pt\n",
      "[168_S_6754] ➔ columnas vacías detectadas y eliminadas: [34, 35, 80, 81]\n",
      "[168_S_6754] señal tras limpieza: T=197, N=166\n",
      " corr: (166, 166)\n",
      "    → T = 197 muestras; B = 14 bins para MI\n",
      " nmi: (166, 166)\n"
     ]
    },
    {
     "name": "stderr",
     "output_type": "stream",
     "text": [
      "Extracting features:  91%|█████████ | 394/432 [57:50<05:43,  9.03s/it]"
     ]
    },
    {
     "name": "stdout",
     "output_type": "stream",
     "text": [
      " gc: (166, 166)\n",
      " dcv: (166, 166)\n",
      "[168_S_6754] guardado en /home/diego/Escritorio/ALL_170/TensorData/AD_tensor_168_S_6754.pt\n",
      "[168_S_6827] ➔ columnas vacías detectadas y eliminadas: [34, 35, 80, 81]\n",
      "[168_S_6827] señal tras limpieza: T=197, N=166\n",
      " corr: (166, 166)\n",
      "    → T = 197 muestras; B = 14 bins para MI\n",
      " nmi: (166, 166)\n"
     ]
    },
    {
     "name": "stderr",
     "output_type": "stream",
     "text": [
      "Extracting features:  91%|█████████▏| 395/432 [57:59<05:35,  9.06s/it]"
     ]
    },
    {
     "name": "stdout",
     "output_type": "stream",
     "text": [
      " gc: (166, 166)\n",
      " dcv: (166, 166)\n",
      "[168_S_6827] guardado en /home/diego/Escritorio/ALL_170/TensorData/AD_tensor_168_S_6827.pt\n",
      "[168_S_6828] ➔ columnas vacías detectadas y eliminadas: [34, 35, 80, 81]\n",
      "[168_S_6828] señal tras limpieza: T=197, N=166\n",
      " corr: (166, 166)\n",
      "    → T = 197 muestras; B = 14 bins para MI\n",
      " nmi: (166, 166)\n"
     ]
    },
    {
     "name": "stderr",
     "output_type": "stream",
     "text": [
      "Extracting features:  92%|█████████▏| 396/432 [58:08<05:26,  9.07s/it]"
     ]
    },
    {
     "name": "stdout",
     "output_type": "stream",
     "text": [
      " gc: (166, 166)\n",
      " dcv: (166, 166)\n",
      "[168_S_6828] guardado en /home/diego/Escritorio/ALL_170/TensorData/AD_tensor_168_S_6828.pt\n",
      "[168_S_6843] ➔ columnas vacías detectadas y eliminadas: [34, 35, 80, 81]\n",
      "[168_S_6843] señal tras limpieza: T=197, N=166\n",
      " corr: (166, 166)\n",
      "    → T = 197 muestras; B = 14 bins para MI\n",
      " nmi: (166, 166)\n"
     ]
    },
    {
     "name": "stderr",
     "output_type": "stream",
     "text": [
      "Extracting features:  92%|█████████▏| 397/432 [58:18<05:20,  9.16s/it]"
     ]
    },
    {
     "name": "stdout",
     "output_type": "stream",
     "text": [
      " gc: (166, 166)\n",
      " dcv: (166, 166)\n",
      "[168_S_6843] guardado en /home/diego/Escritorio/ALL_170/TensorData/AD_tensor_168_S_6843.pt\n",
      "[168_S_6921] ➔ columnas vacías detectadas y eliminadas: [34, 35, 80, 81]\n",
      "[168_S_6921] señal tras limpieza: T=197, N=166\n",
      " corr: (166, 166)\n",
      "    → T = 197 muestras; B = 14 bins para MI\n",
      " nmi: (166, 166)\n"
     ]
    },
    {
     "name": "stderr",
     "output_type": "stream",
     "text": [
      "Extracting features:  92%|█████████▏| 398/432 [58:27<05:09,  9.10s/it]"
     ]
    },
    {
     "name": "stdout",
     "output_type": "stream",
     "text": [
      " gc: (166, 166)\n",
      " dcv: (166, 166)\n",
      "[168_S_6921] guardado en /home/diego/Escritorio/ALL_170/TensorData/AD_tensor_168_S_6921.pt\n",
      "[168_S_6938] ➔ columnas vacías detectadas y eliminadas: [34, 35, 80, 81]\n",
      "[168_S_6938] señal tras limpieza: T=197, N=166\n",
      " corr: (166, 166)\n",
      "    → T = 197 muestras; B = 14 bins para MI\n",
      " nmi: (166, 166)\n"
     ]
    },
    {
     "name": "stderr",
     "output_type": "stream",
     "text": [
      "Extracting features:  92%|█████████▏| 399/432 [58:36<05:01,  9.14s/it]"
     ]
    },
    {
     "name": "stdout",
     "output_type": "stream",
     "text": [
      " gc: (166, 166)\n",
      " dcv: (166, 166)\n",
      "[168_S_6938] guardado en /home/diego/Escritorio/ALL_170/TensorData/AD_tensor_168_S_6938.pt\n",
      "[177_S_6328] ➔ columnas vacías detectadas y eliminadas: [34, 35, 80, 81]\n",
      "[177_S_6328] señal tras limpieza: T=197, N=166\n",
      " corr: (166, 166)\n",
      "    → T = 197 muestras; B = 14 bins para MI\n",
      " nmi: (166, 166)\n"
     ]
    },
    {
     "name": "stderr",
     "output_type": "stream",
     "text": [
      "Extracting features:  93%|█████████▎| 400/432 [58:45<04:55,  9.24s/it]"
     ]
    },
    {
     "name": "stdout",
     "output_type": "stream",
     "text": [
      " gc: (166, 166)\n",
      " dcv: (166, 166)\n",
      "[177_S_6328] guardado en /home/diego/Escritorio/ALL_170/TensorData/CN_tensor_177_S_6328.pt\n",
      "[177_S_6335] ➔ columnas vacías detectadas y eliminadas: [34, 35, 80, 81]\n",
      "[177_S_6335] señal tras limpieza: T=197, N=166\n",
      " corr: (166, 166)\n",
      "    → T = 197 muestras; B = 14 bins para MI\n",
      " nmi: (166, 166)\n"
     ]
    },
    {
     "name": "stderr",
     "output_type": "stream",
     "text": [
      "Extracting features:  93%|█████████▎| 401/432 [58:54<04:44,  9.17s/it]"
     ]
    },
    {
     "name": "stdout",
     "output_type": "stream",
     "text": [
      " gc: (166, 166)\n",
      " dcv: (166, 166)\n",
      "[177_S_6335] guardado en /home/diego/Escritorio/ALL_170/TensorData/CN_tensor_177_S_6335.pt\n",
      "[177_S_6408] ➔ columnas vacías detectadas y eliminadas: [34, 35, 80, 81]\n",
      "[177_S_6408] señal tras limpieza: T=197, N=166\n",
      " corr: (166, 166)\n",
      "    → T = 197 muestras; B = 14 bins para MI\n",
      " nmi: (166, 166)\n"
     ]
    },
    {
     "name": "stderr",
     "output_type": "stream",
     "text": [
      "Extracting features:  93%|█████████▎| 402/432 [59:03<04:34,  9.15s/it]"
     ]
    },
    {
     "name": "stdout",
     "output_type": "stream",
     "text": [
      " gc: (166, 166)\n",
      " dcv: (166, 166)\n",
      "[177_S_6408] guardado en /home/diego/Escritorio/ALL_170/TensorData/CN_tensor_177_S_6408.pt\n",
      "[177_S_6409] ➔ columnas vacías detectadas y eliminadas: [34, 35, 80, 81]\n",
      "[177_S_6409] señal tras limpieza: T=197, N=166\n",
      " corr: (166, 166)\n",
      "    → T = 197 muestras; B = 14 bins para MI\n",
      " nmi: (166, 166)\n",
      " gc: (166, 166)\n"
     ]
    },
    {
     "name": "stderr",
     "output_type": "stream",
     "text": [
      "Extracting features:  93%|█████████▎| 403/432 [59:13<04:25,  9.16s/it]"
     ]
    },
    {
     "name": "stdout",
     "output_type": "stream",
     "text": [
      " dcv: (166, 166)\n",
      "[177_S_6409] guardado en /home/diego/Escritorio/ALL_170/TensorData/CN_tensor_177_S_6409.pt\n",
      "[177_S_6420] ➔ columnas vacías detectadas y eliminadas: [34, 35, 80, 81]\n",
      "[177_S_6420] señal tras limpieza: T=197, N=166\n",
      " corr: (166, 166)\n",
      "    → T = 197 muestras; B = 14 bins para MI\n",
      " nmi: (166, 166)\n"
     ]
    },
    {
     "name": "stderr",
     "output_type": "stream",
     "text": [
      "Extracting features:  94%|█████████▎| 404/432 [59:22<04:16,  9.15s/it]"
     ]
    },
    {
     "name": "stdout",
     "output_type": "stream",
     "text": [
      " gc: (166, 166)\n",
      " dcv: (166, 166)\n",
      "[177_S_6420] guardado en /home/diego/Escritorio/ALL_170/TensorData/CN_tensor_177_S_6420.pt\n",
      "[177_S_6448] ➔ columnas vacías detectadas y eliminadas: [34, 35, 80, 81]\n",
      "[177_S_6448] señal tras limpieza: T=197, N=166\n",
      " corr: (166, 166)\n",
      "    → T = 197 muestras; B = 14 bins para MI\n",
      " nmi: (166, 166)\n"
     ]
    },
    {
     "name": "stderr",
     "output_type": "stream",
     "text": [
      "Extracting features:  94%|█████████▍| 405/432 [59:31<04:06,  9.12s/it]"
     ]
    },
    {
     "name": "stdout",
     "output_type": "stream",
     "text": [
      " gc: (166, 166)\n",
      " dcv: (166, 166)\n",
      "[177_S_6448] guardado en /home/diego/Escritorio/ALL_170/TensorData/CN_tensor_177_S_6448.pt\n",
      "[301_S_6056] ➔ columnas vacías detectadas y eliminadas: [34, 35, 80, 81]\n",
      "[301_S_6056] señal tras limpieza: T=197, N=166\n",
      " corr: (166, 166)\n",
      "    → T = 197 muestras; B = 14 bins para MI\n",
      " nmi: (166, 166)\n"
     ]
    },
    {
     "name": "stderr",
     "output_type": "stream",
     "text": [
      "Extracting features:  94%|█████████▍| 406/432 [59:40<03:58,  9.17s/it]"
     ]
    },
    {
     "name": "stdout",
     "output_type": "stream",
     "text": [
      " gc: (166, 166)\n",
      " dcv: (166, 166)\n",
      "[301_S_6056] guardado en /home/diego/Escritorio/ALL_170/TensorData/Other_tensor_301_S_6056.pt\n",
      "[301_S_6224] ➔ columnas vacías detectadas y eliminadas: [34, 35, 80, 81]\n",
      "[301_S_6224] señal tras limpieza: T=197, N=166\n",
      " corr: (166, 166)\n",
      "    → T = 197 muestras; B = 14 bins para MI\n",
      " nmi: (166, 166)\n"
     ]
    },
    {
     "name": "stderr",
     "output_type": "stream",
     "text": [
      "Extracting features:  94%|█████████▍| 407/432 [59:50<03:55,  9.40s/it]"
     ]
    },
    {
     "name": "stdout",
     "output_type": "stream",
     "text": [
      " gc: (166, 166)\n",
      " dcv: (166, 166)\n",
      "[301_S_6224] guardado en /home/diego/Escritorio/ALL_170/TensorData/CN_tensor_301_S_6224.pt\n",
      "[301_S_6297] ➔ columnas vacías detectadas y eliminadas: [34, 35, 80, 81]\n",
      "[301_S_6297] señal tras limpieza: T=197, N=166\n",
      " corr: (166, 166)\n",
      "    → T = 197 muestras; B = 14 bins para MI\n",
      " nmi: (166, 166)\n"
     ]
    },
    {
     "name": "stderr",
     "output_type": "stream",
     "text": [
      "Extracting features:  94%|█████████▍| 408/432 [59:59<03:46,  9.44s/it]"
     ]
    },
    {
     "name": "stdout",
     "output_type": "stream",
     "text": [
      " gc: (166, 166)\n",
      " dcv: (166, 166)\n",
      "[301_S_6297] guardado en /home/diego/Escritorio/ALL_170/TensorData/Other_tensor_301_S_6297.pt\n",
      "[301_S_6326] ➔ columnas vacías detectadas y eliminadas: [34, 35, 80, 81]\n",
      "[301_S_6326] señal tras limpieza: T=197, N=166\n",
      " corr: (166, 166)\n",
      "    → T = 197 muestras; B = 14 bins para MI\n",
      " nmi: (166, 166)\n"
     ]
    },
    {
     "name": "stderr",
     "output_type": "stream",
     "text": [
      "Extracting features:  95%|█████████▍| 409/432 [1:00:09<03:35,  9.36s/it]"
     ]
    },
    {
     "name": "stdout",
     "output_type": "stream",
     "text": [
      " gc: (166, 166)\n",
      " dcv: (166, 166)\n",
      "[301_S_6326] guardado en /home/diego/Escritorio/ALL_170/TensorData/CN_tensor_301_S_6326.pt\n",
      "[301_S_6501] ➔ columnas vacías detectadas y eliminadas: [34, 35, 80, 81]\n",
      "[301_S_6501] señal tras limpieza: T=197, N=166\n",
      " corr: (166, 166)\n",
      "    → T = 197 muestras; B = 14 bins para MI\n",
      " nmi: (166, 166)\n"
     ]
    },
    {
     "name": "stderr",
     "output_type": "stream",
     "text": [
      "Extracting features:  95%|█████████▍| 410/432 [1:00:18<03:24,  9.31s/it]"
     ]
    },
    {
     "name": "stdout",
     "output_type": "stream",
     "text": [
      " gc: (166, 166)\n",
      " dcv: (166, 166)\n",
      "[301_S_6501] guardado en /home/diego/Escritorio/ALL_170/TensorData/CN_tensor_301_S_6501.pt\n",
      "[301_S_6508] ➔ columnas vacías detectadas y eliminadas: [34, 35, 80, 81]\n",
      "[301_S_6508] señal tras limpieza: T=197, N=166\n",
      " corr: (166, 166)\n",
      "    → T = 197 muestras; B = 14 bins para MI\n",
      " nmi: (166, 166)\n"
     ]
    },
    {
     "name": "stderr",
     "output_type": "stream",
     "text": [
      "Extracting features:  95%|█████████▌| 411/432 [1:00:27<03:14,  9.25s/it]"
     ]
    },
    {
     "name": "stdout",
     "output_type": "stream",
     "text": [
      " gc: (166, 166)\n",
      " dcv: (166, 166)\n",
      "[301_S_6508] guardado en /home/diego/Escritorio/ALL_170/TensorData/Other_tensor_301_S_6508.pt\n",
      "[301_S_6592] ➔ columnas vacías detectadas y eliminadas: [34, 35, 80, 81]\n",
      "[301_S_6592] señal tras limpieza: T=197, N=166\n",
      " corr: (166, 166)\n",
      "    → T = 197 muestras; B = 14 bins para MI\n",
      " nmi: (166, 166)\n"
     ]
    },
    {
     "name": "stderr",
     "output_type": "stream",
     "text": [
      "Extracting features:  95%|█████████▌| 412/432 [1:00:36<03:03,  9.19s/it]"
     ]
    },
    {
     "name": "stdout",
     "output_type": "stream",
     "text": [
      " gc: (166, 166)\n",
      " dcv: (166, 166)\n",
      "[301_S_6592] guardado en /home/diego/Escritorio/ALL_170/TensorData/AD_tensor_301_S_6592.pt\n",
      "[301_S_6615] ➔ columnas vacías detectadas y eliminadas: [34, 35, 80, 81]\n",
      "[301_S_6615] señal tras limpieza: T=197, N=166\n",
      " corr: (166, 166)\n",
      "    → T = 197 muestras; B = 14 bins para MI\n",
      " nmi: (166, 166)\n"
     ]
    },
    {
     "name": "stderr",
     "output_type": "stream",
     "text": [
      "Extracting features:  96%|█████████▌| 413/432 [1:00:45<02:54,  9.17s/it]"
     ]
    },
    {
     "name": "stdout",
     "output_type": "stream",
     "text": [
      " gc: (166, 166)\n",
      " dcv: (166, 166)\n",
      "[301_S_6615] guardado en /home/diego/Escritorio/ALL_170/TensorData/Other_tensor_301_S_6615.pt\n",
      "[301_S_6698] ➔ columnas vacías detectadas y eliminadas: [34, 35, 80, 81]\n",
      "[301_S_6698] señal tras limpieza: T=197, N=166\n",
      " corr: (166, 166)\n",
      "    → T = 197 muestras; B = 14 bins para MI\n",
      " nmi: (166, 166)\n"
     ]
    },
    {
     "name": "stderr",
     "output_type": "stream",
     "text": [
      "Extracting features:  96%|█████████▌| 414/432 [1:00:54<02:44,  9.15s/it]"
     ]
    },
    {
     "name": "stdout",
     "output_type": "stream",
     "text": [
      " gc: (166, 166)\n",
      " dcv: (166, 166)\n",
      "[301_S_6698] guardado en /home/diego/Escritorio/ALL_170/TensorData/Other_tensor_301_S_6698.pt\n",
      "[301_S_6777] ➔ columnas vacías detectadas y eliminadas: [34, 35, 80, 81]\n",
      "[301_S_6777] señal tras limpieza: T=197, N=166\n",
      " corr: (166, 166)\n",
      "    → T = 197 muestras; B = 14 bins para MI\n",
      " nmi: (166, 166)\n"
     ]
    },
    {
     "name": "stderr",
     "output_type": "stream",
     "text": [
      "Extracting features:  96%|█████████▌| 415/432 [1:01:03<02:35,  9.12s/it]"
     ]
    },
    {
     "name": "stdout",
     "output_type": "stream",
     "text": [
      " gc: (166, 166)\n",
      " dcv: (166, 166)\n",
      "[301_S_6777] guardado en /home/diego/Escritorio/ALL_170/TensorData/Other_tensor_301_S_6777.pt\n",
      "[301_S_6811] ➔ columnas vacías detectadas y eliminadas: [34, 35, 80, 81]\n",
      "[301_S_6811] señal tras limpieza: T=197, N=166\n",
      " corr: (166, 166)\n",
      "    → T = 197 muestras; B = 14 bins para MI\n",
      " nmi: (166, 166)\n"
     ]
    },
    {
     "name": "stderr",
     "output_type": "stream",
     "text": [
      "Extracting features:  96%|█████████▋| 416/432 [1:01:12<02:25,  9.10s/it]"
     ]
    },
    {
     "name": "stdout",
     "output_type": "stream",
     "text": [
      " gc: (166, 166)\n",
      " dcv: (166, 166)\n",
      "[301_S_6811] guardado en /home/diego/Escritorio/ALL_170/TensorData/Other_tensor_301_S_6811.pt\n",
      "[305_S_6157] ➔ columnas vacías detectadas y eliminadas: [34, 35, 80, 81]\n",
      "[305_S_6157] señal tras limpieza: T=197, N=166\n",
      " corr: (166, 166)\n",
      "    → T = 197 muestras; B = 14 bins para MI\n",
      " nmi: (166, 166)\n"
     ]
    },
    {
     "name": "stderr",
     "output_type": "stream",
     "text": [
      "Extracting features:  97%|█████████▋| 417/432 [1:01:22<02:17,  9.13s/it]"
     ]
    },
    {
     "name": "stdout",
     "output_type": "stream",
     "text": [
      " gc: (166, 166)\n",
      " dcv: (166, 166)\n",
      "[305_S_6157] guardado en /home/diego/Escritorio/ALL_170/TensorData/CN_tensor_305_S_6157.pt\n",
      "[305_S_6188] ➔ columnas vacías detectadas y eliminadas: [34, 35, 80, 81]\n",
      "[305_S_6188] señal tras limpieza: T=197, N=166\n",
      " corr: (166, 166)\n",
      "    → T = 197 muestras; B = 14 bins para MI\n",
      " nmi: (166, 166)\n"
     ]
    },
    {
     "name": "stderr",
     "output_type": "stream",
     "text": [
      "Extracting features:  97%|█████████▋| 418/432 [1:01:31<02:09,  9.22s/it]"
     ]
    },
    {
     "name": "stdout",
     "output_type": "stream",
     "text": [
      " gc: (166, 166)\n",
      " dcv: (166, 166)\n",
      "[305_S_6188] guardado en /home/diego/Escritorio/ALL_170/TensorData/CN_tensor_305_S_6188.pt\n",
      "[305_S_6313] ➔ columnas vacías detectadas y eliminadas: [34, 35, 80, 81]\n",
      "[305_S_6313] señal tras limpieza: T=197, N=166\n",
      " corr: (166, 166)\n",
      "    → T = 197 muestras; B = 14 bins para MI\n",
      " nmi: (166, 166)\n"
     ]
    },
    {
     "name": "stderr",
     "output_type": "stream",
     "text": [
      "Extracting features:  97%|█████████▋| 419/432 [1:01:40<01:58,  9.15s/it]"
     ]
    },
    {
     "name": "stdout",
     "output_type": "stream",
     "text": [
      " gc: (166, 166)\n",
      " dcv: (166, 166)\n",
      "[305_S_6313] guardado en /home/diego/Escritorio/ALL_170/TensorData/CN_tensor_305_S_6313.pt\n",
      "[305_S_6438] ➔ columnas vacías detectadas y eliminadas: [34, 35, 80, 81]\n",
      "[305_S_6438] señal tras limpieza: T=197, N=166\n",
      " corr: (166, 166)\n",
      "    → T = 197 muestras; B = 14 bins para MI\n",
      " nmi: (166, 166)\n"
     ]
    },
    {
     "name": "stderr",
     "output_type": "stream",
     "text": [
      "Extracting features:  97%|█████████▋| 420/432 [1:01:49<01:49,  9.10s/it]"
     ]
    },
    {
     "name": "stdout",
     "output_type": "stream",
     "text": [
      " gc: (166, 166)\n",
      " dcv: (166, 166)\n",
      "[305_S_6438] guardado en /home/diego/Escritorio/ALL_170/TensorData/CN_tensor_305_S_6438.pt\n",
      "[305_S_6498] ➔ columnas vacías detectadas y eliminadas: [34, 35, 80, 81]\n",
      "[305_S_6498] señal tras limpieza: T=197, N=166\n",
      " corr: (166, 166)\n",
      "    → T = 197 muestras; B = 14 bins para MI\n",
      " nmi: (166, 166)\n",
      " gc: (166, 166)\n"
     ]
    },
    {
     "name": "stderr",
     "output_type": "stream",
     "text": [
      "Extracting features:  97%|█████████▋| 421/432 [1:01:58<01:41,  9.19s/it]"
     ]
    },
    {
     "name": "stdout",
     "output_type": "stream",
     "text": [
      " dcv: (166, 166)\n",
      "[305_S_6498] guardado en /home/diego/Escritorio/ALL_170/TensorData/Other_tensor_305_S_6498.pt\n",
      "[305_S_6742] ➔ columnas vacías detectadas y eliminadas: [34, 35, 80, 81]\n",
      "[305_S_6742] señal tras limpieza: T=197, N=166\n",
      " corr: (166, 166)\n",
      "    → T = 197 muestras; B = 14 bins para MI\n",
      " nmi: (166, 166)\n"
     ]
    },
    {
     "name": "stderr",
     "output_type": "stream",
     "text": [
      "Extracting features:  98%|█████████▊| 422/432 [1:02:07<01:31,  9.13s/it]"
     ]
    },
    {
     "name": "stdout",
     "output_type": "stream",
     "text": [
      " gc: (166, 166)\n",
      " dcv: (166, 166)\n",
      "[305_S_6742] guardado en /home/diego/Escritorio/ALL_170/TensorData/Other_tensor_305_S_6742.pt\n",
      "[305_S_6744] ➔ columnas vacías detectadas y eliminadas: [34, 35, 80, 81]\n",
      "[305_S_6744] señal tras limpieza: T=197, N=166\n",
      " corr: (166, 166)\n",
      "    → T = 197 muestras; B = 14 bins para MI\n",
      " nmi: (166, 166)\n"
     ]
    },
    {
     "name": "stderr",
     "output_type": "stream",
     "text": [
      "Extracting features:  98%|█████████▊| 423/432 [1:02:16<01:21,  9.06s/it]"
     ]
    },
    {
     "name": "stdout",
     "output_type": "stream",
     "text": [
      " gc: (166, 166)\n",
      " dcv: (166, 166)\n",
      "[305_S_6744] guardado en /home/diego/Escritorio/ALL_170/TensorData/Other_tensor_305_S_6744.pt\n",
      "[305_S_6810] ➔ columnas vacías detectadas y eliminadas: [34, 35, 80, 81]\n",
      "[305_S_6810] señal tras limpieza: T=197, N=166\n",
      " corr: (166, 166)\n",
      "    → T = 197 muestras; B = 14 bins para MI\n",
      " nmi: (166, 166)\n"
     ]
    },
    {
     "name": "stderr",
     "output_type": "stream",
     "text": [
      "Extracting features:  98%|█████████▊| 424/432 [1:02:25<01:12,  9.08s/it]"
     ]
    },
    {
     "name": "stdout",
     "output_type": "stream",
     "text": [
      " gc: (166, 166)\n",
      " dcv: (166, 166)\n",
      "[305_S_6810] guardado en /home/diego/Escritorio/ALL_170/TensorData/AD_tensor_305_S_6810.pt\n",
      "[305_S_6845] ➔ columnas vacías detectadas y eliminadas: [34, 35, 80, 81]\n",
      "[305_S_6845] señal tras limpieza: T=197, N=166\n",
      " corr: (166, 166)\n",
      "    → T = 197 muestras; B = 14 bins para MI\n",
      " nmi: (166, 166)\n"
     ]
    },
    {
     "name": "stderr",
     "output_type": "stream",
     "text": [
      "Extracting features:  98%|█████████▊| 425/432 [1:02:34<01:03,  9.04s/it]"
     ]
    },
    {
     "name": "stdout",
     "output_type": "stream",
     "text": [
      " gc: (166, 166)\n",
      " dcv: (166, 166)\n",
      "[305_S_6845] guardado en /home/diego/Escritorio/ALL_170/TensorData/Other_tensor_305_S_6845.pt\n",
      "[305_S_6850] ➔ columnas vacías detectadas y eliminadas: [34, 35, 80, 81]\n",
      "[305_S_6850] señal tras limpieza: T=197, N=166\n",
      " corr: (166, 166)\n",
      "    → T = 197 muestras; B = 14 bins para MI\n",
      " nmi: (166, 166)\n"
     ]
    },
    {
     "name": "stderr",
     "output_type": "stream",
     "text": [
      "Extracting features:  99%|█████████▊| 426/432 [1:02:43<00:53,  9.00s/it]"
     ]
    },
    {
     "name": "stdout",
     "output_type": "stream",
     "text": [
      " gc: (166, 166)\n",
      " dcv: (166, 166)\n",
      "[305_S_6850] guardado en /home/diego/Escritorio/ALL_170/TensorData/AD_tensor_305_S_6850.pt\n",
      "[305_S_6871] ➔ columnas vacías detectadas y eliminadas: [34, 35, 80, 81]\n",
      "[305_S_6871] señal tras limpieza: T=197, N=166\n",
      " corr: (166, 166)\n",
      "    → T = 197 muestras; B = 14 bins para MI\n",
      " nmi: (166, 166)\n"
     ]
    },
    {
     "name": "stderr",
     "output_type": "stream",
     "text": [
      "Extracting features:  99%|█████████▉| 427/432 [1:02:52<00:45,  9.05s/it]"
     ]
    },
    {
     "name": "stdout",
     "output_type": "stream",
     "text": [
      " gc: (166, 166)\n",
      " dcv: (166, 166)\n",
      "[305_S_6871] guardado en /home/diego/Escritorio/ALL_170/TensorData/Other_tensor_305_S_6871.pt\n",
      "[305_S_6877] ➔ columnas vacías detectadas y eliminadas: [34, 35, 80, 81]\n",
      "[305_S_6877] señal tras limpieza: T=197, N=166\n",
      " corr: (166, 166)\n",
      "    → T = 197 muestras; B = 14 bins para MI\n",
      " nmi: (166, 166)\n"
     ]
    },
    {
     "name": "stderr",
     "output_type": "stream",
     "text": [
      "Extracting features:  99%|█████████▉| 428/432 [1:03:01<00:36,  9.05s/it]"
     ]
    },
    {
     "name": "stdout",
     "output_type": "stream",
     "text": [
      " gc: (166, 166)\n",
      " dcv: (166, 166)\n",
      "[305_S_6877] guardado en /home/diego/Escritorio/ALL_170/TensorData/Other_tensor_305_S_6877.pt\n",
      "[305_S_6881] ➔ columnas vacías detectadas y eliminadas: [34, 35, 80, 81]\n",
      "[305_S_6881] señal tras limpieza: T=197, N=166\n",
      " corr: (166, 166)\n",
      "    → T = 197 muestras; B = 14 bins para MI\n",
      " nmi: (166, 166)\n",
      " gc: (166, 166)\n"
     ]
    },
    {
     "name": "stderr",
     "output_type": "stream",
     "text": [
      "Extracting features:  99%|█████████▉| 429/432 [1:03:11<00:27,  9.11s/it]"
     ]
    },
    {
     "name": "stdout",
     "output_type": "stream",
     "text": [
      " dcv: (166, 166)\n",
      "[305_S_6881] guardado en /home/diego/Escritorio/ALL_170/TensorData/AD_tensor_305_S_6881.pt\n",
      "[305_S_6899] ➔ columnas vacías detectadas y eliminadas: [34, 35, 80, 81]\n",
      "[305_S_6899] señal tras limpieza: T=197, N=166\n",
      " corr: (166, 166)\n",
      "    → T = 197 muestras; B = 14 bins para MI\n",
      " nmi: (166, 166)\n"
     ]
    },
    {
     "name": "stderr",
     "output_type": "stream",
     "text": [
      "Extracting features: 100%|█████████▉| 430/432 [1:03:20<00:18,  9.11s/it]"
     ]
    },
    {
     "name": "stdout",
     "output_type": "stream",
     "text": [
      " gc: (166, 166)\n",
      " dcv: (166, 166)\n",
      "[305_S_6899] guardado en /home/diego/Escritorio/ALL_170/TensorData/Other_tensor_305_S_6899.pt\n",
      "[941_S_4036] ➔ columnas vacías detectadas y eliminadas: [34, 35, 80, 81]\n",
      "[941_S_4036] señal tras limpieza: T=197, N=166\n",
      " corr: (166, 166)\n",
      "    → T = 197 muestras; B = 14 bins para MI\n",
      " nmi: (166, 166)\n"
     ]
    },
    {
     "name": "stderr",
     "output_type": "stream",
     "text": [
      "Extracting features: 100%|█████████▉| 431/432 [1:03:29<00:09,  9.12s/it]"
     ]
    },
    {
     "name": "stdout",
     "output_type": "stream",
     "text": [
      " gc: (166, 166)\n",
      " dcv: (166, 166)\n",
      "[941_S_4036] guardado en /home/diego/Escritorio/ALL_170/TensorData/Other_tensor_941_S_4036.pt\n",
      "[941_S_4187] ➔ columnas vacías detectadas y eliminadas: [34, 35, 80, 81]\n",
      "[941_S_4187] señal tras limpieza: T=197, N=166\n",
      " corr: (166, 166)\n",
      "    → T = 197 muestras; B = 14 bins para MI\n",
      " nmi: (166, 166)\n"
     ]
    },
    {
     "name": "stderr",
     "output_type": "stream",
     "text": [
      "Extracting features: 100%|██████████| 432/432 [1:03:38<00:00,  8.84s/it]"
     ]
    },
    {
     "name": "stdout",
     "output_type": "stream",
     "text": [
      " gc: (166, 166)\n",
      " dcv: (166, 166)\n",
      "[941_S_4187] guardado en /home/diego/Escritorio/ALL_170/TensorData/Other_tensor_941_S_4187.pt\n"
     ]
    },
    {
     "name": "stderr",
     "output_type": "stream",
     "text": [
      "\n"
     ]
    }
   ],
   "source": [
    "#!/usr/bin/env python3\n",
    "# -*- coding: utf-8 -*-\n",
    "\"\"\"\n",
    "feature_extraction.py\n",
    "\n",
    "Pipeline de extracción de cuatro métricas de conectividad a partir\n",
    "de señales de ROIs AAL3, con adaptación para:\n",
    "  - eliminación automática de ROIs vacías\n",
    "  - corrección en la discretización de NMI para evitar índices fuera de rango\n",
    "\"\"\"\n",
    "\n",
    "import os\n",
    "import logging\n",
    "import numpy as np\n",
    "import pandas as pd\n",
    "import torch\n",
    "import scipy.io as sio\n",
    "\n",
    "from scipy.stats import zscore\n",
    "from statsmodels.tsa.stattools import grangercausalitytests\n",
    "from concurrent.futures import ProcessPoolExecutor, as_completed\n",
    "from tqdm import tqdm\n",
    "\n",
    "# -------------------------------------------------------------------\n",
    "# CONFIGURATION & PATHS\n",
    "# -------------------------------------------------------------------\n",
    "base_dir      = \"/home/diego/Escritorio/ALL_170\"\n",
    "csv_path      = os.path.join(base_dir, \"SubjectsDataAndTests.csv\")\n",
    "roi_dir       = os.path.join(base_dir, \"ROISignals\")\n",
    "output_dir    = os.path.join(base_dir, \"TensorData\")\n",
    "os.makedirs(output_dir, exist_ok=True)\n",
    "\n",
    "# Sliding window for DCV (segundos)\n",
    "dcv_window_sec = 60\n",
    "dcv_step_sec   = 3\n",
    "sampling_rate  = 1/3.0  # Hz (TR de 3s)\n",
    "\n",
    "logging.basicConfig(\n",
    "    filename='feature_extraction.log',\n",
    "    level=logging.INFO,\n",
    "    format='%(asctime)s - %(levelname)s - %(message)s'\n",
    ")\n",
    "\n",
    "df = pd.read_csv(csv_path)\n",
    "subject_ids = df[\"SubjectID\"].astype(str).tolist()\n",
    "\n",
    "# -------------------------------------------------------------------\n",
    "# UTILITIES\n",
    "# -------------------------------------------------------------------\n",
    "def _safe_div(a, b, eps=1e-8):\n",
    "    return a / (b + eps)\n",
    "\n",
    "# -------------------------------------------------------------------\n",
    "# 1) CORRELATION with Fisher z\n",
    "# -------------------------------------------------------------------\n",
    "def compute_correlation_matrix(signals: np.ndarray) -> np.ndarray:\n",
    "    z    = zscore(signals, axis=0, nan_policy='omit')\n",
    "    corr = np.corrcoef(z, rowvar=False)\n",
    "    corr = np.clip(corr, -0.999999, 0.999999)\n",
    "    return 0.5 * np.log((1 + corr) / (1 - corr))\n",
    "\n",
    "# -------------------------------------------------------------------\n",
    "# 2) NORMALISED MUTUAL INFORMATION\n",
    "# -------------------------------------------------------------------\n",
    "def compute_nmi_matrix(signals: np.ndarray, num_bins: int = None) -> np.ndarray:\n",
    "    T, N = signals.shape\n",
    "    if num_bins is None:\n",
    "        num_bins = int(np.clip(np.sqrt(T), 8, 16))\n",
    "    print(f\"    → T = {T} muestras; B = {num_bins} bins para MI\")\n",
    "    logging.info(f\"compute_nmi: T={T}, bins={num_bins}\")\n",
    "\n",
    "    # percentiles por canal\n",
    "    edges = np.percentile(signals, np.linspace(0, 100, num_bins + 1), axis=0).T  # (N, bins+1)\n",
    "    disc = np.zeros((T, N), dtype=int)\n",
    "    for i in range(N):\n",
    "        # descartamos el límite mínimo y máximo\n",
    "        bin_edges = edges[i][1:-1]\n",
    "        # discretización en [0..num_bins-1]\n",
    "        disc[:, i] = np.digitize(signals[:, i], bin_edges)\n",
    "\n",
    "    # entropías marginales (añadimos pseudocuenta +1)\n",
    "    ent = np.zeros(N)\n",
    "    bias = (num_bins - 1) / (2 * T)\n",
    "    for i in range(N):\n",
    "        counts = np.bincount(disc[:, i], minlength=num_bins) + 1\n",
    "        p = counts / counts.sum()\n",
    "        H_emp = -np.sum(p * np.log(p))\n",
    "        ent[i] = max(H_emp - bias, 0.0)\n",
    "\n",
    "    # MI conjunta\n",
    "    mi = np.zeros((N, N))\n",
    "    bias_xy = (num_bins**2 - 1) / (2 * T)\n",
    "    for i in range(N):\n",
    "        for j in range(i+1, N):\n",
    "            joint = np.ones((num_bins, num_bins), dtype=float)\n",
    "            for t in range(T):\n",
    "                joint[disc[t, i], disc[t, j]] += 1\n",
    "            pxy = joint / joint.sum()\n",
    "            Hxy = -np.sum(pxy * np.log(pxy))\n",
    "            Iij = ent[i] + ent[j] - max(Hxy - bias_xy, 0.0)\n",
    "            mi[i, j] = mi[j, i] = Iij\n",
    "\n",
    "    denom = np.sqrt(np.outer(ent, ent)) + 1e-12\n",
    "    return np.clip(mi / denom, 0.0, 1.0)\n",
    "\n",
    "# -------------------------------------------------------------------\n",
    "# 3) GRANGER CAUSALITY (parallel)\n",
    "# -------------------------------------------------------------------\n",
    "def _granger_worker(signals, i, j, max_lag):\n",
    "    if i == j:\n",
    "        return i, j, 0.0\n",
    "    try:\n",
    "        res = grangercausalitytests(signals[:, [i, j]], maxlag=max_lag, verbose=False)\n",
    "        p   = res[max_lag][0]['ssr_ftest'][1]\n",
    "        return i, j, -np.log(p) if p > 0 else 0.0\n",
    "    except Exception as e:\n",
    "        logging.error(f\"GC error {i},{j}: {e}\")\n",
    "        return i, j, 0.0\n",
    "\n",
    "def compute_gc_matrix(signals: np.ndarray, max_lag=1, n_workers=8) -> np.ndarray:\n",
    "    N  = signals.shape[1]\n",
    "    gc = np.zeros((N, N))\n",
    "    args = ((signals, i, j, max_lag) for i in range(N) for j in range(N))\n",
    "    with ProcessPoolExecutor(max_workers=n_workers) as exe:\n",
    "        futures = [exe.submit(_granger_worker, *arg) for arg in args]\n",
    "        for f in as_completed(futures):\n",
    "            i, j, val = f.result()\n",
    "            gc[i, j] = val\n",
    "    return gc\n",
    "\n",
    "# -------------------------------------------------------------------\n",
    "# 4) DYNAMIC CONNECTIVITY VARIANCE (DCV)\n",
    "# -------------------------------------------------------------------\n",
    "def compute_dcv_matrix(signals: np.ndarray, window_sec, step_sec, sr) -> np.ndarray:\n",
    "    T, N = signals.shape\n",
    "    w    = int(window_sec * sr)\n",
    "    s    = int(step_sec * sr)\n",
    "    if w < 2:\n",
    "        raise ValueError(\"Ventana DCV demasiado pequeña\")\n",
    "    mats = []\n",
    "    for start in range(0, T - w + 1, s):\n",
    "        seg = signals[start:start+w, :]\n",
    "        mats.append(compute_correlation_matrix(seg))\n",
    "    var = np.var(np.stack(mats, axis=2), axis=2)\n",
    "    return np.sqrt(var)\n",
    "\n",
    "# -------------------------------------------------------------------\n",
    "# 5) PROCESS SINGLE SUBJECT\n",
    "# -------------------------------------------------------------------\n",
    "def process_subject(subject_id: str):\n",
    "    mat_file = os.path.join(roi_dir, f\"ROISignals_{subject_id}.mat\")\n",
    "    data     = sio.loadmat(mat_file)\n",
    "    sig      = data.get('ROISignals', data.get('signals', None))\n",
    "    if sig is None:\n",
    "        raise KeyError(f\"No signals in {subject_id}\")\n",
    "\n",
    "    # 1) Detectar y eliminar ROIs vacías (todo NaN o todo 0)\n",
    "    nan_mask  = np.isnan(sig).all(axis=0)\n",
    "    zero_mask =    (sig == 0.0).all(axis=0)\n",
    "    bad_cols  = np.where(nan_mask | zero_mask)[0].tolist()\n",
    "    if bad_cols:\n",
    "        print(f\"[{subject_id}] ➔ columnas vacías detectadas y eliminadas: {bad_cols}\")\n",
    "        logging.info(f\"{subject_id}: empty ROIs removed {bad_cols}\")\n",
    "        sig = np.delete(sig, bad_cols, axis=1)\n",
    "    else:\n",
    "        print(f\"[{subject_id}] ➔ no se detectaron columnas vacías.\")\n",
    "\n",
    "    # 2) Sustituir NaN/Inf residuales\n",
    "    sig = np.nan_to_num(sig, nan=0.0, posinf=0.0, neginf=0.0)\n",
    "    T, N = sig.shape\n",
    "    print(f\"[{subject_id}] señal tras limpieza: T={T}, N={N}\")\n",
    "    logging.info(f\"{subject_id}: signals shape after clean {sig.shape}\")\n",
    "\n",
    "    # Cálculo de métricas\n",
    "    try:\n",
    "        corr = compute_correlation_matrix(sig)\n",
    "        print(f\" corr: {corr.shape}\")\n",
    "    except Exception as e:\n",
    "        print(f\" ⚠️ Error en CORR: {e}\")\n",
    "        corr = np.zeros((N, N))\n",
    "\n",
    "    try:\n",
    "        mi = compute_nmi_matrix(sig)\n",
    "        print(f\" nmi: {mi.shape}\")\n",
    "    except Exception as e:\n",
    "        print(f\" ⚠️ Error en NMI: {e}\")\n",
    "        mi = np.zeros((N, N))\n",
    "\n",
    "    try:\n",
    "        gc = compute_gc_matrix(sig)\n",
    "        print(f\" gc: {gc.shape}\")\n",
    "    except Exception as e:\n",
    "        print(f\" ⚠️ Error en GC:  {e}\")\n",
    "        gc = np.zeros((N, N))\n",
    "\n",
    "    try:\n",
    "        dcv = compute_dcv_matrix(sig, dcv_window_sec, dcv_step_sec, sampling_rate)\n",
    "        print(f\" dcv: {dcv.shape}\")\n",
    "    except Exception as e:\n",
    "        print(f\" ⚠️ Error en DCV: {e}\")\n",
    "        dcv = np.zeros((N, N))\n",
    "\n",
    "    # Apilar y poner diagonal a 0\n",
    "    tensor_np = np.stack([corr, mi, gc, dcv], axis=0)\n",
    "    for c in range(4):\n",
    "        np.fill_diagonal(tensor_np[c], 0.0)\n",
    "\n",
    "    # Guardado\n",
    "    grp  = df.loc[df['SubjectID'].astype(str)==subject_id, 'ResearchGroup'].values[0]\n",
    "    grp  = grp if grp in ['AD','CN'] else 'Other'\n",
    "    path = os.path.join(output_dir, f\"{grp}_tensor_{subject_id}.pt\")\n",
    "    torch.save(torch.tensor(tensor_np, dtype=torch.float32), path)\n",
    "    print(f\"[{subject_id}] guardado en {path}\")\n",
    "    logging.info(f\"{subject_id}: saved {path}\")\n",
    "    return path\n",
    "\n",
    "# -------------------------------------------------------------------\n",
    "# 6) MAIN\n",
    "# -------------------------------------------------------------------\n",
    "if __name__ == '__main__':\n",
    "    for sid in tqdm(subject_ids, desc=\"Extracting features\"):\n",
    "        try:\n",
    "            process_subject(sid)\n",
    "        except Exception as e:\n",
    "            logging.error(f\"Subject {sid} failed: {e}\")\n",
    "\n"
   ]
  }
 ],
 "metadata": {
  "kernelspec": {
   "display_name": "Python 3",
   "language": "python",
   "name": "python3"
  },
  "language_info": {
   "codemirror_mode": {
    "name": "ipython",
    "version": 3
   },
   "file_extension": ".py",
   "mimetype": "text/x-python",
   "name": "python",
   "nbconvert_exporter": "python",
   "pygments_lexer": "ipython3",
   "version": "3.8.10"
  }
 },
 "nbformat": 4,
 "nbformat_minor": 2
}
